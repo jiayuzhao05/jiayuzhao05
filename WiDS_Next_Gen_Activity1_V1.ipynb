{
  "nbformat": 4,
  "nbformat_minor": 0,
  "metadata": {
    "colab": {
      "provenance": [],
      "include_colab_link": true
    },
    "kernelspec": {
      "name": "python3",
      "display_name": "Python 3"
    }
  },
  "cells": [
    {
      "cell_type": "markdown",
      "metadata": {
        "id": "view-in-github",
        "colab_type": "text"
      },
      "source": [
        "<a href=\"https://colab.research.google.com/github/jiayuzhao05/jiayuzhao05/blob/main/WiDS_Next_Gen_Activity1_V1.ipynb\" target=\"_parent\"><img src=\"https://colab.research.google.com/assets/colab-badge.svg\" alt=\"Open In Colab\"/></a>"
      ]
    },
    {
      "cell_type": "markdown",
      "metadata": {
        "id": "BTUBwUXacjAh"
      },
      "source": [
        "**BEFORE YOU BEGIN,** please work from a copy of this notebook in your Google Drive *(File > Save a copy in Drive)*.\n",
        "\n",
        "If you skip this step, any changes you make **will not be saved.**\n",
        "\n",
        "\n",
        "---\n",
        "\n"
      ]
    },
    {
      "cell_type": "markdown",
      "metadata": {
        "id": "8XdE3GcrObqZ"
      },
      "source": [
        "---\n",
        "\n",
        "# **Activity 1: Introduction to Data Science**\n",
        "\n",
        "\n",
        "---\n",
        "\n"
      ]
    },
    {
      "cell_type": "markdown",
      "metadata": {
        "id": "_jTjfV3BdrYu"
      },
      "source": [
        "# **Introduction**\n",
        "\n",
        "This activity, created by WiDS Next Gen, guides you through the steps of data analysis and visualization using Python. This activity has a quick run through of how to use Google Colaboratory, then takes you through the steps of graphing and analyzing a set of data of top trending Youtube videos. You will get some practice working with simple Python statements as well as with different data representations and what conclusions you can draw from those graphs.\n",
        "\n",
        "This is an introductory activity, so all of the code has already been written for you -- all you need to do is click a button to run it! We've also included comments about what the code is doing so you can start to get a hang of what Python functions look like. If this activity inspires further interest, there are more explorations and activities about data science and visualization included!"
      ]
    },
    {
      "cell_type": "markdown",
      "metadata": {
        "id": "j8xvs70BV8KB"
      },
      "source": [
        "## What's Colab?"
      ]
    },
    {
      "cell_type": "markdown",
      "metadata": {
        "id": "Iav7mEiAF_-k"
      },
      "source": [
        "*Colaboratory*, or *Colab* for short, is a Google product that allows anybody to write and execute arbitrary Python code through the browser (for free!). Each .ipynb file is called a Colab \"notebook,\" and can be stored in Google Drive just like Google Docs or Sheets, which you may already be familiar with.\n",
        "\n",
        "If you haven't seen or interacted with this kind of document before, don't worry! Just keep following the tutorial in this section and you'll be good to go for the rest of the activity."
      ]
    },
    {
      "cell_type": "markdown",
      "metadata": {
        "id": "SRPn1F27HvsY"
      },
      "source": [
        "###Understanding Notebook Structure"
      ]
    },
    {
      "cell_type": "markdown",
      "metadata": {
        "id": "3Xox3m_9IT3i"
      },
      "source": [
        "The building blocks of every notebook are called *cells.* If you click once on this paragraph, you can see an outline of the cell it lives in. **Try clicking some of the paragraphs or headers from earlier in the notebook to see the separate cells.**"
      ]
    },
    {
      "cell_type": "markdown",
      "metadata": {
        "id": "l-ksS56aJj9I"
      },
      "source": [
        "There are two types of cells: *text* and *code*, which are both editable. *Text cells* contain formatted text, as you've seen, and *code cells* contain executable Python code.\n",
        "\n",
        "Let us demonstrate..."
      ]
    },
    {
      "cell_type": "markdown",
      "metadata": {
        "id": "s0La43CwKU0u"
      },
      "source": [
        "***This is a text cell.***"
      ]
    },
    {
      "cell_type": "code",
      "metadata": {
        "id": "4OBDRbHnKZVN"
      },
      "source": [
        "# And this is a code cell."
      ],
      "execution_count": null,
      "outputs": []
    },
    {
      "cell_type": "markdown",
      "metadata": {
        "id": "aElM7fvANeQq"
      },
      "source": [
        "Next, you'll learn how to create, edit, and move around cells yourself!"
      ]
    },
    {
      "cell_type": "markdown",
      "metadata": {
        "id": "uOlYMswXMFTe"
      },
      "source": [
        "###*Working with Cells*"
      ]
    },
    {
      "cell_type": "markdown",
      "metadata": {
        "id": "_Mi4M81aRRMv"
      },
      "source": [
        "**To CREATE a new cell, hover your mouse over the bottom edge of this cell.** You should see one button for a new code cell, and another for a new text cell.\n",
        "\n",
        "\n",
        "**First, create a new text cell below and write a random sentence or two.** Maybe write about what you ate yesterday, or the video you last watched on YouTube.\n",
        "\n",
        "You may notice something a little funny about the way the text you input looks vs. the text that's actually displayed on the cell. Each text cell is formatted using a syntax that's called Markdown. All it basically does is help mark formatted text (like **bolded** or *italicized* text) in a way that a computer can understand.\n",
        "\n",
        "But don't worry about memorizing the syntax, because you can just use the icons that show up on the top of the cell when you start typing. **Feel free to play around with the icons to understand how they change your text.**\n",
        "\n",
        "***To stop editing, simply click on a different cell.***\n",
        "\n",
        "---"
      ]
    },
    {
      "cell_type": "markdown",
      "metadata": {
        "id": "6B5mEq8NGFGB"
      },
      "source": [
        "**To EDIT an existing cell, double click it.** Try it on the cell you just created."
      ]
    },
    {
      "cell_type": "markdown",
      "metadata": {
        "id": "k4NyFzNtI88M"
      },
      "source": [
        "**To MOVE an existing cell, first select it, then use the ↑ or ↓ arrows on the upper right of the cell to change its position.** Try moving your cell below this one."
      ]
    },
    {
      "cell_type": "markdown",
      "metadata": {
        "id": "STAa67sFKFVm"
      },
      "source": [
        "**To DELETE an existing cell, first select it, then click the trash can icon at the upper right of the cell.** Try it on the cell you created.\n",
        "\n",
        "You may be curious about the other symbols in the top right corner. Feel free to explore what they do.\n",
        "\n",
        "*If you ever want to undo a cell deletion, you can use the Edit dropdown menu above.*"
      ]
    },
    {
      "cell_type": "markdown",
      "metadata": {
        "id": "vNhazbK3LlUY"
      },
      "source": [
        "Hopefully this section helped you become familiar with working with a notebook document. The last thing you need to learn in order to complete this activity is how to run the code, which we'll dive into next."
      ]
    },
    {
      "cell_type": "markdown",
      "metadata": {
        "id": "VNRLMjRlLW6l"
      },
      "source": [
        "###*Running Code Cells*"
      ]
    },
    {
      "cell_type": "markdown",
      "metadata": {
        "id": "ydLhOgb6JlJt"
      },
      "source": [
        "In this activity, we have already written out all the code for you. While you don't need to write any code, you will have to run each cell yourself.\n",
        "\n",
        "**To RUN a code cell, click the [ ▶️ ] icon that appears on the left of the cell when you hover over it with your mouse.**\n",
        "\n",
        "Give it a try below:"
      ]
    },
    {
      "cell_type": "code",
      "metadata": {
        "id": "FstQCyPOiVLH",
        "colab": {
          "base_uri": "https://localhost:8080/"
        },
        "outputId": "d4aa0bf3-49c8-429b-d6e3-4a7a39f24655"
      },
      "source": [
        "# <--- hover your mouse here!\n",
        "\n",
        "# Run this block to print a message!\n",
        "# (Side note: any lines in green like this one are just comments we can add within a code cell to explain what we're doing)\n",
        "\n",
        "print(\"Hello world!\")"
      ],
      "execution_count": null,
      "outputs": [
        {
          "output_type": "stream",
          "name": "stdout",
          "text": [
            "Hello world!\n"
          ]
        }
      ]
    },
    {
      "cell_type": "markdown",
      "metadata": {
        "id": "sqZARQhkKRRq"
      },
      "source": [
        "**If the code has any output, it'll show up underneath the block, where** `Hello world!` **is now.**\n",
        "\n",
        "You may also notice that a number appeared in between the brackets `[ ]`.\n",
        "\n",
        "This number just confirms that a cell has finished running and also tells you the order in which code cells were run. `[1]` means this cell was the first one run, and `[2]` was the second cell run, etc."
      ]
    },
    {
      "cell_type": "markdown",
      "metadata": {
        "id": "iL1dCaPRQAlC"
      },
      "source": [
        "For this activity, you also don't need to worry about trying to figure out exactly how the code works —— we'll explain what each block is doing at each step, so all you need to do is just run them!"
      ]
    },
    {
      "cell_type": "markdown",
      "metadata": {
        "id": "JRRs_9ShQs59"
      },
      "source": [
        "Now that you're a bit more familiar with how a Colab notebook works, let's learn about the dataset we'll be exploring."
      ]
    },
    {
      "cell_type": "markdown",
      "metadata": {
        "id": "PdkybTwViSSJ"
      },
      "source": [
        "## About The Dataset\n",
        "\n",
        "YouTube maintains a list of the [top trending videos](https://www.youtube.com/feed/trending) on the platform. To determine trending videos, \"YouTube uses a combination of factors including measuring users interactions (number of views, shares, comments and likes).\"\n",
        "\n",
        "This dataset includes the daily top 100 trending videos on YouTube, for the week of June 3 - 9, 2018 in the United States.\n",
        "\n",
        "*(Source: [Kaggle](https://www.kaggle.com/datasnaek/youtube-new?select=USvideos.csv))*\n",
        "\n",
        "---\n",
        "\n"
      ]
    },
    {
      "cell_type": "markdown",
      "metadata": {
        "id": "q4ogfQXyQcUa"
      },
      "source": [
        "**You'll need to download the dataset to your computer first. You can access it [here](https://drive.google.com/file/d/1UvtifbVaJMb8x9AkHHMCK14sX9VVuRWK/view?usp=sharing).**\n",
        "\n",
        "*(NOTE: If you have an issue with the download, make sure you have **third-party cookies** enabled on your browser. Click [here](https://akohubteam.medium.com/how-to-enable-third-party-cookies-on-your-browsers-f9a8143b8cc5) to learn how.)*\n",
        "\n",
        "--\n",
        "\n",
        "Now, let's run some code to take a closer look at how our information is structured."
      ]
    },
    {
      "cell_type": "markdown",
      "metadata": {
        "id": "LVqMq8DZOwdG"
      },
      "source": [
        "First, we'll import a few libraries to let the notebook know what specific tools we'll need to work with our data.\n",
        "\n",
        "**You *must* run the cell below before continuing the activity!** (Otherwise, the computer won't understand which specific functions we want to use from each library.)"
      ]
    },
    {
      "cell_type": "code",
      "metadata": {
        "id": "Nai7zG7fJT7F",
        "colab": {
          "base_uri": "https://localhost:8080/"
        },
        "outputId": "40445ba4-efc5-48fa-9bcb-58c2c6a06897"
      },
      "source": [
        "# Import libraries\n",
        "import io\n",
        "import pandas as pd\n",
        "import plotly.express as px\n",
        "\n",
        "print(\"Libraries successfully imported!\")"
      ],
      "execution_count": null,
      "outputs": [
        {
          "output_type": "stream",
          "name": "stdout",
          "text": [
            "Libraries successfully imported!\n"
          ]
        }
      ]
    },
    {
      "cell_type": "markdown",
      "metadata": {
        "id": "F7w8VQjqPROa"
      },
      "source": [
        "Next, we'll upload our dataset to the notebook. **Run the cell below, click *Choose Files* when prompted and select the *WiDS_Activity1.csv* file you downloaded earlier.**"
      ]
    },
    {
      "cell_type": "code",
      "metadata": {
        "id": "JokSXGCFJuZt",
        "colab": {
          "base_uri": "https://localhost:8080/",
          "height": 109
        },
        "outputId": "407fffb5-3e85-4c30-f8d1-5d7d27c0109b"
      },
      "source": [
        "# Upload our dataset\n",
        "from google.colab import files\n",
        "uploaded = files.upload()\n",
        "\n",
        "df = pd.read_csv(io.BytesIO(uploaded['WiDS_Activity1.csv']))\n",
        "\n",
        "print(\"\\nDataset successfully uploaded!\")"
      ],
      "execution_count": null,
      "outputs": [
        {
          "output_type": "display_data",
          "data": {
            "text/plain": [
              "<IPython.core.display.HTML object>"
            ],
            "text/html": [
              "\n",
              "     <input type=\"file\" id=\"files-62b74dc7-a02b-4713-85ac-70c91cc9e65e\" name=\"files[]\" multiple disabled\n",
              "        style=\"border:none\" />\n",
              "     <output id=\"result-62b74dc7-a02b-4713-85ac-70c91cc9e65e\">\n",
              "      Upload widget is only available when the cell has been executed in the\n",
              "      current browser session. Please rerun this cell to enable.\n",
              "      </output>\n",
              "      <script>// Copyright 2017 Google LLC\n",
              "//\n",
              "// Licensed under the Apache License, Version 2.0 (the \"License\");\n",
              "// you may not use this file except in compliance with the License.\n",
              "// You may obtain a copy of the License at\n",
              "//\n",
              "//      http://www.apache.org/licenses/LICENSE-2.0\n",
              "//\n",
              "// Unless required by applicable law or agreed to in writing, software\n",
              "// distributed under the License is distributed on an \"AS IS\" BASIS,\n",
              "// WITHOUT WARRANTIES OR CONDITIONS OF ANY KIND, either express or implied.\n",
              "// See the License for the specific language governing permissions and\n",
              "// limitations under the License.\n",
              "\n",
              "/**\n",
              " * @fileoverview Helpers for google.colab Python module.\n",
              " */\n",
              "(function(scope) {\n",
              "function span(text, styleAttributes = {}) {\n",
              "  const element = document.createElement('span');\n",
              "  element.textContent = text;\n",
              "  for (const key of Object.keys(styleAttributes)) {\n",
              "    element.style[key] = styleAttributes[key];\n",
              "  }\n",
              "  return element;\n",
              "}\n",
              "\n",
              "// Max number of bytes which will be uploaded at a time.\n",
              "const MAX_PAYLOAD_SIZE = 100 * 1024;\n",
              "\n",
              "function _uploadFiles(inputId, outputId) {\n",
              "  const steps = uploadFilesStep(inputId, outputId);\n",
              "  const outputElement = document.getElementById(outputId);\n",
              "  // Cache steps on the outputElement to make it available for the next call\n",
              "  // to uploadFilesContinue from Python.\n",
              "  outputElement.steps = steps;\n",
              "\n",
              "  return _uploadFilesContinue(outputId);\n",
              "}\n",
              "\n",
              "// This is roughly an async generator (not supported in the browser yet),\n",
              "// where there are multiple asynchronous steps and the Python side is going\n",
              "// to poll for completion of each step.\n",
              "// This uses a Promise to block the python side on completion of each step,\n",
              "// then passes the result of the previous step as the input to the next step.\n",
              "function _uploadFilesContinue(outputId) {\n",
              "  const outputElement = document.getElementById(outputId);\n",
              "  const steps = outputElement.steps;\n",
              "\n",
              "  const next = steps.next(outputElement.lastPromiseValue);\n",
              "  return Promise.resolve(next.value.promise).then((value) => {\n",
              "    // Cache the last promise value to make it available to the next\n",
              "    // step of the generator.\n",
              "    outputElement.lastPromiseValue = value;\n",
              "    return next.value.response;\n",
              "  });\n",
              "}\n",
              "\n",
              "/**\n",
              " * Generator function which is called between each async step of the upload\n",
              " * process.\n",
              " * @param {string} inputId Element ID of the input file picker element.\n",
              " * @param {string} outputId Element ID of the output display.\n",
              " * @return {!Iterable<!Object>} Iterable of next steps.\n",
              " */\n",
              "function* uploadFilesStep(inputId, outputId) {\n",
              "  const inputElement = document.getElementById(inputId);\n",
              "  inputElement.disabled = false;\n",
              "\n",
              "  const outputElement = document.getElementById(outputId);\n",
              "  outputElement.innerHTML = '';\n",
              "\n",
              "  const pickedPromise = new Promise((resolve) => {\n",
              "    inputElement.addEventListener('change', (e) => {\n",
              "      resolve(e.target.files);\n",
              "    });\n",
              "  });\n",
              "\n",
              "  const cancel = document.createElement('button');\n",
              "  inputElement.parentElement.appendChild(cancel);\n",
              "  cancel.textContent = 'Cancel upload';\n",
              "  const cancelPromise = new Promise((resolve) => {\n",
              "    cancel.onclick = () => {\n",
              "      resolve(null);\n",
              "    };\n",
              "  });\n",
              "\n",
              "  // Wait for the user to pick the files.\n",
              "  const files = yield {\n",
              "    promise: Promise.race([pickedPromise, cancelPromise]),\n",
              "    response: {\n",
              "      action: 'starting',\n",
              "    }\n",
              "  };\n",
              "\n",
              "  cancel.remove();\n",
              "\n",
              "  // Disable the input element since further picks are not allowed.\n",
              "  inputElement.disabled = true;\n",
              "\n",
              "  if (!files) {\n",
              "    return {\n",
              "      response: {\n",
              "        action: 'complete',\n",
              "      }\n",
              "    };\n",
              "  }\n",
              "\n",
              "  for (const file of files) {\n",
              "    const li = document.createElement('li');\n",
              "    li.append(span(file.name, {fontWeight: 'bold'}));\n",
              "    li.append(span(\n",
              "        `(${file.type || 'n/a'}) - ${file.size} bytes, ` +\n",
              "        `last modified: ${\n",
              "            file.lastModifiedDate ? file.lastModifiedDate.toLocaleDateString() :\n",
              "                                    'n/a'} - `));\n",
              "    const percent = span('0% done');\n",
              "    li.appendChild(percent);\n",
              "\n",
              "    outputElement.appendChild(li);\n",
              "\n",
              "    const fileDataPromise = new Promise((resolve) => {\n",
              "      const reader = new FileReader();\n",
              "      reader.onload = (e) => {\n",
              "        resolve(e.target.result);\n",
              "      };\n",
              "      reader.readAsArrayBuffer(file);\n",
              "    });\n",
              "    // Wait for the data to be ready.\n",
              "    let fileData = yield {\n",
              "      promise: fileDataPromise,\n",
              "      response: {\n",
              "        action: 'continue',\n",
              "      }\n",
              "    };\n",
              "\n",
              "    // Use a chunked sending to avoid message size limits. See b/62115660.\n",
              "    let position = 0;\n",
              "    do {\n",
              "      const length = Math.min(fileData.byteLength - position, MAX_PAYLOAD_SIZE);\n",
              "      const chunk = new Uint8Array(fileData, position, length);\n",
              "      position += length;\n",
              "\n",
              "      const base64 = btoa(String.fromCharCode.apply(null, chunk));\n",
              "      yield {\n",
              "        response: {\n",
              "          action: 'append',\n",
              "          file: file.name,\n",
              "          data: base64,\n",
              "        },\n",
              "      };\n",
              "\n",
              "      let percentDone = fileData.byteLength === 0 ?\n",
              "          100 :\n",
              "          Math.round((position / fileData.byteLength) * 100);\n",
              "      percent.textContent = `${percentDone}% done`;\n",
              "\n",
              "    } while (position < fileData.byteLength);\n",
              "  }\n",
              "\n",
              "  // All done.\n",
              "  yield {\n",
              "    response: {\n",
              "      action: 'complete',\n",
              "    }\n",
              "  };\n",
              "}\n",
              "\n",
              "scope.google = scope.google || {};\n",
              "scope.google.colab = scope.google.colab || {};\n",
              "scope.google.colab._files = {\n",
              "  _uploadFiles,\n",
              "  _uploadFilesContinue,\n",
              "};\n",
              "})(self);\n",
              "</script> "
            ]
          },
          "metadata": {}
        },
        {
          "output_type": "stream",
          "name": "stdout",
          "text": [
            "Saving WiDS_Activity1.csv to WiDS_Activity1.csv\n",
            "\n",
            "Dataset successfully uploaded!\n"
          ]
        }
      ]
    },
    {
      "cell_type": "markdown",
      "metadata": {
        "id": "IJNJjHmLSbJl"
      },
      "source": [
        "Now that we've uploaded the dataset, let's look into how it's structured.\n",
        "\n",
        "**Run the next cell to see how many rows and columns are in the dataset.**\n",
        "\n",
        "The output will be formatted as `(number of rows, number of columns)`."
      ]
    },
    {
      "cell_type": "code",
      "metadata": {
        "id": "_24CQSzts-G4",
        "colab": {
          "base_uri": "https://localhost:8080/"
        },
        "outputId": "4e3affb6-974c-4602-80d0-ab250b16d724"
      },
      "source": [
        "# See the shape/structure of the dataset\n",
        "df.shape"
      ],
      "execution_count": null,
      "outputs": [
        {
          "output_type": "execute_result",
          "data": {
            "text/plain": [
              "(700, 9)"
            ]
          },
          "metadata": {},
          "execution_count": 5
        }
      ]
    },
    {
      "cell_type": "markdown",
      "metadata": {
        "id": "0dOHaVp2S2vL"
      },
      "source": [
        "Ok, so it looks like we have 700 rows, which makes sense because we know that our dataset has 100 entries for each day of the week. But what about those 9 columns? **We can take a peek at the first few rows of the dataset by running the following:**"
      ]
    },
    {
      "cell_type": "code",
      "metadata": {
        "id": "EvBRW7zlszOl",
        "colab": {
          "base_uri": "https://localhost:8080/",
          "height": 461
        },
        "outputId": "215cef0a-7063-4acc-9c1d-743a1f90f768"
      },
      "source": [
        "# Show top 5 rows in dataframe\n",
        "df.head()"
      ],
      "execution_count": null,
      "outputs": [
        {
          "output_type": "execute_result",
          "data": {
            "text/plain": [
              "  trending_date                                              title  \\\n",
              "0      18.03.06  BTS (방탄소년단) 'FAKE LOVE' Official MV (Extended ...   \n",
              "1      18.03.06  Official Call of Duty®: Black Ops 4 — Multipla...   \n",
              "2      18.03.06              Maroon 5 - Girls Like You ft. Cardi B   \n",
              "3      18.03.06  Cardi B, Bad Bunny & J Balvin - I Like It [Off...   \n",
              "4      18.03.06  [CHOREOGRAPHY] BTS (방탄소년단) 'FAKE LOVE' Dance P...   \n",
              "\n",
              "  channel_title category                                               tags  \\\n",
              "0       ibighit    Music  BIGHIT|\"빅히트\"|\"방탄소년단\"|\"BTS\"|\"BANGTAN\"|\"방탄\"|\"fak...   \n",
              "1  Call of Duty   Gaming      call of duty|\"cod\"|\"activision\"|\"Black Ops 4\"   \n",
              "2   Maroon5VEVO    Music  Maroon|\"Girls\"|\"Like\"|\"You\"|\"Interscope\"|\"Reco...   \n",
              "3       Cardi B    Music  Cardi B|\"I Like It\"|\"Invasion of Privacy\"|\"Bad...   \n",
              "4     BANGTANTV    Music  방탄소년단|\"BTS\"|\"BANGTAN\"|\"HIPHOP\"|\"랩몬스터\"|\"RapMons...   \n",
              "\n",
              "      views    likes  dislikes  comment_count  \n",
              "0   8120145  1624230      8402         145872  \n",
              "1   9753197   348498    207752         141363  \n",
              "2  25497666  1547821     23176          98455  \n",
              "3  38779629  1310596     67747          80520  \n",
              "4   8751939  1081236      4038          67537  "
            ],
            "text/html": [
              "\n",
              "  <div id=\"df-cbdbfe92-d371-43c8-bc92-805c3938f1b8\">\n",
              "    <div class=\"colab-df-container\">\n",
              "      <div>\n",
              "<style scoped>\n",
              "    .dataframe tbody tr th:only-of-type {\n",
              "        vertical-align: middle;\n",
              "    }\n",
              "\n",
              "    .dataframe tbody tr th {\n",
              "        vertical-align: top;\n",
              "    }\n",
              "\n",
              "    .dataframe thead th {\n",
              "        text-align: right;\n",
              "    }\n",
              "</style>\n",
              "<table border=\"1\" class=\"dataframe\">\n",
              "  <thead>\n",
              "    <tr style=\"text-align: right;\">\n",
              "      <th></th>\n",
              "      <th>trending_date</th>\n",
              "      <th>title</th>\n",
              "      <th>channel_title</th>\n",
              "      <th>category</th>\n",
              "      <th>tags</th>\n",
              "      <th>views</th>\n",
              "      <th>likes</th>\n",
              "      <th>dislikes</th>\n",
              "      <th>comment_count</th>\n",
              "    </tr>\n",
              "  </thead>\n",
              "  <tbody>\n",
              "    <tr>\n",
              "      <th>0</th>\n",
              "      <td>18.03.06</td>\n",
              "      <td>BTS (방탄소년단) 'FAKE LOVE' Official MV (Extended ...</td>\n",
              "      <td>ibighit</td>\n",
              "      <td>Music</td>\n",
              "      <td>BIGHIT|\"빅히트\"|\"방탄소년단\"|\"BTS\"|\"BANGTAN\"|\"방탄\"|\"fak...</td>\n",
              "      <td>8120145</td>\n",
              "      <td>1624230</td>\n",
              "      <td>8402</td>\n",
              "      <td>145872</td>\n",
              "    </tr>\n",
              "    <tr>\n",
              "      <th>1</th>\n",
              "      <td>18.03.06</td>\n",
              "      <td>Official Call of Duty®: Black Ops 4 — Multipla...</td>\n",
              "      <td>Call of Duty</td>\n",
              "      <td>Gaming</td>\n",
              "      <td>call of duty|\"cod\"|\"activision\"|\"Black Ops 4\"</td>\n",
              "      <td>9753197</td>\n",
              "      <td>348498</td>\n",
              "      <td>207752</td>\n",
              "      <td>141363</td>\n",
              "    </tr>\n",
              "    <tr>\n",
              "      <th>2</th>\n",
              "      <td>18.03.06</td>\n",
              "      <td>Maroon 5 - Girls Like You ft. Cardi B</td>\n",
              "      <td>Maroon5VEVO</td>\n",
              "      <td>Music</td>\n",
              "      <td>Maroon|\"Girls\"|\"Like\"|\"You\"|\"Interscope\"|\"Reco...</td>\n",
              "      <td>25497666</td>\n",
              "      <td>1547821</td>\n",
              "      <td>23176</td>\n",
              "      <td>98455</td>\n",
              "    </tr>\n",
              "    <tr>\n",
              "      <th>3</th>\n",
              "      <td>18.03.06</td>\n",
              "      <td>Cardi B, Bad Bunny &amp; J Balvin - I Like It [Off...</td>\n",
              "      <td>Cardi B</td>\n",
              "      <td>Music</td>\n",
              "      <td>Cardi B|\"I Like It\"|\"Invasion of Privacy\"|\"Bad...</td>\n",
              "      <td>38779629</td>\n",
              "      <td>1310596</td>\n",
              "      <td>67747</td>\n",
              "      <td>80520</td>\n",
              "    </tr>\n",
              "    <tr>\n",
              "      <th>4</th>\n",
              "      <td>18.03.06</td>\n",
              "      <td>[CHOREOGRAPHY] BTS (방탄소년단) 'FAKE LOVE' Dance P...</td>\n",
              "      <td>BANGTANTV</td>\n",
              "      <td>Music</td>\n",
              "      <td>방탄소년단|\"BTS\"|\"BANGTAN\"|\"HIPHOP\"|\"랩몬스터\"|\"RapMons...</td>\n",
              "      <td>8751939</td>\n",
              "      <td>1081236</td>\n",
              "      <td>4038</td>\n",
              "      <td>67537</td>\n",
              "    </tr>\n",
              "  </tbody>\n",
              "</table>\n",
              "</div>\n",
              "      <button class=\"colab-df-convert\" onclick=\"convertToInteractive('df-cbdbfe92-d371-43c8-bc92-805c3938f1b8')\"\n",
              "              title=\"Convert this dataframe to an interactive table.\"\n",
              "              style=\"display:none;\">\n",
              "        \n",
              "  <svg xmlns=\"http://www.w3.org/2000/svg\" height=\"24px\"viewBox=\"0 0 24 24\"\n",
              "       width=\"24px\">\n",
              "    <path d=\"M0 0h24v24H0V0z\" fill=\"none\"/>\n",
              "    <path d=\"M18.56 5.44l.94 2.06.94-2.06 2.06-.94-2.06-.94-.94-2.06-.94 2.06-2.06.94zm-11 1L8.5 8.5l.94-2.06 2.06-.94-2.06-.94L8.5 2.5l-.94 2.06-2.06.94zm10 10l.94 2.06.94-2.06 2.06-.94-2.06-.94-.94-2.06-.94 2.06-2.06.94z\"/><path d=\"M17.41 7.96l-1.37-1.37c-.4-.4-.92-.59-1.43-.59-.52 0-1.04.2-1.43.59L10.3 9.45l-7.72 7.72c-.78.78-.78 2.05 0 2.83L4 21.41c.39.39.9.59 1.41.59.51 0 1.02-.2 1.41-.59l7.78-7.78 2.81-2.81c.8-.78.8-2.07 0-2.86zM5.41 20L4 18.59l7.72-7.72 1.47 1.35L5.41 20z\"/>\n",
              "  </svg>\n",
              "      </button>\n",
              "      \n",
              "  <style>\n",
              "    .colab-df-container {\n",
              "      display:flex;\n",
              "      flex-wrap:wrap;\n",
              "      gap: 12px;\n",
              "    }\n",
              "\n",
              "    .colab-df-convert {\n",
              "      background-color: #E8F0FE;\n",
              "      border: none;\n",
              "      border-radius: 50%;\n",
              "      cursor: pointer;\n",
              "      display: none;\n",
              "      fill: #1967D2;\n",
              "      height: 32px;\n",
              "      padding: 0 0 0 0;\n",
              "      width: 32px;\n",
              "    }\n",
              "\n",
              "    .colab-df-convert:hover {\n",
              "      background-color: #E2EBFA;\n",
              "      box-shadow: 0px 1px 2px rgba(60, 64, 67, 0.3), 0px 1px 3px 1px rgba(60, 64, 67, 0.15);\n",
              "      fill: #174EA6;\n",
              "    }\n",
              "\n",
              "    [theme=dark] .colab-df-convert {\n",
              "      background-color: #3B4455;\n",
              "      fill: #D2E3FC;\n",
              "    }\n",
              "\n",
              "    [theme=dark] .colab-df-convert:hover {\n",
              "      background-color: #434B5C;\n",
              "      box-shadow: 0px 1px 3px 1px rgba(0, 0, 0, 0.15);\n",
              "      filter: drop-shadow(0px 1px 2px rgba(0, 0, 0, 0.3));\n",
              "      fill: #FFFFFF;\n",
              "    }\n",
              "  </style>\n",
              "\n",
              "      <script>\n",
              "        const buttonEl =\n",
              "          document.querySelector('#df-cbdbfe92-d371-43c8-bc92-805c3938f1b8 button.colab-df-convert');\n",
              "        buttonEl.style.display =\n",
              "          google.colab.kernel.accessAllowed ? 'block' : 'none';\n",
              "\n",
              "        async function convertToInteractive(key) {\n",
              "          const element = document.querySelector('#df-cbdbfe92-d371-43c8-bc92-805c3938f1b8');\n",
              "          const dataTable =\n",
              "            await google.colab.kernel.invokeFunction('convertToInteractive',\n",
              "                                                     [key], {});\n",
              "          if (!dataTable) return;\n",
              "\n",
              "          const docLinkHtml = 'Like what you see? Visit the ' +\n",
              "            '<a target=\"_blank\" href=https://colab.research.google.com/notebooks/data_table.ipynb>data table notebook</a>'\n",
              "            + ' to learn more about interactive tables.';\n",
              "          element.innerHTML = '';\n",
              "          dataTable['output_type'] = 'display_data';\n",
              "          await google.colab.output.renderOutput(dataTable, element);\n",
              "          const docLink = document.createElement('div');\n",
              "          docLink.innerHTML = docLinkHtml;\n",
              "          element.appendChild(docLink);\n",
              "        }\n",
              "      </script>\n",
              "    </div>\n",
              "  </div>\n",
              "  "
            ]
          },
          "metadata": {},
          "execution_count": 6
        }
      ]
    },
    {
      "cell_type": "markdown",
      "metadata": {
        "id": "K1L_0VMce31S"
      },
      "source": [
        "# **Kickstart Your Curiosity**"
      ]
    },
    {
      "cell_type": "markdown",
      "metadata": {
        "id": "eDROCYn3Tn3C"
      },
      "source": [
        "Since we now know all the available information in this dataset, we can start asking some questions.\n",
        "\n",
        "**Maybe we want to know all of the top 100 trending videos specifically on June 6th:**"
      ]
    },
    {
      "cell_type": "code",
      "metadata": {
        "id": "2esMB9u3upj6",
        "colab": {
          "base_uri": "https://localhost:8080/",
          "height": 835
        },
        "outputId": "c8878af9-9cbb-4d51-f330-96d81c7f4370"
      },
      "source": [
        "# Filters rows based on date\n",
        "df.loc[df['trending_date']=='18.03.06']"
      ],
      "execution_count": null,
      "outputs": [
        {
          "output_type": "execute_result",
          "data": {
            "text/plain": [
              "   trending_date                                              title  \\\n",
              "0       18.03.06  BTS (방탄소년단) 'FAKE LOVE' Official MV (Extended ...   \n",
              "1       18.03.06  Official Call of Duty®: Black Ops 4 — Multipla...   \n",
              "2       18.03.06              Maroon 5 - Girls Like You ft. Cardi B   \n",
              "3       18.03.06  Cardi B, Bad Bunny & J Balvin - I Like It [Off...   \n",
              "4       18.03.06  [CHOREOGRAPHY] BTS (방탄소년단) 'FAKE LOVE' Dance P...   \n",
              "..           ...                                                ...   \n",
              "95      18.03.06  [King of masked singer] 복면가왕 - 'unicorn' speci...   \n",
              "96      18.03.06  James Veitch’s Elaborate Wrong Number Prank  -...   \n",
              "97      18.03.06            Dan + Shay - Speechless (Wedding Video)   \n",
              "98      18.03.06        Wildlife - Official Teaser I HD I IFC Films   \n",
              "99      18.03.06         Hawaiian lava flows ‘faster than a turtle’   \n",
              "\n",
              "           channel_title          category  \\\n",
              "0                ibighit             Music   \n",
              "1           Call of Duty            Gaming   \n",
              "2            Maroon5VEVO             Music   \n",
              "3                Cardi B             Music   \n",
              "4              BANGTANTV             Music   \n",
              "..                   ...               ...   \n",
              "95      MBCentertainment     Entertainment   \n",
              "96             Team Coco            Comedy   \n",
              "97          Dan And Shay             Music   \n",
              "98             IFC Films  Film & Animation   \n",
              "99  ABC News (Australia)   News & Politics   \n",
              "\n",
              "                                                 tags     views    likes  \\\n",
              "0   BIGHIT|\"빅히트\"|\"방탄소년단\"|\"BTS\"|\"BANGTAN\"|\"방탄\"|\"fak...   8120145  1624230   \n",
              "1       call of duty|\"cod\"|\"activision\"|\"Black Ops 4\"   9753197   348498   \n",
              "2   Maroon|\"Girls\"|\"Like\"|\"You\"|\"Interscope\"|\"Reco...  25497666  1547821   \n",
              "3   Cardi B|\"I Like It\"|\"Invasion of Privacy\"|\"Bad...  38779629  1310596   \n",
              "4   방탄소년단|\"BTS\"|\"BANGTAN\"|\"HIPHOP\"|\"랩몬스터\"|\"RapMons...   8751939  1081236   \n",
              "..                                                ...       ...      ...   \n",
              "95  MBC|\"예능\"|\"일요예능\"|\"일밤\"|\"복면\"|\"가왕\"|\"복면가왕\"|\"김성주\"|\"김...   3744187    53006   \n",
              "96  Conan O'Brien Conan Conan (TV Series) TBS (TV ...   2183540    63438   \n",
              "97  wedding video|\"heartfelt wedding video\"|\"emoti...   3190447    34215   \n",
              "98  IFC Films|\"ifc\"|\"film\"|\"trailer\"|\"2018\"|\"Paul ...   2121136     3281   \n",
              "99  Australia|\"Kilauea\"|\"Hawai'i\"|\"Hawaii\"|\"Leilan...  10277358    49782   \n",
              "\n",
              "    dislikes  comment_count  \n",
              "0       8402         145872  \n",
              "1     207752         141363  \n",
              "2      23176          98455  \n",
              "3      67747          80520  \n",
              "4       4038          67537  \n",
              "..       ...            ...  \n",
              "95       535           2140  \n",
              "96       967            893  \n",
              "97      1090            685  \n",
              "98        76            155  \n",
              "99      3964              0  \n",
              "\n",
              "[100 rows x 9 columns]"
            ],
            "text/html": [
              "\n",
              "  <div id=\"df-173a3d93-08f3-4d4c-9539-490c797dd6fa\">\n",
              "    <div class=\"colab-df-container\">\n",
              "      <div>\n",
              "<style scoped>\n",
              "    .dataframe tbody tr th:only-of-type {\n",
              "        vertical-align: middle;\n",
              "    }\n",
              "\n",
              "    .dataframe tbody tr th {\n",
              "        vertical-align: top;\n",
              "    }\n",
              "\n",
              "    .dataframe thead th {\n",
              "        text-align: right;\n",
              "    }\n",
              "</style>\n",
              "<table border=\"1\" class=\"dataframe\">\n",
              "  <thead>\n",
              "    <tr style=\"text-align: right;\">\n",
              "      <th></th>\n",
              "      <th>trending_date</th>\n",
              "      <th>title</th>\n",
              "      <th>channel_title</th>\n",
              "      <th>category</th>\n",
              "      <th>tags</th>\n",
              "      <th>views</th>\n",
              "      <th>likes</th>\n",
              "      <th>dislikes</th>\n",
              "      <th>comment_count</th>\n",
              "    </tr>\n",
              "  </thead>\n",
              "  <tbody>\n",
              "    <tr>\n",
              "      <th>0</th>\n",
              "      <td>18.03.06</td>\n",
              "      <td>BTS (방탄소년단) 'FAKE LOVE' Official MV (Extended ...</td>\n",
              "      <td>ibighit</td>\n",
              "      <td>Music</td>\n",
              "      <td>BIGHIT|\"빅히트\"|\"방탄소년단\"|\"BTS\"|\"BANGTAN\"|\"방탄\"|\"fak...</td>\n",
              "      <td>8120145</td>\n",
              "      <td>1624230</td>\n",
              "      <td>8402</td>\n",
              "      <td>145872</td>\n",
              "    </tr>\n",
              "    <tr>\n",
              "      <th>1</th>\n",
              "      <td>18.03.06</td>\n",
              "      <td>Official Call of Duty®: Black Ops 4 — Multipla...</td>\n",
              "      <td>Call of Duty</td>\n",
              "      <td>Gaming</td>\n",
              "      <td>call of duty|\"cod\"|\"activision\"|\"Black Ops 4\"</td>\n",
              "      <td>9753197</td>\n",
              "      <td>348498</td>\n",
              "      <td>207752</td>\n",
              "      <td>141363</td>\n",
              "    </tr>\n",
              "    <tr>\n",
              "      <th>2</th>\n",
              "      <td>18.03.06</td>\n",
              "      <td>Maroon 5 - Girls Like You ft. Cardi B</td>\n",
              "      <td>Maroon5VEVO</td>\n",
              "      <td>Music</td>\n",
              "      <td>Maroon|\"Girls\"|\"Like\"|\"You\"|\"Interscope\"|\"Reco...</td>\n",
              "      <td>25497666</td>\n",
              "      <td>1547821</td>\n",
              "      <td>23176</td>\n",
              "      <td>98455</td>\n",
              "    </tr>\n",
              "    <tr>\n",
              "      <th>3</th>\n",
              "      <td>18.03.06</td>\n",
              "      <td>Cardi B, Bad Bunny &amp; J Balvin - I Like It [Off...</td>\n",
              "      <td>Cardi B</td>\n",
              "      <td>Music</td>\n",
              "      <td>Cardi B|\"I Like It\"|\"Invasion of Privacy\"|\"Bad...</td>\n",
              "      <td>38779629</td>\n",
              "      <td>1310596</td>\n",
              "      <td>67747</td>\n",
              "      <td>80520</td>\n",
              "    </tr>\n",
              "    <tr>\n",
              "      <th>4</th>\n",
              "      <td>18.03.06</td>\n",
              "      <td>[CHOREOGRAPHY] BTS (방탄소년단) 'FAKE LOVE' Dance P...</td>\n",
              "      <td>BANGTANTV</td>\n",
              "      <td>Music</td>\n",
              "      <td>방탄소년단|\"BTS\"|\"BANGTAN\"|\"HIPHOP\"|\"랩몬스터\"|\"RapMons...</td>\n",
              "      <td>8751939</td>\n",
              "      <td>1081236</td>\n",
              "      <td>4038</td>\n",
              "      <td>67537</td>\n",
              "    </tr>\n",
              "    <tr>\n",
              "      <th>...</th>\n",
              "      <td>...</td>\n",
              "      <td>...</td>\n",
              "      <td>...</td>\n",
              "      <td>...</td>\n",
              "      <td>...</td>\n",
              "      <td>...</td>\n",
              "      <td>...</td>\n",
              "      <td>...</td>\n",
              "      <td>...</td>\n",
              "    </tr>\n",
              "    <tr>\n",
              "      <th>95</th>\n",
              "      <td>18.03.06</td>\n",
              "      <td>[King of masked singer] 복면가왕 - 'unicorn' speci...</td>\n",
              "      <td>MBCentertainment</td>\n",
              "      <td>Entertainment</td>\n",
              "      <td>MBC|\"예능\"|\"일요예능\"|\"일밤\"|\"복면\"|\"가왕\"|\"복면가왕\"|\"김성주\"|\"김...</td>\n",
              "      <td>3744187</td>\n",
              "      <td>53006</td>\n",
              "      <td>535</td>\n",
              "      <td>2140</td>\n",
              "    </tr>\n",
              "    <tr>\n",
              "      <th>96</th>\n",
              "      <td>18.03.06</td>\n",
              "      <td>James Veitch’s Elaborate Wrong Number Prank  -...</td>\n",
              "      <td>Team Coco</td>\n",
              "      <td>Comedy</td>\n",
              "      <td>Conan O'Brien Conan Conan (TV Series) TBS (TV ...</td>\n",
              "      <td>2183540</td>\n",
              "      <td>63438</td>\n",
              "      <td>967</td>\n",
              "      <td>893</td>\n",
              "    </tr>\n",
              "    <tr>\n",
              "      <th>97</th>\n",
              "      <td>18.03.06</td>\n",
              "      <td>Dan + Shay - Speechless (Wedding Video)</td>\n",
              "      <td>Dan And Shay</td>\n",
              "      <td>Music</td>\n",
              "      <td>wedding video|\"heartfelt wedding video\"|\"emoti...</td>\n",
              "      <td>3190447</td>\n",
              "      <td>34215</td>\n",
              "      <td>1090</td>\n",
              "      <td>685</td>\n",
              "    </tr>\n",
              "    <tr>\n",
              "      <th>98</th>\n",
              "      <td>18.03.06</td>\n",
              "      <td>Wildlife - Official Teaser I HD I IFC Films</td>\n",
              "      <td>IFC Films</td>\n",
              "      <td>Film &amp; Animation</td>\n",
              "      <td>IFC Films|\"ifc\"|\"film\"|\"trailer\"|\"2018\"|\"Paul ...</td>\n",
              "      <td>2121136</td>\n",
              "      <td>3281</td>\n",
              "      <td>76</td>\n",
              "      <td>155</td>\n",
              "    </tr>\n",
              "    <tr>\n",
              "      <th>99</th>\n",
              "      <td>18.03.06</td>\n",
              "      <td>Hawaiian lava flows ‘faster than a turtle’</td>\n",
              "      <td>ABC News (Australia)</td>\n",
              "      <td>News &amp; Politics</td>\n",
              "      <td>Australia|\"Kilauea\"|\"Hawai'i\"|\"Hawaii\"|\"Leilan...</td>\n",
              "      <td>10277358</td>\n",
              "      <td>49782</td>\n",
              "      <td>3964</td>\n",
              "      <td>0</td>\n",
              "    </tr>\n",
              "  </tbody>\n",
              "</table>\n",
              "<p>100 rows × 9 columns</p>\n",
              "</div>\n",
              "      <button class=\"colab-df-convert\" onclick=\"convertToInteractive('df-173a3d93-08f3-4d4c-9539-490c797dd6fa')\"\n",
              "              title=\"Convert this dataframe to an interactive table.\"\n",
              "              style=\"display:none;\">\n",
              "        \n",
              "  <svg xmlns=\"http://www.w3.org/2000/svg\" height=\"24px\"viewBox=\"0 0 24 24\"\n",
              "       width=\"24px\">\n",
              "    <path d=\"M0 0h24v24H0V0z\" fill=\"none\"/>\n",
              "    <path d=\"M18.56 5.44l.94 2.06.94-2.06 2.06-.94-2.06-.94-.94-2.06-.94 2.06-2.06.94zm-11 1L8.5 8.5l.94-2.06 2.06-.94-2.06-.94L8.5 2.5l-.94 2.06-2.06.94zm10 10l.94 2.06.94-2.06 2.06-.94-2.06-.94-.94-2.06-.94 2.06-2.06.94z\"/><path d=\"M17.41 7.96l-1.37-1.37c-.4-.4-.92-.59-1.43-.59-.52 0-1.04.2-1.43.59L10.3 9.45l-7.72 7.72c-.78.78-.78 2.05 0 2.83L4 21.41c.39.39.9.59 1.41.59.51 0 1.02-.2 1.41-.59l7.78-7.78 2.81-2.81c.8-.78.8-2.07 0-2.86zM5.41 20L4 18.59l7.72-7.72 1.47 1.35L5.41 20z\"/>\n",
              "  </svg>\n",
              "      </button>\n",
              "      \n",
              "  <style>\n",
              "    .colab-df-container {\n",
              "      display:flex;\n",
              "      flex-wrap:wrap;\n",
              "      gap: 12px;\n",
              "    }\n",
              "\n",
              "    .colab-df-convert {\n",
              "      background-color: #E8F0FE;\n",
              "      border: none;\n",
              "      border-radius: 50%;\n",
              "      cursor: pointer;\n",
              "      display: none;\n",
              "      fill: #1967D2;\n",
              "      height: 32px;\n",
              "      padding: 0 0 0 0;\n",
              "      width: 32px;\n",
              "    }\n",
              "\n",
              "    .colab-df-convert:hover {\n",
              "      background-color: #E2EBFA;\n",
              "      box-shadow: 0px 1px 2px rgba(60, 64, 67, 0.3), 0px 1px 3px 1px rgba(60, 64, 67, 0.15);\n",
              "      fill: #174EA6;\n",
              "    }\n",
              "\n",
              "    [theme=dark] .colab-df-convert {\n",
              "      background-color: #3B4455;\n",
              "      fill: #D2E3FC;\n",
              "    }\n",
              "\n",
              "    [theme=dark] .colab-df-convert:hover {\n",
              "      background-color: #434B5C;\n",
              "      box-shadow: 0px 1px 3px 1px rgba(0, 0, 0, 0.15);\n",
              "      filter: drop-shadow(0px 1px 2px rgba(0, 0, 0, 0.3));\n",
              "      fill: #FFFFFF;\n",
              "    }\n",
              "  </style>\n",
              "\n",
              "      <script>\n",
              "        const buttonEl =\n",
              "          document.querySelector('#df-173a3d93-08f3-4d4c-9539-490c797dd6fa button.colab-df-convert');\n",
              "        buttonEl.style.display =\n",
              "          google.colab.kernel.accessAllowed ? 'block' : 'none';\n",
              "\n",
              "        async function convertToInteractive(key) {\n",
              "          const element = document.querySelector('#df-173a3d93-08f3-4d4c-9539-490c797dd6fa');\n",
              "          const dataTable =\n",
              "            await google.colab.kernel.invokeFunction('convertToInteractive',\n",
              "                                                     [key], {});\n",
              "          if (!dataTable) return;\n",
              "\n",
              "          const docLinkHtml = 'Like what you see? Visit the ' +\n",
              "            '<a target=\"_blank\" href=https://colab.research.google.com/notebooks/data_table.ipynb>data table notebook</a>'\n",
              "            + ' to learn more about interactive tables.';\n",
              "          element.innerHTML = '';\n",
              "          dataTable['output_type'] = 'display_data';\n",
              "          await google.colab.output.renderOutput(dataTable, element);\n",
              "          const docLink = document.createElement('div');\n",
              "          docLink.innerHTML = docLinkHtml;\n",
              "          element.appendChild(docLink);\n",
              "        }\n",
              "      </script>\n",
              "    </div>\n",
              "  </div>\n",
              "  "
            ]
          },
          "metadata": {},
          "execution_count": 7
        }
      ]
    },
    {
      "cell_type": "markdown",
      "metadata": {
        "id": "x0kdfxiZUkW1"
      },
      "source": [
        "**Or, maybe we want to know the number of days that Cardi B had a top trending video that week:**"
      ]
    },
    {
      "cell_type": "code",
      "metadata": {
        "id": "mfO5liijyvrA",
        "colab": {
          "base_uri": "https://localhost:8080/"
        },
        "outputId": "365909c9-8dbd-458a-bb5a-dd2645f5be67"
      },
      "source": [
        "# Find number of days that a channel has a trending video\n",
        "df.loc[df['channel_title']=='Cardi B'].shape[0]"
      ],
      "execution_count": null,
      "outputs": [
        {
          "output_type": "execute_result",
          "data": {
            "text/plain": [
              "7"
            ]
          },
          "metadata": {},
          "execution_count": 8
        }
      ]
    },
    {
      "cell_type": "markdown",
      "metadata": {
        "id": "Ix9773JOUzqO"
      },
      "source": [
        "There are so, so, *so* many other questions you ask about this data.\n",
        "\n",
        "**Take a moment to list some other questions you might have about these trending YouTube videos. What do you want to know?**\n",
        "\n",
        "*Enter your response by editing the cell below.*"
      ]
    },
    {
      "cell_type": "markdown",
      "metadata": {
        "id": "rIUQJYcpj2qi"
      },
      "source": [
        "<< ***STUDENT RESPONSE*** >>\n",
        "\n",
        "[type answer here]"
      ]
    },
    {
      "cell_type": "markdown",
      "metadata": {
        "id": "t68Z4TK_W_ZO"
      },
      "source": [
        "---\n",
        "\n",
        "Many of the best insights we can gather from data involve looking at trends and patterns --- things that we humans are quite keen at identifying. But it's a little challenging to spot interesting patterns just by looking at a table with words and numbers.\n",
        "\n",
        "That's where *data visualization* comes in. In the next sections, we'll explore 3 different ways of using code to manipulate our dataset and create charts that can help reveal intriguing insights."
      ]
    },
    {
      "cell_type": "markdown",
      "metadata": {
        "id": "r83YKX8dgXL7"
      },
      "source": [
        "# **Exploration 1**"
      ]
    },
    {
      "cell_type": "markdown",
      "metadata": {
        "id": "YQb3AjaYbyM-"
      },
      "source": [
        "In this section, we'll look at how many days each video made it to the top 100 trending list that week."
      ]
    },
    {
      "cell_type": "markdown",
      "metadata": {
        "id": "nBG8FEHxcxDH"
      },
      "source": [
        "1. Count and store the number of days each unique video title is trending"
      ]
    },
    {
      "cell_type": "code",
      "metadata": {
        "id": "9sQ6KpoSciMf",
        "colab": {
          "base_uri": "https://localhost:8080/"
        },
        "outputId": "a2bc15f5-2b40-4d26-ea55-0a9829545629"
      },
      "source": [
        "# Create a structure named \"data\" to store the information we want to graph\n",
        "data = {}\n",
        "\n",
        "print(\"Structure named 'data' created!\")"
      ],
      "execution_count": null,
      "outputs": [
        {
          "output_type": "stream",
          "name": "stdout",
          "text": [
            "Structure named 'data' created!\n"
          ]
        }
      ]
    },
    {
      "cell_type": "code",
      "metadata": {
        "id": "Pei0D9X4xbQp",
        "colab": {
          "base_uri": "https://localhost:8080/"
        },
        "outputId": "85d92049-5557-45a5-a9b4-96d1ec3d7f95"
      },
      "source": [
        "# Count the number of times each unique video title appears in our dataset,\n",
        "# and save this information in \"data\"\n",
        "for t in df['title']:\n",
        "  if t in data:\n",
        "    data[t]+=1\n",
        "  else:\n",
        "    data[t]=1\n",
        "\n",
        "print(\"Number of trending days counted successfully!\")"
      ],
      "execution_count": null,
      "outputs": [
        {
          "output_type": "stream",
          "name": "stdout",
          "text": [
            "Number of trending days counted successfully!\n"
          ]
        }
      ]
    },
    {
      "cell_type": "markdown",
      "metadata": {
        "id": "xFW0iDMEc4Lj"
      },
      "source": [
        "2. Reformat our data for graphing"
      ]
    },
    {
      "cell_type": "code",
      "metadata": {
        "id": "wkx0IHtucoLb",
        "colab": {
          "base_uri": "https://localhost:8080/"
        },
        "outputId": "25c8851b-cbdf-4e3f-d7e4-c04200da4a13"
      },
      "source": [
        "# Create a structure named \"trending_dict\" to store information from \"data\" in\n",
        "# the particular format understood by our graphing function\n",
        "trending_dict = {\n",
        "    'video titles': [],\n",
        "    '# days trending': []\n",
        "}\n",
        "\n",
        "print(\"Structure named 'trending_dict' with columns 'video titles' and '# days trending' created!\")"
      ],
      "execution_count": null,
      "outputs": [
        {
          "output_type": "stream",
          "name": "stdout",
          "text": [
            "Structure named 'trending_dict' with columns 'video titles' and '# days trending' created!\n"
          ]
        }
      ]
    },
    {
      "cell_type": "code",
      "metadata": {
        "id": "Z5YROsrlxgKt",
        "colab": {
          "base_uri": "https://localhost:8080/"
        },
        "outputId": "b748e891-2e03-48c6-ce57-33cee417a909"
      },
      "source": [
        "# Add the info in \"data\" to \"trending_dict\" to prepare for graphing\n",
        "for v in data.keys():\n",
        "  trending_dict['video titles'].append(v)\n",
        "  trending_dict['# days trending'].append(data[v])\n",
        "\n",
        "df1 = pd.DataFrame.from_dict(trending_dict)\n",
        "\n",
        "print(\"Data in 'trending_dict' successfully reformatted for graphing!\")"
      ],
      "execution_count": null,
      "outputs": [
        {
          "output_type": "stream",
          "name": "stdout",
          "text": [
            "Data in 'trending_dict' successfully reformatted for graphing!\n"
          ]
        }
      ]
    },
    {
      "cell_type": "markdown",
      "metadata": {
        "id": "00vHk0dCc8C_"
      },
      "source": [
        "3. Create bar chart"
      ]
    },
    {
      "cell_type": "code",
      "metadata": {
        "id": "34GALO0V0THJ",
        "colab": {
          "base_uri": "https://localhost:8080/",
          "height": 917
        },
        "outputId": "5f1740ef-c64f-4448-e706-12983ad1a966"
      },
      "source": [
        "# Input our properly-formatted data into our graphing function and specify that\n",
        "# the x-axis will contain each unique video, and\n",
        "# the y-axis will be the number of days each video was trending\n",
        "fig = px.bar(df1, x='video titles', y='# days trending', title=\"Total number of days each video was trending in the week of June 3-9, 2018\",height=900)\n",
        "\n",
        "# Clean up visual presentation of the graph\n",
        "fig.update_layout(xaxis={'categoryorder':'total descending'})\n",
        "fig.update_xaxes(tickangle=70)\n",
        "fig.update_yaxes(dtick=1)\n",
        "\n",
        "fig.show()"
      ],
      "execution_count": null,
      "outputs": [
        {
          "output_type": "display_data",
          "data": {
            "text/html": [
              "<html>\n",
              "<head><meta charset=\"utf-8\" /></head>\n",
              "<body>\n",
              "    <div>            <script src=\"https://cdnjs.cloudflare.com/ajax/libs/mathjax/2.7.5/MathJax.js?config=TeX-AMS-MML_SVG\"></script><script type=\"text/javascript\">if (window.MathJax) {MathJax.Hub.Config({SVG: {font: \"STIX-Web\"}});}</script>                <script type=\"text/javascript\">window.PlotlyConfig = {MathJaxConfig: 'local'};</script>\n",
              "        <script src=\"https://cdn.plot.ly/plotly-2.8.3.min.js\"></script>                <div id=\"bdc3eb5b-afc7-4d3c-8f2b-4e27d97b7c34\" class=\"plotly-graph-div\" style=\"height:900px; width:100%;\"></div>            <script type=\"text/javascript\">                                    window.PLOTLYENV=window.PLOTLYENV || {};                                    if (document.getElementById(\"bdc3eb5b-afc7-4d3c-8f2b-4e27d97b7c34\")) {                    Plotly.newPlot(                        \"bdc3eb5b-afc7-4d3c-8f2b-4e27d97b7c34\",                        [{\"alignmentgroup\":\"True\",\"hovertemplate\":\"video titles=%{x}<br># days trending=%{y}<extra></extra>\",\"legendgroup\":\"\",\"marker\":{\"color\":\"#636efa\",\"pattern\":{\"shape\":\"\"}},\"name\":\"\",\"offsetgroup\":\"\",\"orientation\":\"v\",\"showlegend\":false,\"textposition\":\"auto\",\"x\":[\"BTS (\\ubc29\\ud0c4\\uc18c\\ub144\\ub2e8) 'FAKE LOVE' Official MV (Extended ver.)\",\"Official Call of Duty\\u00ae: Black Ops 4 \\u2014\\u00a0Multiplayer Reveal Trailer\",\"Maroon 5 - Girls Like You ft. Cardi B\",\"Cardi B, Bad Bunny & J Balvin - I Like It [Official Music Video]\",\"[CHOREOGRAPHY] BTS (\\ubc29\\ud0c4\\uc18c\\ub144\\ub2e8) 'FAKE LOVE' Dance Practice\",\"BTS Plays With Puppies While Answering Fan Questions\",\"Gorillaz - Humility (Official Video)\",\"Pok\\u00e9mon: Let's Go, Pikachu! and Pok\\u00e9mon: Let's Go, Eevee! Trailer\",\"Why I'm So Scared (being myself and crying too much)\",\"Game Theory: How RICH is a Pokemon Master?\",\"Sanju | Official Trailer | Ranbir Kapoor | Rajkumar Hirani | Releasing on 29th June\",\"Fifth Harmony - Don't Say You Love Me\",\"We Bought A House\",\"The Spider and The Butterfly - Animated Short\",\"Erika Costell - Chitty Bang ft. Jake Paul (Official Music Video)\",\"Backstreet Boys - Don't Go Breaking My Heart (Official Video)\",\"Selena Gomez - Back To You (Lyric Video)\",\"Daddy Yankee - Hielo (Video Oficial)\",\"ZAYN - Entertainer (Official Video)\",\"Live It Up - Nicky Jam feat. Will Smith & Era Istrefi (2018 FIFA World Cup Russia) (Official Audio)\",\"Diplo, French Montana & Lil Pump ft. Zhavia - Welcome To The Party (Official Video)\",\"Rita Ora - Girls ft. Cardi B, Bebe Rexha & Charli XCX (Official Lyric Video)\",\"Giant Darts Battle | Dude Perfect\",\"SUNNY - WAVE ft. Lil Jamez (Official Music Video)\",\"FORTNITE The Movie (Official Fake Trailer)\",\"Christina Aguilera - Fall In Line (Official Video) ft. Demi Lovato\",\"WE MADE OUR MOM CRY...HER DREAM CAME TRUE!\",\"The Deadliest Being on Planet Earth \\u2013 The Bacteriophage\",\"Jennifer Lopez - Dinero ft. DJ Khaled, Cardi B\",\"10 of the Most GIANT Products that Actually Work!\",\"Panic! At The Disco: High Hopes (Audio)\",\"Film Theory: Willy Wonka and the Golden Ticket SCAM! (Willy Wonka and the Chocolate Factory)\",\"Bohemian Rhapsody | Teaser Trailer [HD] | 20th Century FOX\",\"Blind Girl Describes My Face to a Police Sketch Artist!\",\"MOWGLI - Official 1st Trailer\",\"Nicki Minaj - Chun-Li (Live on SNL / 2018)\",\"STRANGERS DO MY MAKEUP IN AUSTRALIA\",\"The ULTIMATE $30,000 Gaming PC Setup\",\"Christopher Robin Official Trailer\",\"$10 Cheesesteak Vs. $120 Cheesesteak\",\"Buying Used Things 2\",\"\\u5468\\u6770\\u502b Jay Chou\\u3010\\u4e0d\\u611b\\u6211\\u5c31\\u62c9\\u5012 If You Don't Love Me, It's Fine\\u3011Official MV\",\"SZA - Garden (Say It Like Dat) (Official Video)\",\"Azealia Banks - Anna Wintour\",\"Lucas the Spider - Giant Spider\",\"YoungBoy Never Broke Again Goes Sneaker Shopping With Complex\",\"LSD - Audio (Official Video) ft. Sia, Diplo, Labrinth\",\"Camels vs. Cactus!!!   \\u062c\\u0645\\u0644\",\"Getting some air, Atlas?\",\"Cooking birthday presents for my wife!\",\"Mission: Impossible - Fallout (2018) - Official Trailer - Paramount Pictures\",\"John Mayer - New Light (Premium Content!)\",\"Sam Smith - Pray (Official Video) ft. Logic\",\"THE GREEN MAKEUP CHALLENGE! | NikkieTutorials\",\"Trying $1 Makeup From Wish\",\"ROYAL WEDDING \\u2014 A Bad Lip Reading\",\"Messing around in the studio\\u2026\",\"Terrible Magicians | Rudy Mancuso & Juanpa Zurita\",\"DOLLAR STORE DIY CHALLENGE\",\"Marshmello x Juicy J - You Can Cry (Ft. James Arthur) (Official Video)\",\"Enrique Iglesias - MOVE TO MIAMI (Official Video) ft. Pitbull\",\"Why You Should Wake Up at 4:30 AM Every Day, According To A Navy SEAL\",\"Carpool Karaoke w/ Adam Levine\",\"The Smallest House In The World\",\"Royal Wedding - SNL\",\"Breaking down 'This Is America,' Childish Gambino's chilling new video\",\"WE GOT INTEL'S PROTOTYPE GRAPHICS CARD!!\",\"Jhen\\u00e9 Aiko & Her Daughter Namiko Love Perform 'Sing To Me' | Dear Mama\",\"Weezer - Africa\",\"Taylor Swift - Delicate (Vertical Version)\",\"Clean Bandit - Solo feat. Demi Lovato [Official Video]\",\"Wait, My Crush is Watching? | Hannah Stocking & Lele Pons\",\"Catching a SHARK by HAND!\",\"BLACKkKLANSMAN - Official Trailer [HD] - In Theaters August 10\",\"Ariana Grande - No Tears Left To Cry (Live On The Tonight Show Starring Jimmy Fallon)\",\"LIE DETECTOR TEST WITH MY GIRLFRIEND!\",\"Destination Wedding Trailer #1 (2018) | Movieclips Trailers\",\"HIGH SCHOOL IN 2008 VS 2018\",\"435\",\"Royal Weddings, Then and Now: Princess Diana, Kate Middleton, and Meghan Markle | The New Yorker\",\"Kim Kardashian Princess Jasmine Transformation\",\"We built the Infinity Gauntlet with 25,000 magnets!\",\"Charlie Puth - BOY [Official Audio]\",\"John Mayer - New Light\",\"THE BICYCLE OF SPRINGS\",\"Calum Scott - What I Miss Most (Official Video)\",\"$150 Bed Vs. $159,000 Bed\",\"Cleveland Cavaliers vs Boston Celtics Full Game Highlights / Game 6 / 2018 NBA Playoffs\",\"John Cena On His Split From Nikki Bella: \\u2018I Had My Heart Broken Out Of Nowhere\\u2019 | TODAY\",\"We Tried To Make The Most Intimidating Pasta Dish (Timpano)\",\"Maddie Poppe Wins American Idol 2018 - Finale - American Idol 2018 on ABC\",\"Sigrid - High Five (Official Video)\",\"Zurcaroh: Golden Buzzer Worthy Aerial Dance Group Impresses Tyra Banks - America's Got Talent 2018\",\"Kelly Clarkson - Meaning of Life [Official Video]\",\"Meghan Trainor - Can't Dance (Audio)\",\"[King of masked singer] \\ubcf5\\uba74\\uac00\\uc655 - 'unicorn' special performance - Tommorrow 20180513\",\"James Veitch\\u2019s Elaborate Wrong Number Prank  - CONAN on TBS\",\"Dan + Shay - Speechless (Wedding Video)\",\"Wildlife - Official Teaser I HD I IFC Films\",\"Hawaiian lava flows \\u2018faster than a turtle\\u2019\",\"SIDEMEN FC VS YOUTUBE ALLSTARS 2018 (Goals & Highlights)\",\"I Filled My Swimming Pool with 10,000 Water Balloons!\",\"TRY NOT TO Slip 'N Slide Through the Wrong MYSTERY BOX!!\",\"I Went To Japan To Make The Most Difficult Omelet\",\"Spinning a Record to Pieces at 12,500fps - The Slow Mo Guys\",\"Peppermint | Official Trailer | In Theaters September 7th, 2018\",\"Game Theory: FNAF STUMPED Me! (FNAF 6 Ultimate Custom Night)\",\"Ralph Breaks the Internet: Wreck-It Ralph 2 Official Trailer\",\"We Mastered That Shiny Dirt Ball\",\"$40 Gym Vs. $10,000 Gym\",\"And the WINNER of Britain\\u2019s Got Talent 2018 is... LOST VOICE GUY! | The Final | BGT 2018\",\"iPhone X \\u2014 Animoji: Taxi Driver \\u2014 Apple\",\"we broke up\",\"Selena Gomez - Back To You\",\"Bumblebee (2018) - Official Teaser Trailer - Paramount Pictures\",\"Old School Trick Shots | Dude Perfect\",\"Shawn Mendes Carpool Karaoke -- #LateLateShawn\",\"The LEGO Movie 2: The Second Part \\u2013 Official Teaser Trailer [HD]\",\"Playing Deadpool With Ryan Reynolds!\",\"SPIDER-MAN: INTO THE SPIDER-VERSE - Official Trailer (HD)\",\"MY APARTMENT TOUR!!\",\"Meghan Trainor - Let You Be Right\",\"Michael Ketterer: Father Of 6 Scores Golden Buzzer From Simon Cowell - America's Got Talent 2018\",\"The 1975 - Give Yourself A Try\",\"Pastry Chef Attempts To Make Gourmet Skittles | Gourmet Makes | Bon App\\u00e9tit\",\"A STAR IS BORN - Official Trailer 1\",\"Wouldn't Leave\",\"Live It Up (Official Video) - Nicky Jam feat. Will Smith & Era Istrefi (2018 FIFA World Cup Russia)\",\"Halloween - Official Trailer (HD)\",\"HOW TO TRAIN YOUR DRAGON: THE HIDDEN WORLD | Official Trailer\",\"Gordon Ramsay vs Madelaine Petsch In VEGAN MASTERCHEF COOK OFF!\",\"Don't Open The Wrong Mystery Door!!\",\"Shawn Mendes Answers the Web's Most Searched Questions | WIRED\",\"SERENITY Official Trailer (2018) Matthew McConaughey, Anne Hathaway Movie HD\",\"Mustard, Nick Jonas - Anywhere\"],\"xaxis\":\"x\",\"y\":[7,7,7,7,7,7,7,7,7,1,7,7,7,7,7,7,7,7,7,6,7,7,3,7,7,7,7,7,7,7,7,7,7,7,3,7,4,7,7,1,7,7,7,7,7,7,6,7,6,7,3,7,6,6,7,7,3,7,7,6,3,7,3,7,7,2,7,1,7,3,7,7,7,7,7,7,7,7,6,5,7,7,7,6,7,7,2,4,2,1,1,7,3,7,2,5,4,7,6,1,6,2,6,4,6,6,5,5,5,5,5,5,4,4,4,4,2,1,3,3,3,3,3,2,2,2,2,1,1,1,1,1,1,1,1],\"yaxis\":\"y\",\"type\":\"bar\"}],                        {\"template\":{\"data\":{\"bar\":[{\"error_x\":{\"color\":\"#2a3f5f\"},\"error_y\":{\"color\":\"#2a3f5f\"},\"marker\":{\"line\":{\"color\":\"#E5ECF6\",\"width\":0.5},\"pattern\":{\"fillmode\":\"overlay\",\"size\":10,\"solidity\":0.2}},\"type\":\"bar\"}],\"barpolar\":[{\"marker\":{\"line\":{\"color\":\"#E5ECF6\",\"width\":0.5},\"pattern\":{\"fillmode\":\"overlay\",\"size\":10,\"solidity\":0.2}},\"type\":\"barpolar\"}],\"carpet\":[{\"aaxis\":{\"endlinecolor\":\"#2a3f5f\",\"gridcolor\":\"white\",\"linecolor\":\"white\",\"minorgridcolor\":\"white\",\"startlinecolor\":\"#2a3f5f\"},\"baxis\":{\"endlinecolor\":\"#2a3f5f\",\"gridcolor\":\"white\",\"linecolor\":\"white\",\"minorgridcolor\":\"white\",\"startlinecolor\":\"#2a3f5f\"},\"type\":\"carpet\"}],\"choropleth\":[{\"colorbar\":{\"outlinewidth\":0,\"ticks\":\"\"},\"type\":\"choropleth\"}],\"contour\":[{\"colorbar\":{\"outlinewidth\":0,\"ticks\":\"\"},\"colorscale\":[[0.0,\"#0d0887\"],[0.1111111111111111,\"#46039f\"],[0.2222222222222222,\"#7201a8\"],[0.3333333333333333,\"#9c179e\"],[0.4444444444444444,\"#bd3786\"],[0.5555555555555556,\"#d8576b\"],[0.6666666666666666,\"#ed7953\"],[0.7777777777777778,\"#fb9f3a\"],[0.8888888888888888,\"#fdca26\"],[1.0,\"#f0f921\"]],\"type\":\"contour\"}],\"contourcarpet\":[{\"colorbar\":{\"outlinewidth\":0,\"ticks\":\"\"},\"type\":\"contourcarpet\"}],\"heatmap\":[{\"colorbar\":{\"outlinewidth\":0,\"ticks\":\"\"},\"colorscale\":[[0.0,\"#0d0887\"],[0.1111111111111111,\"#46039f\"],[0.2222222222222222,\"#7201a8\"],[0.3333333333333333,\"#9c179e\"],[0.4444444444444444,\"#bd3786\"],[0.5555555555555556,\"#d8576b\"],[0.6666666666666666,\"#ed7953\"],[0.7777777777777778,\"#fb9f3a\"],[0.8888888888888888,\"#fdca26\"],[1.0,\"#f0f921\"]],\"type\":\"heatmap\"}],\"heatmapgl\":[{\"colorbar\":{\"outlinewidth\":0,\"ticks\":\"\"},\"colorscale\":[[0.0,\"#0d0887\"],[0.1111111111111111,\"#46039f\"],[0.2222222222222222,\"#7201a8\"],[0.3333333333333333,\"#9c179e\"],[0.4444444444444444,\"#bd3786\"],[0.5555555555555556,\"#d8576b\"],[0.6666666666666666,\"#ed7953\"],[0.7777777777777778,\"#fb9f3a\"],[0.8888888888888888,\"#fdca26\"],[1.0,\"#f0f921\"]],\"type\":\"heatmapgl\"}],\"histogram\":[{\"marker\":{\"pattern\":{\"fillmode\":\"overlay\",\"size\":10,\"solidity\":0.2}},\"type\":\"histogram\"}],\"histogram2d\":[{\"colorbar\":{\"outlinewidth\":0,\"ticks\":\"\"},\"colorscale\":[[0.0,\"#0d0887\"],[0.1111111111111111,\"#46039f\"],[0.2222222222222222,\"#7201a8\"],[0.3333333333333333,\"#9c179e\"],[0.4444444444444444,\"#bd3786\"],[0.5555555555555556,\"#d8576b\"],[0.6666666666666666,\"#ed7953\"],[0.7777777777777778,\"#fb9f3a\"],[0.8888888888888888,\"#fdca26\"],[1.0,\"#f0f921\"]],\"type\":\"histogram2d\"}],\"histogram2dcontour\":[{\"colorbar\":{\"outlinewidth\":0,\"ticks\":\"\"},\"colorscale\":[[0.0,\"#0d0887\"],[0.1111111111111111,\"#46039f\"],[0.2222222222222222,\"#7201a8\"],[0.3333333333333333,\"#9c179e\"],[0.4444444444444444,\"#bd3786\"],[0.5555555555555556,\"#d8576b\"],[0.6666666666666666,\"#ed7953\"],[0.7777777777777778,\"#fb9f3a\"],[0.8888888888888888,\"#fdca26\"],[1.0,\"#f0f921\"]],\"type\":\"histogram2dcontour\"}],\"mesh3d\":[{\"colorbar\":{\"outlinewidth\":0,\"ticks\":\"\"},\"type\":\"mesh3d\"}],\"parcoords\":[{\"line\":{\"colorbar\":{\"outlinewidth\":0,\"ticks\":\"\"}},\"type\":\"parcoords\"}],\"pie\":[{\"automargin\":true,\"type\":\"pie\"}],\"scatter\":[{\"marker\":{\"colorbar\":{\"outlinewidth\":0,\"ticks\":\"\"}},\"type\":\"scatter\"}],\"scatter3d\":[{\"line\":{\"colorbar\":{\"outlinewidth\":0,\"ticks\":\"\"}},\"marker\":{\"colorbar\":{\"outlinewidth\":0,\"ticks\":\"\"}},\"type\":\"scatter3d\"}],\"scattercarpet\":[{\"marker\":{\"colorbar\":{\"outlinewidth\":0,\"ticks\":\"\"}},\"type\":\"scattercarpet\"}],\"scattergeo\":[{\"marker\":{\"colorbar\":{\"outlinewidth\":0,\"ticks\":\"\"}},\"type\":\"scattergeo\"}],\"scattergl\":[{\"marker\":{\"colorbar\":{\"outlinewidth\":0,\"ticks\":\"\"}},\"type\":\"scattergl\"}],\"scattermapbox\":[{\"marker\":{\"colorbar\":{\"outlinewidth\":0,\"ticks\":\"\"}},\"type\":\"scattermapbox\"}],\"scatterpolar\":[{\"marker\":{\"colorbar\":{\"outlinewidth\":0,\"ticks\":\"\"}},\"type\":\"scatterpolar\"}],\"scatterpolargl\":[{\"marker\":{\"colorbar\":{\"outlinewidth\":0,\"ticks\":\"\"}},\"type\":\"scatterpolargl\"}],\"scatterternary\":[{\"marker\":{\"colorbar\":{\"outlinewidth\":0,\"ticks\":\"\"}},\"type\":\"scatterternary\"}],\"surface\":[{\"colorbar\":{\"outlinewidth\":0,\"ticks\":\"\"},\"colorscale\":[[0.0,\"#0d0887\"],[0.1111111111111111,\"#46039f\"],[0.2222222222222222,\"#7201a8\"],[0.3333333333333333,\"#9c179e\"],[0.4444444444444444,\"#bd3786\"],[0.5555555555555556,\"#d8576b\"],[0.6666666666666666,\"#ed7953\"],[0.7777777777777778,\"#fb9f3a\"],[0.8888888888888888,\"#fdca26\"],[1.0,\"#f0f921\"]],\"type\":\"surface\"}],\"table\":[{\"cells\":{\"fill\":{\"color\":\"#EBF0F8\"},\"line\":{\"color\":\"white\"}},\"header\":{\"fill\":{\"color\":\"#C8D4E3\"},\"line\":{\"color\":\"white\"}},\"type\":\"table\"}]},\"layout\":{\"annotationdefaults\":{\"arrowcolor\":\"#2a3f5f\",\"arrowhead\":0,\"arrowwidth\":1},\"autotypenumbers\":\"strict\",\"coloraxis\":{\"colorbar\":{\"outlinewidth\":0,\"ticks\":\"\"}},\"colorscale\":{\"diverging\":[[0,\"#8e0152\"],[0.1,\"#c51b7d\"],[0.2,\"#de77ae\"],[0.3,\"#f1b6da\"],[0.4,\"#fde0ef\"],[0.5,\"#f7f7f7\"],[0.6,\"#e6f5d0\"],[0.7,\"#b8e186\"],[0.8,\"#7fbc41\"],[0.9,\"#4d9221\"],[1,\"#276419\"]],\"sequential\":[[0.0,\"#0d0887\"],[0.1111111111111111,\"#46039f\"],[0.2222222222222222,\"#7201a8\"],[0.3333333333333333,\"#9c179e\"],[0.4444444444444444,\"#bd3786\"],[0.5555555555555556,\"#d8576b\"],[0.6666666666666666,\"#ed7953\"],[0.7777777777777778,\"#fb9f3a\"],[0.8888888888888888,\"#fdca26\"],[1.0,\"#f0f921\"]],\"sequentialminus\":[[0.0,\"#0d0887\"],[0.1111111111111111,\"#46039f\"],[0.2222222222222222,\"#7201a8\"],[0.3333333333333333,\"#9c179e\"],[0.4444444444444444,\"#bd3786\"],[0.5555555555555556,\"#d8576b\"],[0.6666666666666666,\"#ed7953\"],[0.7777777777777778,\"#fb9f3a\"],[0.8888888888888888,\"#fdca26\"],[1.0,\"#f0f921\"]]},\"colorway\":[\"#636efa\",\"#EF553B\",\"#00cc96\",\"#ab63fa\",\"#FFA15A\",\"#19d3f3\",\"#FF6692\",\"#B6E880\",\"#FF97FF\",\"#FECB52\"],\"font\":{\"color\":\"#2a3f5f\"},\"geo\":{\"bgcolor\":\"white\",\"lakecolor\":\"white\",\"landcolor\":\"#E5ECF6\",\"showlakes\":true,\"showland\":true,\"subunitcolor\":\"white\"},\"hoverlabel\":{\"align\":\"left\"},\"hovermode\":\"closest\",\"mapbox\":{\"style\":\"light\"},\"paper_bgcolor\":\"white\",\"plot_bgcolor\":\"#E5ECF6\",\"polar\":{\"angularaxis\":{\"gridcolor\":\"white\",\"linecolor\":\"white\",\"ticks\":\"\"},\"bgcolor\":\"#E5ECF6\",\"radialaxis\":{\"gridcolor\":\"white\",\"linecolor\":\"white\",\"ticks\":\"\"}},\"scene\":{\"xaxis\":{\"backgroundcolor\":\"#E5ECF6\",\"gridcolor\":\"white\",\"gridwidth\":2,\"linecolor\":\"white\",\"showbackground\":true,\"ticks\":\"\",\"zerolinecolor\":\"white\"},\"yaxis\":{\"backgroundcolor\":\"#E5ECF6\",\"gridcolor\":\"white\",\"gridwidth\":2,\"linecolor\":\"white\",\"showbackground\":true,\"ticks\":\"\",\"zerolinecolor\":\"white\"},\"zaxis\":{\"backgroundcolor\":\"#E5ECF6\",\"gridcolor\":\"white\",\"gridwidth\":2,\"linecolor\":\"white\",\"showbackground\":true,\"ticks\":\"\",\"zerolinecolor\":\"white\"}},\"shapedefaults\":{\"line\":{\"color\":\"#2a3f5f\"}},\"ternary\":{\"aaxis\":{\"gridcolor\":\"white\",\"linecolor\":\"white\",\"ticks\":\"\"},\"baxis\":{\"gridcolor\":\"white\",\"linecolor\":\"white\",\"ticks\":\"\"},\"bgcolor\":\"#E5ECF6\",\"caxis\":{\"gridcolor\":\"white\",\"linecolor\":\"white\",\"ticks\":\"\"}},\"title\":{\"x\":0.05},\"xaxis\":{\"automargin\":true,\"gridcolor\":\"white\",\"linecolor\":\"white\",\"ticks\":\"\",\"title\":{\"standoff\":15},\"zerolinecolor\":\"white\",\"zerolinewidth\":2},\"yaxis\":{\"automargin\":true,\"gridcolor\":\"white\",\"linecolor\":\"white\",\"ticks\":\"\",\"title\":{\"standoff\":15},\"zerolinecolor\":\"white\",\"zerolinewidth\":2}}},\"xaxis\":{\"anchor\":\"y\",\"domain\":[0.0,1.0],\"title\":{\"text\":\"video titles\"},\"categoryorder\":\"total descending\",\"tickangle\":70},\"yaxis\":{\"anchor\":\"x\",\"domain\":[0.0,1.0],\"title\":{\"text\":\"# days trending\"},\"dtick\":1},\"legend\":{\"tracegroupgap\":0},\"title\":{\"text\":\"Total number of days each video was trending in the week of June 3-9, 2018\"},\"barmode\":\"relative\",\"height\":900},                        {\"responsive\": true}                    ).then(function(){\n",
              "                            \n",
              "var gd = document.getElementById('bdc3eb5b-afc7-4d3c-8f2b-4e27d97b7c34');\n",
              "var x = new MutationObserver(function (mutations, observer) {{\n",
              "        var display = window.getComputedStyle(gd).display;\n",
              "        if (!display || display === 'none') {{\n",
              "            console.log([gd, 'removed!']);\n",
              "            Plotly.purge(gd);\n",
              "            observer.disconnect();\n",
              "        }}\n",
              "}});\n",
              "\n",
              "// Listen for the removal of the full notebook cells\n",
              "var notebookContainer = gd.closest('#notebook-container');\n",
              "if (notebookContainer) {{\n",
              "    x.observe(notebookContainer, {childList: true});\n",
              "}}\n",
              "\n",
              "// Listen for the clearing of the current output cell\n",
              "var outputEl = gd.closest('.output');\n",
              "if (outputEl) {{\n",
              "    x.observe(outputEl, {childList: true});\n",
              "}}\n",
              "\n",
              "                        })                };                            </script>        </div>\n",
              "</body>\n",
              "</html>"
            ]
          },
          "metadata": {}
        }
      ]
    },
    {
      "cell_type": "markdown",
      "metadata": {
        "id": "ZJTZoqzIbpwE"
      },
      "source": [
        "### Let's Get Analytical\n",
        "\n",
        "**Given the graph above, answer the following questions in the cell below:**\n",
        "\n",
        "(You can hover over each bar for additional information.)\n",
        "\n",
        "1. What do you notice?\n",
        "2. What do you wonder?\n",
        "3. What might be going on in this graph? Write a catchy headline that captures the graph’s main idea."
      ]
    },
    {
      "cell_type": "markdown",
      "metadata": {
        "id": "l34ND7CRlQcR"
      },
      "source": [
        "<< ***STUDENT RESPONSE*** >>\n",
        "\n",
        "1.\n",
        "2.\n",
        "3."
      ]
    },
    {
      "cell_type": "markdown",
      "metadata": {
        "id": "eJwtVwBBkHCC"
      },
      "source": [
        "# **Exploration 2**"
      ]
    },
    {
      "cell_type": "markdown",
      "metadata": {
        "id": "e8O89Alfr9_P"
      },
      "source": [
        "We'll now explore how the view counts for trending videos increased throughout the week."
      ]
    },
    {
      "cell_type": "markdown",
      "metadata": {
        "id": "1YX4FTKytYS2"
      },
      "source": [
        "1. Store a list of the view count for each day a video is trending"
      ]
    },
    {
      "cell_type": "code",
      "metadata": {
        "id": "yz0k4l8OrOlD",
        "colab": {
          "base_uri": "https://localhost:8080/"
        },
        "outputId": "51ac8491-1ae6-465b-9ccd-d8d0715a0de6"
      },
      "source": [
        "# Reset \"data\" (we will use it to store new information for this next graph)\n",
        "data = {}\n",
        "\n",
        "print(\"Structure named 'data' recreated!\")"
      ],
      "execution_count": null,
      "outputs": [
        {
          "output_type": "stream",
          "name": "stdout",
          "text": [
            "Structure named 'data' recreated!\n"
          ]
        }
      ]
    },
    {
      "cell_type": "code",
      "metadata": {
        "id": "OeMkSYObxoZL",
        "colab": {
          "base_uri": "https://localhost:8080/"
        },
        "outputId": "7ca33b1b-fb0c-4242-aa70-156fa2cb82fa"
      },
      "source": [
        "# For each unique video, store the view count for each day it was trending in \"data\"\n",
        "for i,r in df.iterrows():\n",
        "  row = df.iloc[i]\n",
        "  title = row['title'];\n",
        "  views = row['views'];\n",
        "  if title not in data:\n",
        "    data[title] = []\n",
        "  data[title].append(views);\n",
        "\n",
        "print(\"View counts stored successfully!\")"
      ],
      "execution_count": null,
      "outputs": [
        {
          "output_type": "stream",
          "name": "stdout",
          "text": [
            "View counts stored successfully!\n"
          ]
        }
      ]
    },
    {
      "cell_type": "markdown",
      "metadata": {
        "id": "2V41STkVsi3N"
      },
      "source": [
        "2. Calculate the increase in view count for each succeeding trending day"
      ]
    },
    {
      "cell_type": "code",
      "metadata": {
        "id": "n9EBGvXcrR-a",
        "colab": {
          "base_uri": "https://localhost:8080/"
        },
        "outputId": "3ef114a3-26f3-4bda-d40a-1230e5b1d47d"
      },
      "source": [
        "# Using the stored view counts, we can figure out how a trending video's\n",
        "# views increased over time\n",
        "for t in data.keys():\n",
        "  counts = data[t]\n",
        "  deltas = []\n",
        "  nDaysNotTrending = 7 - len(counts)\n",
        "  # Add zeros for days it wasn't trending & Day 1 of trending\n",
        "  for i in range(nDaysNotTrending+1):\n",
        "    deltas.append(0)\n",
        "  for i in range(len(counts)-1):\n",
        "    deltas.append(counts[i+1] - counts[i])\n",
        "  data[t] = deltas\n",
        "\n",
        "print(\"View count increases calculated!\")"
      ],
      "execution_count": null,
      "outputs": [
        {
          "output_type": "stream",
          "name": "stdout",
          "text": [
            "View count increases calculated!\n"
          ]
        }
      ]
    },
    {
      "cell_type": "markdown",
      "metadata": {
        "id": "CKPwt-JWspRt"
      },
      "source": [
        "3. Reformat our data for graphing"
      ]
    },
    {
      "cell_type": "code",
      "metadata": {
        "id": "628ryFN_rU0Y",
        "colab": {
          "base_uri": "https://localhost:8080/"
        },
        "outputId": "75aa45a9-5f7c-43f8-8945-1a2216238963"
      },
      "source": [
        "# Create a structure named \"delta_dict\" to store information from \"data\" (the\n",
        "# differences in view count) in the particular format understood by our\n",
        "# graphing function\n",
        "delta_dict = {\n",
        "    'video title': [],\n",
        "    'day': [],\n",
        "    'new views': []\n",
        "}\n",
        "\n",
        "print(\"Structure named 'delta_dict' with columns 'video title', 'day', and 'new views' created!\")"
      ],
      "execution_count": null,
      "outputs": [
        {
          "output_type": "stream",
          "name": "stdout",
          "text": [
            "Structure named 'delta_dict' with columns 'video title', 'day', and 'new views' created!\n"
          ]
        }
      ]
    },
    {
      "cell_type": "code",
      "metadata": {
        "id": "-VgR5p03xtuX",
        "colab": {
          "base_uri": "https://localhost:8080/"
        },
        "outputId": "2731d0a0-e672-4fc2-f560-3a0bab63aa4b"
      },
      "source": [
        "# Create a list of the dates we will use for the x-axis labels\n",
        "days = [\n",
        "    'June 3, 2018',\n",
        "    'June 4, 2018',\n",
        "    'June 5, 2018',\n",
        "    'June 6, 2018',\n",
        "    'June 7, 2018',\n",
        "    'June 8, 2018',\n",
        "    'June 9, 2018'\n",
        "]\n",
        "\n",
        "print(\"List of the week's dates created!\")"
      ],
      "execution_count": null,
      "outputs": [
        {
          "output_type": "stream",
          "name": "stdout",
          "text": [
            "List of the week's dates created!\n"
          ]
        }
      ]
    },
    {
      "cell_type": "code",
      "metadata": {
        "id": "RzJAhjTPxvGp",
        "colab": {
          "base_uri": "https://localhost:8080/"
        },
        "outputId": "b9a834e6-4a27-452c-d773-3f8d9fc105a1"
      },
      "source": [
        "# Add the info in \"data\" to \"delta_dict\" to prepare for graphing\n",
        "for t in data.keys():\n",
        "  dArray = data[t]\n",
        "  for i in range(len(dArray)):\n",
        "    delta_dict['video title'].append(t)\n",
        "    delta_dict['day'].append(days[i])\n",
        "    delta_dict['new views'].append(dArray[i])\n",
        "\n",
        "df2 = pd.DataFrame.from_dict(delta_dict)\n",
        "\n",
        "print(\"Data in 'delta_dict' successfully reformatted for graphing!\")"
      ],
      "execution_count": null,
      "outputs": [
        {
          "output_type": "stream",
          "name": "stdout",
          "text": [
            "Data in 'delta_dict' successfully reformatted for graphing!\n"
          ]
        }
      ]
    },
    {
      "cell_type": "markdown",
      "metadata": {
        "id": "enV4CoEust11"
      },
      "source": [
        "4. Create line graph"
      ]
    },
    {
      "cell_type": "code",
      "metadata": {
        "id": "0Tozy-LfLUWj",
        "colab": {
          "base_uri": "https://localhost:8080/",
          "height": 542
        },
        "outputId": "3bb12139-d83b-4ea3-a67c-a16c131d2ab0"
      },
      "source": [
        "# Input our properly-formatted data into our graphing function and specify that\n",
        "# the x-axis will contain the days of the week, and\n",
        "# the y-axis will be the number of new views that day (the increase in view count)\n",
        "fig2 = px.line(df2, x='day', y='new views', title=\"Increases in view count of trending videos during the week of June 3-9, 2018\", color='video title')\n",
        "fig2.update_layout(showlegend=False)\n",
        "\n",
        "fig2.show()"
      ],
      "execution_count": null,
      "outputs": [
        {
          "output_type": "display_data",
          "data": {
            "text/html": [
              "<html>\n",
              "<head><meta charset=\"utf-8\" /></head>\n",
              "<body>\n",
              "    <div>            <script src=\"https://cdnjs.cloudflare.com/ajax/libs/mathjax/2.7.5/MathJax.js?config=TeX-AMS-MML_SVG\"></script><script type=\"text/javascript\">if (window.MathJax) {MathJax.Hub.Config({SVG: {font: \"STIX-Web\"}});}</script>                <script type=\"text/javascript\">window.PlotlyConfig = {MathJaxConfig: 'local'};</script>\n",
              "        <script src=\"https://cdn.plot.ly/plotly-2.8.3.min.js\"></script>                <div id=\"d579944c-99a9-48a1-ae3e-023edcd5676a\" class=\"plotly-graph-div\" style=\"height:525px; width:100%;\"></div>            <script type=\"text/javascript\">                                    window.PLOTLYENV=window.PLOTLYENV || {};                                    if (document.getElementById(\"d579944c-99a9-48a1-ae3e-023edcd5676a\")) {                    Plotly.newPlot(                        \"d579944c-99a9-48a1-ae3e-023edcd5676a\",                        [{\"hovertemplate\":\"video title=BTS (\\ubc29\\ud0c4\\uc18c\\ub144\\ub2e8) 'FAKE LOVE' Official MV (Extended ver.)<br>day=%{x}<br>new views=%{y}<extra></extra>\",\"legendgroup\":\"BTS (\\ubc29\\ud0c4\\uc18c\\ub144\\ub2e8) 'FAKE LOVE' Official MV (Extended ver.)\",\"line\":{\"color\":\"#636efa\",\"dash\":\"solid\"},\"marker\":{\"symbol\":\"circle\"},\"mode\":\"lines\",\"name\":\"BTS (\\ubc29\\ud0c4\\uc18c\\ub144\\ub2e8) 'FAKE LOVE' Official MV (Extended ver.)\",\"orientation\":\"v\",\"showlegend\":true,\"x\":[\"June 3, 2018\",\"June 4, 2018\",\"June 5, 2018\",\"June 6, 2018\",\"June 7, 2018\",\"June 8, 2018\",\"June 9, 2018\"],\"xaxis\":\"x\",\"y\":[0,1092459,658757,627092,296441,341249,282421],\"yaxis\":\"y\",\"type\":\"scatter\"},{\"hovertemplate\":\"video title=Official Call of Duty\\u00ae: Black Ops 4 \\u2014\\u00a0Multiplayer Reveal Trailer<br>day=%{x}<br>new views=%{y}<extra></extra>\",\"legendgroup\":\"Official Call of Duty\\u00ae: Black Ops 4 \\u2014\\u00a0Multiplayer Reveal Trailer\",\"line\":{\"color\":\"#EF553B\",\"dash\":\"solid\"},\"marker\":{\"symbol\":\"circle\"},\"mode\":\"lines\",\"name\":\"Official Call of Duty\\u00ae: Black Ops 4 \\u2014\\u00a0Multiplayer Reveal Trailer\",\"orientation\":\"v\",\"showlegend\":true,\"x\":[\"June 3, 2018\",\"June 4, 2018\",\"June 5, 2018\",\"June 6, 2018\",\"June 7, 2018\",\"June 8, 2018\",\"June 9, 2018\"],\"xaxis\":\"x\",\"y\":[0,54667,47130,60828,32989,45334,40811],\"yaxis\":\"y\",\"type\":\"scatter\"},{\"hovertemplate\":\"video title=Maroon 5 - Girls Like You ft. Cardi B<br>day=%{x}<br>new views=%{y}<extra></extra>\",\"legendgroup\":\"Maroon 5 - Girls Like You ft. Cardi B\",\"line\":{\"color\":\"#00cc96\",\"dash\":\"solid\"},\"marker\":{\"symbol\":\"circle\"},\"mode\":\"lines\",\"name\":\"Maroon 5 - Girls Like You ft. Cardi B\",\"orientation\":\"v\",\"showlegend\":true,\"x\":[\"June 3, 2018\",\"June 4, 2018\",\"June 5, 2018\",\"June 6, 2018\",\"June 7, 2018\",\"June 8, 2018\",\"June 9, 2018\"],\"xaxis\":\"x\",\"y\":[0,7015848,6398667,8866197,5627803,6715197,6408199],\"yaxis\":\"y\",\"type\":\"scatter\"},{\"hovertemplate\":\"video title=Cardi B, Bad Bunny & J Balvin - I Like It [Official Music Video]<br>day=%{x}<br>new views=%{y}<extra></extra>\",\"legendgroup\":\"Cardi B, Bad Bunny & J Balvin - I Like It [Official Music Video]\",\"line\":{\"color\":\"#ab63fa\",\"dash\":\"solid\"},\"marker\":{\"symbol\":\"circle\"},\"mode\":\"lines\",\"name\":\"Cardi B, Bad Bunny & J Balvin - I Like It [Official Music Video]\",\"orientation\":\"v\",\"showlegend\":true,\"x\":[\"June 3, 2018\",\"June 4, 2018\",\"June 5, 2018\",\"June 6, 2018\",\"June 7, 2018\",\"June 8, 2018\",\"June 9, 2018\"],\"xaxis\":\"x\",\"y\":[0,5184782,4655015,6060606,4722027,5747010,5568142],\"yaxis\":\"y\",\"type\":\"scatter\"},{\"hovertemplate\":\"video title=[CHOREOGRAPHY] BTS (\\ubc29\\ud0c4\\uc18c\\ub144\\ub2e8) 'FAKE LOVE' Dance Practice<br>day=%{x}<br>new views=%{y}<extra></extra>\",\"legendgroup\":\"[CHOREOGRAPHY] BTS (\\ubc29\\ud0c4\\uc18c\\ub144\\ub2e8) 'FAKE LOVE' Dance Practice\",\"line\":{\"color\":\"#FFA15A\",\"dash\":\"solid\"},\"marker\":{\"symbol\":\"circle\"},\"mode\":\"lines\",\"name\":\"[CHOREOGRAPHY] BTS (\\ubc29\\ud0c4\\uc18c\\ub144\\ub2e8) 'FAKE LOVE' Dance Practice\",\"orientation\":\"v\",\"showlegend\":true,\"x\":[\"June 3, 2018\",\"June 4, 2018\",\"June 5, 2018\",\"June 6, 2018\",\"June 7, 2018\",\"June 8, 2018\",\"June 9, 2018\"],\"xaxis\":\"x\",\"y\":[0,335130,249826,479690,185085,239279,226598],\"yaxis\":\"y\",\"type\":\"scatter\"},{\"hovertemplate\":\"video title=BTS Plays With Puppies While Answering Fan Questions<br>day=%{x}<br>new views=%{y}<extra></extra>\",\"legendgroup\":\"BTS Plays With Puppies While Answering Fan Questions\",\"line\":{\"color\":\"#19d3f3\",\"dash\":\"solid\"},\"marker\":{\"symbol\":\"circle\"},\"mode\":\"lines\",\"name\":\"BTS Plays With Puppies While Answering Fan Questions\",\"orientation\":\"v\",\"showlegend\":true,\"x\":[\"June 3, 2018\",\"June 4, 2018\",\"June 5, 2018\",\"June 6, 2018\",\"June 7, 2018\",\"June 8, 2018\",\"June 9, 2018\"],\"xaxis\":\"x\",\"y\":[0,163814,98403,147160,72017,80241,70560],\"yaxis\":\"y\",\"type\":\"scatter\"},{\"hovertemplate\":\"video title=Gorillaz - Humility (Official Video)<br>day=%{x}<br>new views=%{y}<extra></extra>\",\"legendgroup\":\"Gorillaz - Humility (Official Video)\",\"line\":{\"color\":\"#FF6692\",\"dash\":\"solid\"},\"marker\":{\"symbol\":\"circle\"},\"mode\":\"lines\",\"name\":\"Gorillaz - Humility (Official Video)\",\"orientation\":\"v\",\"showlegend\":true,\"x\":[\"June 3, 2018\",\"June 4, 2018\",\"June 5, 2018\",\"June 6, 2018\",\"June 7, 2018\",\"June 8, 2018\",\"June 9, 2018\"],\"xaxis\":\"x\",\"y\":[0,2390432,1836848,2021558,1373954,1625652,1147093],\"yaxis\":\"y\",\"type\":\"scatter\"},{\"hovertemplate\":\"video title=Pok\\u00e9mon: Let's Go, Pikachu! and Pok\\u00e9mon: Let's Go, Eevee! Trailer<br>day=%{x}<br>new views=%{y}<extra></extra>\",\"legendgroup\":\"Pok\\u00e9mon: Let's Go, Pikachu! and Pok\\u00e9mon: Let's Go, Eevee! Trailer\",\"line\":{\"color\":\"#B6E880\",\"dash\":\"solid\"},\"marker\":{\"symbol\":\"circle\"},\"mode\":\"lines\",\"name\":\"Pok\\u00e9mon: Let's Go, Pikachu! and Pok\\u00e9mon: Let's Go, Eevee! Trailer\",\"orientation\":\"v\",\"showlegend\":true,\"x\":[\"June 3, 2018\",\"June 4, 2018\",\"June 5, 2018\",\"June 6, 2018\",\"June 7, 2018\",\"June 8, 2018\",\"June 9, 2018\"],\"xaxis\":\"x\",\"y\":[0,623441,452925,352344,158022,120604,96341],\"yaxis\":\"y\",\"type\":\"scatter\"},{\"hovertemplate\":\"video title=Why I'm So Scared (being myself and crying too much)<br>day=%{x}<br>new views=%{y}<extra></extra>\",\"legendgroup\":\"Why I'm So Scared (being myself and crying too much)\",\"line\":{\"color\":\"#FF97FF\",\"dash\":\"solid\"},\"marker\":{\"symbol\":\"circle\"},\"mode\":\"lines\",\"name\":\"Why I'm So Scared (being myself and crying too much)\",\"orientation\":\"v\",\"showlegend\":true,\"x\":[\"June 3, 2018\",\"June 4, 2018\",\"June 5, 2018\",\"June 6, 2018\",\"June 7, 2018\",\"June 8, 2018\",\"June 9, 2018\"],\"xaxis\":\"x\",\"y\":[0,7853,7440,9463,8624,7595,5294],\"yaxis\":\"y\",\"type\":\"scatter\"},{\"hovertemplate\":\"video title=Game Theory: How RICH is a Pokemon Master?<br>day=%{x}<br>new views=%{y}<extra></extra>\",\"legendgroup\":\"Game Theory: How RICH is a Pokemon Master?\",\"line\":{\"color\":\"#FECB52\",\"dash\":\"solid\"},\"marker\":{\"symbol\":\"circle\"},\"mode\":\"lines\",\"name\":\"Game Theory: How RICH is a Pokemon Master?\",\"orientation\":\"v\",\"showlegend\":true,\"x\":[\"June 3, 2018\",\"June 4, 2018\",\"June 5, 2018\",\"June 6, 2018\",\"June 7, 2018\",\"June 8, 2018\",\"June 9, 2018\"],\"xaxis\":\"x\",\"y\":[0,0,0,0,0,0,0],\"yaxis\":\"y\",\"type\":\"scatter\"},{\"hovertemplate\":\"video title=Sanju | Official Trailer | Ranbir Kapoor | Rajkumar Hirani | Releasing on 29th June<br>day=%{x}<br>new views=%{y}<extra></extra>\",\"legendgroup\":\"Sanju | Official Trailer | Ranbir Kapoor | Rajkumar Hirani | Releasing on 29th June\",\"line\":{\"color\":\"#636efa\",\"dash\":\"solid\"},\"marker\":{\"symbol\":\"circle\"},\"mode\":\"lines\",\"name\":\"Sanju | Official Trailer | Ranbir Kapoor | Rajkumar Hirani | Releasing on 29th June\",\"orientation\":\"v\",\"showlegend\":true,\"x\":[\"June 3, 2018\",\"June 4, 2018\",\"June 5, 2018\",\"June 6, 2018\",\"June 7, 2018\",\"June 8, 2018\",\"June 9, 2018\"],\"xaxis\":\"x\",\"y\":[0,2724542,1499024,1574743,567504,632964,533415],\"yaxis\":\"y\",\"type\":\"scatter\"},{\"hovertemplate\":\"video title=Fifth Harmony - Don't Say You Love Me<br>day=%{x}<br>new views=%{y}<extra></extra>\",\"legendgroup\":\"Fifth Harmony - Don't Say You Love Me\",\"line\":{\"color\":\"#EF553B\",\"dash\":\"solid\"},\"marker\":{\"symbol\":\"circle\"},\"mode\":\"lines\",\"name\":\"Fifth Harmony - Don't Say You Love Me\",\"orientation\":\"v\",\"showlegend\":true,\"x\":[\"June 3, 2018\",\"June 4, 2018\",\"June 5, 2018\",\"June 6, 2018\",\"June 7, 2018\",\"June 8, 2018\",\"June 9, 2018\"],\"xaxis\":\"x\",\"y\":[0,684320,751469,1023335,550378,708404,599629],\"yaxis\":\"y\",\"type\":\"scatter\"},{\"hovertemplate\":\"video title=We Bought A House<br>day=%{x}<br>new views=%{y}<extra></extra>\",\"legendgroup\":\"We Bought A House\",\"line\":{\"color\":\"#00cc96\",\"dash\":\"solid\"},\"marker\":{\"symbol\":\"circle\"},\"mode\":\"lines\",\"name\":\"We Bought A House\",\"orientation\":\"v\",\"showlegend\":true,\"x\":[\"June 3, 2018\",\"June 4, 2018\",\"June 5, 2018\",\"June 6, 2018\",\"June 7, 2018\",\"June 8, 2018\",\"June 9, 2018\"],\"xaxis\":\"x\",\"y\":[0,10759,9553,12693,7891,19657,12852],\"yaxis\":\"y\",\"type\":\"scatter\"},{\"hovertemplate\":\"video title=The Spider and The Butterfly - Animated Short<br>day=%{x}<br>new views=%{y}<extra></extra>\",\"legendgroup\":\"The Spider and The Butterfly - Animated Short\",\"line\":{\"color\":\"#ab63fa\",\"dash\":\"solid\"},\"marker\":{\"symbol\":\"circle\"},\"mode\":\"lines\",\"name\":\"The Spider and The Butterfly - Animated Short\",\"orientation\":\"v\",\"showlegend\":true,\"x\":[\"June 3, 2018\",\"June 4, 2018\",\"June 5, 2018\",\"June 6, 2018\",\"June 7, 2018\",\"June 8, 2018\",\"June 9, 2018\"],\"xaxis\":\"x\",\"y\":[0,111358,84371,97372,45753,66603,89336],\"yaxis\":\"y\",\"type\":\"scatter\"},{\"hovertemplate\":\"video title=Erika Costell - Chitty Bang ft. Jake Paul (Official Music Video)<br>day=%{x}<br>new views=%{y}<extra></extra>\",\"legendgroup\":\"Erika Costell - Chitty Bang ft. Jake Paul (Official Music Video)\",\"line\":{\"color\":\"#FFA15A\",\"dash\":\"solid\"},\"marker\":{\"symbol\":\"circle\"},\"mode\":\"lines\",\"name\":\"Erika Costell - Chitty Bang ft. Jake Paul (Official Music Video)\",\"orientation\":\"v\",\"showlegend\":true,\"x\":[\"June 3, 2018\",\"June 4, 2018\",\"June 5, 2018\",\"June 6, 2018\",\"June 7, 2018\",\"June 8, 2018\",\"June 9, 2018\"],\"xaxis\":\"x\",\"y\":[0,470360,362933,363548,277605,274465,243966],\"yaxis\":\"y\",\"type\":\"scatter\"},{\"hovertemplate\":\"video title=Backstreet Boys - Don't Go Breaking My Heart (Official Video)<br>day=%{x}<br>new views=%{y}<extra></extra>\",\"legendgroup\":\"Backstreet Boys - Don't Go Breaking My Heart (Official Video)\",\"line\":{\"color\":\"#19d3f3\",\"dash\":\"solid\"},\"marker\":{\"symbol\":\"circle\"},\"mode\":\"lines\",\"name\":\"Backstreet Boys - Don't Go Breaking My Heart (Official Video)\",\"orientation\":\"v\",\"showlegend\":true,\"x\":[\"June 3, 2018\",\"June 4, 2018\",\"June 5, 2018\",\"June 6, 2018\",\"June 7, 2018\",\"June 8, 2018\",\"June 9, 2018\"],\"xaxis\":\"x\",\"y\":[0,332364,338633,433482,239556,305784,290256],\"yaxis\":\"y\",\"type\":\"scatter\"},{\"hovertemplate\":\"video title=Selena Gomez - Back To You (Lyric Video)<br>day=%{x}<br>new views=%{y}<extra></extra>\",\"legendgroup\":\"Selena Gomez - Back To You (Lyric Video)\",\"line\":{\"color\":\"#FF6692\",\"dash\":\"solid\"},\"marker\":{\"symbol\":\"circle\"},\"mode\":\"lines\",\"name\":\"Selena Gomez - Back To You (Lyric Video)\",\"orientation\":\"v\",\"showlegend\":true,\"x\":[\"June 3, 2018\",\"June 4, 2018\",\"June 5, 2018\",\"June 6, 2018\",\"June 7, 2018\",\"June 8, 2018\",\"June 9, 2018\"],\"xaxis\":\"x\",\"y\":[0,1745611,1760105,2443933,1345646,1580288,1449107],\"yaxis\":\"y\",\"type\":\"scatter\"},{\"hovertemplate\":\"video title=Daddy Yankee - Hielo (Video Oficial)<br>day=%{x}<br>new views=%{y}<extra></extra>\",\"legendgroup\":\"Daddy Yankee - Hielo (Video Oficial)\",\"line\":{\"color\":\"#B6E880\",\"dash\":\"solid\"},\"marker\":{\"symbol\":\"circle\"},\"mode\":\"lines\",\"name\":\"Daddy Yankee - Hielo (Video Oficial)\",\"orientation\":\"v\",\"showlegend\":true,\"x\":[\"June 3, 2018\",\"June 4, 2018\",\"June 5, 2018\",\"June 6, 2018\",\"June 7, 2018\",\"June 8, 2018\",\"June 9, 2018\"],\"xaxis\":\"x\",\"y\":[0,1335462,1296752,1141660,547666,653617,607162],\"yaxis\":\"y\",\"type\":\"scatter\"},{\"hovertemplate\":\"video title=ZAYN - Entertainer (Official Video)<br>day=%{x}<br>new views=%{y}<extra></extra>\",\"legendgroup\":\"ZAYN - Entertainer (Official Video)\",\"line\":{\"color\":\"#FF97FF\",\"dash\":\"solid\"},\"marker\":{\"symbol\":\"circle\"},\"mode\":\"lines\",\"name\":\"ZAYN - Entertainer (Official Video)\",\"orientation\":\"v\",\"showlegend\":true,\"x\":[\"June 3, 2018\",\"June 4, 2018\",\"June 5, 2018\",\"June 6, 2018\",\"June 7, 2018\",\"June 8, 2018\",\"June 9, 2018\"],\"xaxis\":\"x\",\"y\":[0,755693,778553,1035540,521271,592712,515537],\"yaxis\":\"y\",\"type\":\"scatter\"},{\"hovertemplate\":\"video title=Live It Up - Nicky Jam feat. Will Smith & Era Istrefi (2018 FIFA World Cup Russia) (Official Audio)<br>day=%{x}<br>new views=%{y}<extra></extra>\",\"legendgroup\":\"Live It Up - Nicky Jam feat. Will Smith & Era Istrefi (2018 FIFA World Cup Russia) (Official Audio)\",\"line\":{\"color\":\"#FECB52\",\"dash\":\"solid\"},\"marker\":{\"symbol\":\"circle\"},\"mode\":\"lines\",\"name\":\"Live It Up - Nicky Jam feat. Will Smith & Era Istrefi (2018 FIFA World Cup Russia) (Official Audio)\",\"orientation\":\"v\",\"showlegend\":true,\"x\":[\"June 3, 2018\",\"June 4, 2018\",\"June 5, 2018\",\"June 6, 2018\",\"June 7, 2018\",\"June 8, 2018\",\"June 9, 2018\"],\"xaxis\":\"x\",\"y\":[0,0,684579,649713,919531,519301,646629],\"yaxis\":\"y\",\"type\":\"scatter\"},{\"hovertemplate\":\"video title=Diplo, French Montana & Lil Pump ft. Zhavia - Welcome To The Party (Official Video)<br>day=%{x}<br>new views=%{y}<extra></extra>\",\"legendgroup\":\"Diplo, French Montana & Lil Pump ft. Zhavia - Welcome To The Party (Official Video)\",\"line\":{\"color\":\"#636efa\",\"dash\":\"solid\"},\"marker\":{\"symbol\":\"circle\"},\"mode\":\"lines\",\"name\":\"Diplo, French Montana & Lil Pump ft. Zhavia - Welcome To The Party (Official Video)\",\"orientation\":\"v\",\"showlegend\":true,\"x\":[\"June 3, 2018\",\"June 4, 2018\",\"June 5, 2018\",\"June 6, 2018\",\"June 7, 2018\",\"June 8, 2018\",\"June 9, 2018\"],\"xaxis\":\"x\",\"y\":[0,2211109,2155238,2920871,1747940,2173357,1982406],\"yaxis\":\"y\",\"type\":\"scatter\"},{\"hovertemplate\":\"video title=Rita Ora - Girls ft. Cardi B, Bebe Rexha & Charli XCX (Official Lyric Video)<br>day=%{x}<br>new views=%{y}<extra></extra>\",\"legendgroup\":\"Rita Ora - Girls ft. Cardi B, Bebe Rexha & Charli XCX (Official Lyric Video)\",\"line\":{\"color\":\"#EF553B\",\"dash\":\"solid\"},\"marker\":{\"symbol\":\"circle\"},\"mode\":\"lines\",\"name\":\"Rita Ora - Girls ft. Cardi B, Bebe Rexha & Charli XCX (Official Lyric Video)\",\"orientation\":\"v\",\"showlegend\":true,\"x\":[\"June 3, 2018\",\"June 4, 2018\",\"June 5, 2018\",\"June 6, 2018\",\"June 7, 2018\",\"June 8, 2018\",\"June 9, 2018\"],\"xaxis\":\"x\",\"y\":[0,581799,581044,773050,375759,443727,363832],\"yaxis\":\"y\",\"type\":\"scatter\"},{\"hovertemplate\":\"video title=Giant Darts Battle | Dude Perfect<br>day=%{x}<br>new views=%{y}<extra></extra>\",\"legendgroup\":\"Giant Darts Battle | Dude Perfect\",\"line\":{\"color\":\"#00cc96\",\"dash\":\"solid\"},\"marker\":{\"symbol\":\"circle\"},\"mode\":\"lines\",\"name\":\"Giant Darts Battle | Dude Perfect\",\"orientation\":\"v\",\"showlegend\":true,\"x\":[\"June 3, 2018\",\"June 4, 2018\",\"June 5, 2018\",\"June 6, 2018\",\"June 7, 2018\",\"June 8, 2018\",\"June 9, 2018\"],\"xaxis\":\"x\",\"y\":[0,0,0,0,0,181944,183706],\"yaxis\":\"y\",\"type\":\"scatter\"},{\"hovertemplate\":\"video title=SUNNY - WAVE ft. Lil Jamez (Official Music Video)<br>day=%{x}<br>new views=%{y}<extra></extra>\",\"legendgroup\":\"SUNNY - WAVE ft. Lil Jamez (Official Music Video)\",\"line\":{\"color\":\"#ab63fa\",\"dash\":\"solid\"},\"marker\":{\"symbol\":\"circle\"},\"mode\":\"lines\",\"name\":\"SUNNY - WAVE ft. Lil Jamez (Official Music Video)\",\"orientation\":\"v\",\"showlegend\":true,\"x\":[\"June 3, 2018\",\"June 4, 2018\",\"June 5, 2018\",\"June 6, 2018\",\"June 7, 2018\",\"June 8, 2018\",\"June 9, 2018\"],\"xaxis\":\"x\",\"y\":[0,68668,58647,54210,32431,33880,31299],\"yaxis\":\"y\",\"type\":\"scatter\"},{\"hovertemplate\":\"video title=FORTNITE The Movie (Official Fake Trailer)<br>day=%{x}<br>new views=%{y}<extra></extra>\",\"legendgroup\":\"FORTNITE The Movie (Official Fake Trailer)\",\"line\":{\"color\":\"#FFA15A\",\"dash\":\"solid\"},\"marker\":{\"symbol\":\"circle\"},\"mode\":\"lines\",\"name\":\"FORTNITE The Movie (Official Fake Trailer)\",\"orientation\":\"v\",\"showlegend\":true,\"x\":[\"June 3, 2018\",\"June 4, 2018\",\"June 5, 2018\",\"June 6, 2018\",\"June 7, 2018\",\"June 8, 2018\",\"June 9, 2018\"],\"xaxis\":\"x\",\"y\":[0,152681,99897,121622,72257,99702,118028],\"yaxis\":\"y\",\"type\":\"scatter\"},{\"hovertemplate\":\"video title=Christina Aguilera - Fall In Line (Official Video) ft. Demi Lovato<br>day=%{x}<br>new views=%{y}<extra></extra>\",\"legendgroup\":\"Christina Aguilera - Fall In Line (Official Video) ft. Demi Lovato\",\"line\":{\"color\":\"#19d3f3\",\"dash\":\"solid\"},\"marker\":{\"symbol\":\"circle\"},\"mode\":\"lines\",\"name\":\"Christina Aguilera - Fall In Line (Official Video) ft. Demi Lovato\",\"orientation\":\"v\",\"showlegend\":true,\"x\":[\"June 3, 2018\",\"June 4, 2018\",\"June 5, 2018\",\"June 6, 2018\",\"June 7, 2018\",\"June 8, 2018\",\"June 9, 2018\"],\"xaxis\":\"x\",\"y\":[0,532818,510333,677564,380023,456823,408172],\"yaxis\":\"y\",\"type\":\"scatter\"},{\"hovertemplate\":\"video title=WE MADE OUR MOM CRY...HER DREAM CAME TRUE!<br>day=%{x}<br>new views=%{y}<extra></extra>\",\"legendgroup\":\"WE MADE OUR MOM CRY...HER DREAM CAME TRUE!\",\"line\":{\"color\":\"#FF6692\",\"dash\":\"solid\"},\"marker\":{\"symbol\":\"circle\"},\"mode\":\"lines\",\"name\":\"WE MADE OUR MOM CRY...HER DREAM CAME TRUE!\",\"orientation\":\"v\",\"showlegend\":true,\"x\":[\"June 3, 2018\",\"June 4, 2018\",\"June 5, 2018\",\"June 6, 2018\",\"June 7, 2018\",\"June 8, 2018\",\"June 9, 2018\"],\"xaxis\":\"x\",\"y\":[0,115828,112192,160251,113494,145047,133721],\"yaxis\":\"y\",\"type\":\"scatter\"},{\"hovertemplate\":\"video title=The Deadliest Being on Planet Earth \\u2013 The Bacteriophage<br>day=%{x}<br>new views=%{y}<extra></extra>\",\"legendgroup\":\"The Deadliest Being on Planet Earth \\u2013 The Bacteriophage\",\"line\":{\"color\":\"#B6E880\",\"dash\":\"solid\"},\"marker\":{\"symbol\":\"circle\"},\"mode\":\"lines\",\"name\":\"The Deadliest Being on Planet Earth \\u2013 The Bacteriophage\",\"orientation\":\"v\",\"showlegend\":true,\"x\":[\"June 3, 2018\",\"June 4, 2018\",\"June 5, 2018\",\"June 6, 2018\",\"June 7, 2018\",\"June 8, 2018\",\"June 9, 2018\"],\"xaxis\":\"x\",\"y\":[0,26751,19428,26890,14812,20373,17787],\"yaxis\":\"y\",\"type\":\"scatter\"},{\"hovertemplate\":\"video title=Jennifer Lopez - Dinero ft. DJ Khaled, Cardi B<br>day=%{x}<br>new views=%{y}<extra></extra>\",\"legendgroup\":\"Jennifer Lopez - Dinero ft. DJ Khaled, Cardi B\",\"line\":{\"color\":\"#FF97FF\",\"dash\":\"solid\"},\"marker\":{\"symbol\":\"circle\"},\"mode\":\"lines\",\"name\":\"Jennifer Lopez - Dinero ft. DJ Khaled, Cardi B\",\"orientation\":\"v\",\"showlegend\":true,\"x\":[\"June 3, 2018\",\"June 4, 2018\",\"June 5, 2018\",\"June 6, 2018\",\"June 7, 2018\",\"June 8, 2018\",\"June 9, 2018\"],\"xaxis\":\"x\",\"y\":[0,1990352,1533892,1977204,1149418,1407074,1306183],\"yaxis\":\"y\",\"type\":\"scatter\"},{\"hovertemplate\":\"video title=10 of the Most GIANT Products that Actually Work!<br>day=%{x}<br>new views=%{y}<extra></extra>\",\"legendgroup\":\"10 of the Most GIANT Products that Actually Work!\",\"line\":{\"color\":\"#FECB52\",\"dash\":\"solid\"},\"marker\":{\"symbol\":\"circle\"},\"mode\":\"lines\",\"name\":\"10 of the Most GIANT Products that Actually Work!\",\"orientation\":\"v\",\"showlegend\":true,\"x\":[\"June 3, 2018\",\"June 4, 2018\",\"June 5, 2018\",\"June 6, 2018\",\"June 7, 2018\",\"June 8, 2018\",\"June 9, 2018\"],\"xaxis\":\"x\",\"y\":[0,84407,59447,56236,34820,37212,33938],\"yaxis\":\"y\",\"type\":\"scatter\"},{\"hovertemplate\":\"video title=Panic! At The Disco: High Hopes (Audio)<br>day=%{x}<br>new views=%{y}<extra></extra>\",\"legendgroup\":\"Panic! At The Disco: High Hopes (Audio)\",\"line\":{\"color\":\"#636efa\",\"dash\":\"solid\"},\"marker\":{\"symbol\":\"circle\"},\"mode\":\"lines\",\"name\":\"Panic! At The Disco: High Hopes (Audio)\",\"orientation\":\"v\",\"showlegend\":true,\"x\":[\"June 3, 2018\",\"June 4, 2018\",\"June 5, 2018\",\"June 6, 2018\",\"June 7, 2018\",\"June 8, 2018\",\"June 9, 2018\"],\"xaxis\":\"x\",\"y\":[0,210072,213380,286471,192037,233698,256061],\"yaxis\":\"y\",\"type\":\"scatter\"},{\"hovertemplate\":\"video title=Film Theory: Willy Wonka and the Golden Ticket SCAM! (Willy Wonka and the Chocolate Factory)<br>day=%{x}<br>new views=%{y}<extra></extra>\",\"legendgroup\":\"Film Theory: Willy Wonka and the Golden Ticket SCAM! (Willy Wonka and the Chocolate Factory)\",\"line\":{\"color\":\"#EF553B\",\"dash\":\"solid\"},\"marker\":{\"symbol\":\"circle\"},\"mode\":\"lines\",\"name\":\"Film Theory: Willy Wonka and the Golden Ticket SCAM! (Willy Wonka and the Chocolate Factory)\",\"orientation\":\"v\",\"showlegend\":true,\"x\":[\"June 3, 2018\",\"June 4, 2018\",\"June 5, 2018\",\"June 6, 2018\",\"June 7, 2018\",\"June 8, 2018\",\"June 9, 2018\"],\"xaxis\":\"x\",\"y\":[0,151313,92014,73230,37009,36186,75464],\"yaxis\":\"y\",\"type\":\"scatter\"},{\"hovertemplate\":\"video title=Bohemian Rhapsody | Teaser Trailer [HD] | 20th Century FOX<br>day=%{x}<br>new views=%{y}<extra></extra>\",\"legendgroup\":\"Bohemian Rhapsody | Teaser Trailer [HD] | 20th Century FOX\",\"line\":{\"color\":\"#00cc96\",\"dash\":\"solid\"},\"marker\":{\"symbol\":\"circle\"},\"mode\":\"lines\",\"name\":\"Bohemian Rhapsody | Teaser Trailer [HD] | 20th Century FOX\",\"orientation\":\"v\",\"showlegend\":true,\"x\":[\"June 3, 2018\",\"June 4, 2018\",\"June 5, 2018\",\"June 6, 2018\",\"June 7, 2018\",\"June 8, 2018\",\"June 9, 2018\"],\"xaxis\":\"x\",\"y\":[0,84114,65261,82276,52555,61072,57170],\"yaxis\":\"y\",\"type\":\"scatter\"},{\"hovertemplate\":\"video title=Blind Girl Describes My Face to a Police Sketch Artist!<br>day=%{x}<br>new views=%{y}<extra></extra>\",\"legendgroup\":\"Blind Girl Describes My Face to a Police Sketch Artist!\",\"line\":{\"color\":\"#ab63fa\",\"dash\":\"solid\"},\"marker\":{\"symbol\":\"circle\"},\"mode\":\"lines\",\"name\":\"Blind Girl Describes My Face to a Police Sketch Artist!\",\"orientation\":\"v\",\"showlegend\":true,\"x\":[\"June 3, 2018\",\"June 4, 2018\",\"June 5, 2018\",\"June 6, 2018\",\"June 7, 2018\",\"June 8, 2018\",\"June 9, 2018\"],\"xaxis\":\"x\",\"y\":[0,857587,433426,418842,231574,239016,190803],\"yaxis\":\"y\",\"type\":\"scatter\"},{\"hovertemplate\":\"video title=MOWGLI - Official 1st Trailer<br>day=%{x}<br>new views=%{y}<extra></extra>\",\"legendgroup\":\"MOWGLI - Official 1st Trailer\",\"line\":{\"color\":\"#FFA15A\",\"dash\":\"solid\"},\"marker\":{\"symbol\":\"circle\"},\"mode\":\"lines\",\"name\":\"MOWGLI - Official 1st Trailer\",\"orientation\":\"v\",\"showlegend\":true,\"x\":[\"June 3, 2018\",\"June 4, 2018\",\"June 5, 2018\",\"June 6, 2018\",\"June 7, 2018\",\"June 8, 2018\",\"June 9, 2018\"],\"xaxis\":\"x\",\"y\":[0,0,0,0,0,48953,36184],\"yaxis\":\"y\",\"type\":\"scatter\"},{\"hovertemplate\":\"video title=Nicki Minaj - Chun-Li (Live on SNL / 2018)<br>day=%{x}<br>new views=%{y}<extra></extra>\",\"legendgroup\":\"Nicki Minaj - Chun-Li (Live on SNL / 2018)\",\"line\":{\"color\":\"#19d3f3\",\"dash\":\"solid\"},\"marker\":{\"symbol\":\"circle\"},\"mode\":\"lines\",\"name\":\"Nicki Minaj - Chun-Li (Live on SNL / 2018)\",\"orientation\":\"v\",\"showlegend\":true,\"x\":[\"June 3, 2018\",\"June 4, 2018\",\"June 5, 2018\",\"June 6, 2018\",\"June 7, 2018\",\"June 8, 2018\",\"June 9, 2018\"],\"xaxis\":\"x\",\"y\":[0,42213,38052,54193,25558,30860,28561],\"yaxis\":\"y\",\"type\":\"scatter\"},{\"hovertemplate\":\"video title=STRANGERS DO MY MAKEUP IN AUSTRALIA<br>day=%{x}<br>new views=%{y}<extra></extra>\",\"legendgroup\":\"STRANGERS DO MY MAKEUP IN AUSTRALIA\",\"line\":{\"color\":\"#FF6692\",\"dash\":\"solid\"},\"marker\":{\"symbol\":\"circle\"},\"mode\":\"lines\",\"name\":\"STRANGERS DO MY MAKEUP IN AUSTRALIA\",\"orientation\":\"v\",\"showlegend\":true,\"x\":[\"June 3, 2018\",\"June 4, 2018\",\"June 5, 2018\",\"June 6, 2018\",\"June 7, 2018\",\"June 8, 2018\",\"June 9, 2018\"],\"xaxis\":\"x\",\"y\":[0,0,0,0,123368,79570,96445],\"yaxis\":\"y\",\"type\":\"scatter\"},{\"hovertemplate\":\"video title=The ULTIMATE $30,000 Gaming PC Setup<br>day=%{x}<br>new views=%{y}<extra></extra>\",\"legendgroup\":\"The ULTIMATE $30,000 Gaming PC Setup\",\"line\":{\"color\":\"#B6E880\",\"dash\":\"solid\"},\"marker\":{\"symbol\":\"circle\"},\"mode\":\"lines\",\"name\":\"The ULTIMATE $30,000 Gaming PC Setup\",\"orientation\":\"v\",\"showlegend\":true,\"x\":[\"June 3, 2018\",\"June 4, 2018\",\"June 5, 2018\",\"June 6, 2018\",\"June 7, 2018\",\"June 8, 2018\",\"June 9, 2018\"],\"xaxis\":\"x\",\"y\":[0,46779,67413,74991,31803,35037,29905],\"yaxis\":\"y\",\"type\":\"scatter\"},{\"hovertemplate\":\"video title=Christopher Robin Official Trailer<br>day=%{x}<br>new views=%{y}<extra></extra>\",\"legendgroup\":\"Christopher Robin Official Trailer\",\"line\":{\"color\":\"#FF97FF\",\"dash\":\"solid\"},\"marker\":{\"symbol\":\"circle\"},\"mode\":\"lines\",\"name\":\"Christopher Robin Official Trailer\",\"orientation\":\"v\",\"showlegend\":true,\"x\":[\"June 3, 2018\",\"June 4, 2018\",\"June 5, 2018\",\"June 6, 2018\",\"June 7, 2018\",\"June 8, 2018\",\"June 9, 2018\"],\"xaxis\":\"x\",\"y\":[0,158688,101412,149023,90111,95868,83886],\"yaxis\":\"y\",\"type\":\"scatter\"},{\"hovertemplate\":\"video title=$10 Cheesesteak Vs. $120 Cheesesteak<br>day=%{x}<br>new views=%{y}<extra></extra>\",\"legendgroup\":\"$10 Cheesesteak Vs. $120 Cheesesteak\",\"line\":{\"color\":\"#FECB52\",\"dash\":\"solid\"},\"marker\":{\"symbol\":\"circle\"},\"mode\":\"lines\",\"name\":\"$10 Cheesesteak Vs. $120 Cheesesteak\",\"orientation\":\"v\",\"showlegend\":true,\"x\":[\"June 3, 2018\",\"June 4, 2018\",\"June 5, 2018\",\"June 6, 2018\",\"June 7, 2018\",\"June 8, 2018\",\"June 9, 2018\"],\"xaxis\":\"x\",\"y\":[0,0,0,0,0,0,0],\"yaxis\":\"y\",\"type\":\"scatter\"},{\"hovertemplate\":\"video title=Buying Used Things 2<br>day=%{x}<br>new views=%{y}<extra></extra>\",\"legendgroup\":\"Buying Used Things 2\",\"line\":{\"color\":\"#636efa\",\"dash\":\"solid\"},\"marker\":{\"symbol\":\"circle\"},\"mode\":\"lines\",\"name\":\"Buying Used Things 2\",\"orientation\":\"v\",\"showlegend\":true,\"x\":[\"June 3, 2018\",\"June 4, 2018\",\"June 5, 2018\",\"June 6, 2018\",\"June 7, 2018\",\"June 8, 2018\",\"June 9, 2018\"],\"xaxis\":\"x\",\"y\":[0,31651,23779,24861,12501,13887,13785],\"yaxis\":\"y\",\"type\":\"scatter\"},{\"hovertemplate\":\"video title=\\u5468\\u6770\\u502b Jay Chou\\u3010\\u4e0d\\u611b\\u6211\\u5c31\\u62c9\\u5012 If You Don't Love Me, It's Fine\\u3011Official MV<br>day=%{x}<br>new views=%{y}<extra></extra>\",\"legendgroup\":\"\\u5468\\u6770\\u502b Jay Chou\\u3010\\u4e0d\\u611b\\u6211\\u5c31\\u62c9\\u5012 If You Don't Love Me, It's Fine\\u3011Official MV\",\"line\":{\"color\":\"#EF553B\",\"dash\":\"solid\"},\"marker\":{\"symbol\":\"circle\"},\"mode\":\"lines\",\"name\":\"\\u5468\\u6770\\u502b Jay Chou\\u3010\\u4e0d\\u611b\\u6211\\u5c31\\u62c9\\u5012 If You Don't Love Me, It's Fine\\u3011Official MV\",\"orientation\":\"v\",\"showlegend\":true,\"x\":[\"June 3, 2018\",\"June 4, 2018\",\"June 5, 2018\",\"June 6, 2018\",\"June 7, 2018\",\"June 8, 2018\",\"June 9, 2018\"],\"xaxis\":\"x\",\"y\":[0,482556,456140,710882,284377,399608,388151],\"yaxis\":\"y\",\"type\":\"scatter\"},{\"hovertemplate\":\"video title=SZA - Garden (Say It Like Dat) (Official Video)<br>day=%{x}<br>new views=%{y}<extra></extra>\",\"legendgroup\":\"SZA - Garden (Say It Like Dat) (Official Video)\",\"line\":{\"color\":\"#00cc96\",\"dash\":\"solid\"},\"marker\":{\"symbol\":\"circle\"},\"mode\":\"lines\",\"name\":\"SZA - Garden (Say It Like Dat) (Official Video)\",\"orientation\":\"v\",\"showlegend\":true,\"x\":[\"June 3, 2018\",\"June 4, 2018\",\"June 5, 2018\",\"June 6, 2018\",\"June 7, 2018\",\"June 8, 2018\",\"June 9, 2018\"],\"xaxis\":\"x\",\"y\":[0,79410,77222,97706,61736,77396,69071],\"yaxis\":\"y\",\"type\":\"scatter\"},{\"hovertemplate\":\"video title=Azealia Banks - Anna Wintour<br>day=%{x}<br>new views=%{y}<extra></extra>\",\"legendgroup\":\"Azealia Banks - Anna Wintour\",\"line\":{\"color\":\"#ab63fa\",\"dash\":\"solid\"},\"marker\":{\"symbol\":\"circle\"},\"mode\":\"lines\",\"name\":\"Azealia Banks - Anna Wintour\",\"orientation\":\"v\",\"showlegend\":true,\"x\":[\"June 3, 2018\",\"June 4, 2018\",\"June 5, 2018\",\"June 6, 2018\",\"June 7, 2018\",\"June 8, 2018\",\"June 9, 2018\"],\"xaxis\":\"x\",\"y\":[0,84703,77736,95668,56561,65499,60733],\"yaxis\":\"y\",\"type\":\"scatter\"},{\"hovertemplate\":\"video title=Lucas the Spider - Giant Spider<br>day=%{x}<br>new views=%{y}<extra></extra>\",\"legendgroup\":\"Lucas the Spider - Giant Spider\",\"line\":{\"color\":\"#FFA15A\",\"dash\":\"solid\"},\"marker\":{\"symbol\":\"circle\"},\"mode\":\"lines\",\"name\":\"Lucas the Spider - Giant Spider\",\"orientation\":\"v\",\"showlegend\":true,\"x\":[\"June 3, 2018\",\"June 4, 2018\",\"June 5, 2018\",\"June 6, 2018\",\"June 7, 2018\",\"June 8, 2018\",\"June 9, 2018\"],\"xaxis\":\"x\",\"y\":[0,193381,164137,200906,120334,141121,155020],\"yaxis\":\"y\",\"type\":\"scatter\"},{\"hovertemplate\":\"video title=YoungBoy Never Broke Again Goes Sneaker Shopping With Complex<br>day=%{x}<br>new views=%{y}<extra></extra>\",\"legendgroup\":\"YoungBoy Never Broke Again Goes Sneaker Shopping With Complex\",\"line\":{\"color\":\"#19d3f3\",\"dash\":\"solid\"},\"marker\":{\"symbol\":\"circle\"},\"mode\":\"lines\",\"name\":\"YoungBoy Never Broke Again Goes Sneaker Shopping With Complex\",\"orientation\":\"v\",\"showlegend\":true,\"x\":[\"June 3, 2018\",\"June 4, 2018\",\"June 5, 2018\",\"June 6, 2018\",\"June 7, 2018\",\"June 8, 2018\",\"June 9, 2018\"],\"xaxis\":\"x\",\"y\":[0,23098,23644,27075,15154,21359,18528],\"yaxis\":\"y\",\"type\":\"scatter\"},{\"hovertemplate\":\"video title=LSD - Audio (Official Video) ft. Sia, Diplo, Labrinth<br>day=%{x}<br>new views=%{y}<extra></extra>\",\"legendgroup\":\"LSD - Audio (Official Video) ft. Sia, Diplo, Labrinth\",\"line\":{\"color\":\"#FF6692\",\"dash\":\"solid\"},\"marker\":{\"symbol\":\"circle\"},\"mode\":\"lines\",\"name\":\"LSD - Audio (Official Video) ft. Sia, Diplo, Labrinth\",\"orientation\":\"v\",\"showlegend\":true,\"x\":[\"June 3, 2018\",\"June 4, 2018\",\"June 5, 2018\",\"June 6, 2018\",\"June 7, 2018\",\"June 8, 2018\",\"June 9, 2018\"],\"xaxis\":\"x\",\"y\":[0,0,691147,771578,1190675,634959,783743],\"yaxis\":\"y\",\"type\":\"scatter\"},{\"hovertemplate\":\"video title=Camels vs. Cactus!!!   \\u062c\\u0645\\u0644<br>day=%{x}<br>new views=%{y}<extra></extra>\",\"legendgroup\":\"Camels vs. Cactus!!!   \\u062c\\u0645\\u0644\",\"line\":{\"color\":\"#B6E880\",\"dash\":\"solid\"},\"marker\":{\"symbol\":\"circle\"},\"mode\":\"lines\",\"name\":\"Camels vs. Cactus!!!   \\u062c\\u0645\\u0644\",\"orientation\":\"v\",\"showlegend\":true,\"x\":[\"June 3, 2018\",\"June 4, 2018\",\"June 5, 2018\",\"June 6, 2018\",\"June 7, 2018\",\"June 8, 2018\",\"June 9, 2018\"],\"xaxis\":\"x\",\"y\":[0,216916,175812,189460,91212,90623,75305],\"yaxis\":\"y\",\"type\":\"scatter\"},{\"hovertemplate\":\"video title=Getting some air, Atlas?<br>day=%{x}<br>new views=%{y}<extra></extra>\",\"legendgroup\":\"Getting some air, Atlas?\",\"line\":{\"color\":\"#FF97FF\",\"dash\":\"solid\"},\"marker\":{\"symbol\":\"circle\"},\"mode\":\"lines\",\"name\":\"Getting some air, Atlas?\",\"orientation\":\"v\",\"showlegend\":true,\"x\":[\"June 3, 2018\",\"June 4, 2018\",\"June 5, 2018\",\"June 6, 2018\",\"June 7, 2018\",\"June 8, 2018\",\"June 9, 2018\"],\"xaxis\":\"x\",\"y\":[0,0,16663,16087,19243,10918,12987],\"yaxis\":\"y\",\"type\":\"scatter\"},{\"hovertemplate\":\"video title=Cooking birthday presents for my wife!<br>day=%{x}<br>new views=%{y}<extra></extra>\",\"legendgroup\":\"Cooking birthday presents for my wife!\",\"line\":{\"color\":\"#FECB52\",\"dash\":\"solid\"},\"marker\":{\"symbol\":\"circle\"},\"mode\":\"lines\",\"name\":\"Cooking birthday presents for my wife!\",\"orientation\":\"v\",\"showlegend\":true,\"x\":[\"June 3, 2018\",\"June 4, 2018\",\"June 5, 2018\",\"June 6, 2018\",\"June 7, 2018\",\"June 8, 2018\",\"June 9, 2018\"],\"xaxis\":\"x\",\"y\":[0,51998,39736,41725,21350,24886,25875],\"yaxis\":\"y\",\"type\":\"scatter\"},{\"hovertemplate\":\"video title=Mission: Impossible - Fallout (2018) - Official Trailer - Paramount Pictures<br>day=%{x}<br>new views=%{y}<extra></extra>\",\"legendgroup\":\"Mission: Impossible - Fallout (2018) - Official Trailer - Paramount Pictures\",\"line\":{\"color\":\"#636efa\",\"dash\":\"solid\"},\"marker\":{\"symbol\":\"circle\"},\"mode\":\"lines\",\"name\":\"Mission: Impossible - Fallout (2018) - Official Trailer - Paramount Pictures\",\"orientation\":\"v\",\"showlegend\":true,\"x\":[\"June 3, 2018\",\"June 4, 2018\",\"June 5, 2018\",\"June 6, 2018\",\"June 7, 2018\",\"June 8, 2018\",\"June 9, 2018\"],\"xaxis\":\"x\",\"y\":[0,0,0,0,0,139410,130765],\"yaxis\":\"y\",\"type\":\"scatter\"},{\"hovertemplate\":\"video title=John Mayer - New Light (Premium Content!)<br>day=%{x}<br>new views=%{y}<extra></extra>\",\"legendgroup\":\"John Mayer - New Light (Premium Content!)\",\"line\":{\"color\":\"#EF553B\",\"dash\":\"solid\"},\"marker\":{\"symbol\":\"circle\"},\"mode\":\"lines\",\"name\":\"John Mayer - New Light (Premium Content!)\",\"orientation\":\"v\",\"showlegend\":true,\"x\":[\"June 3, 2018\",\"June 4, 2018\",\"June 5, 2018\",\"June 6, 2018\",\"June 7, 2018\",\"June 8, 2018\",\"June 9, 2018\"],\"xaxis\":\"x\",\"y\":[0,178248,186024,249962,158298,190562,178255],\"yaxis\":\"y\",\"type\":\"scatter\"},{\"hovertemplate\":\"video title=Sam Smith - Pray (Official Video) ft. Logic<br>day=%{x}<br>new views=%{y}<extra></extra>\",\"legendgroup\":\"Sam Smith - Pray (Official Video) ft. Logic\",\"line\":{\"color\":\"#00cc96\",\"dash\":\"solid\"},\"marker\":{\"symbol\":\"circle\"},\"mode\":\"lines\",\"name\":\"Sam Smith - Pray (Official Video) ft. Logic\",\"orientation\":\"v\",\"showlegend\":true,\"x\":[\"June 3, 2018\",\"June 4, 2018\",\"June 5, 2018\",\"June 6, 2018\",\"June 7, 2018\",\"June 8, 2018\",\"June 9, 2018\"],\"xaxis\":\"x\",\"y\":[0,0,431490,487051,648558,346899,417098],\"yaxis\":\"y\",\"type\":\"scatter\"},{\"hovertemplate\":\"video title=THE GREEN MAKEUP CHALLENGE! | NikkieTutorials<br>day=%{x}<br>new views=%{y}<extra></extra>\",\"legendgroup\":\"THE GREEN MAKEUP CHALLENGE! | NikkieTutorials\",\"line\":{\"color\":\"#ab63fa\",\"dash\":\"solid\"},\"marker\":{\"symbol\":\"circle\"},\"mode\":\"lines\",\"name\":\"THE GREEN MAKEUP CHALLENGE! | NikkieTutorials\",\"orientation\":\"v\",\"showlegend\":true,\"x\":[\"June 3, 2018\",\"June 4, 2018\",\"June 5, 2018\",\"June 6, 2018\",\"June 7, 2018\",\"June 8, 2018\",\"June 9, 2018\"],\"xaxis\":\"x\",\"y\":[0,0,12067,10861,14029,8350,9788],\"yaxis\":\"y\",\"type\":\"scatter\"},{\"hovertemplate\":\"video title=Trying $1 Makeup From Wish<br>day=%{x}<br>new views=%{y}<extra></extra>\",\"legendgroup\":\"Trying $1 Makeup From Wish\",\"line\":{\"color\":\"#FFA15A\",\"dash\":\"solid\"},\"marker\":{\"symbol\":\"circle\"},\"mode\":\"lines\",\"name\":\"Trying $1 Makeup From Wish\",\"orientation\":\"v\",\"showlegend\":true,\"x\":[\"June 3, 2018\",\"June 4, 2018\",\"June 5, 2018\",\"June 6, 2018\",\"June 7, 2018\",\"June 8, 2018\",\"June 9, 2018\"],\"xaxis\":\"x\",\"y\":[0,333383,205565,211950,118772,136049,114990],\"yaxis\":\"y\",\"type\":\"scatter\"},{\"hovertemplate\":\"video title=ROYAL WEDDING \\u2014 A Bad Lip Reading<br>day=%{x}<br>new views=%{y}<extra></extra>\",\"legendgroup\":\"ROYAL WEDDING \\u2014 A Bad Lip Reading\",\"line\":{\"color\":\"#19d3f3\",\"dash\":\"solid\"},\"marker\":{\"symbol\":\"circle\"},\"mode\":\"lines\",\"name\":\"ROYAL WEDDING \\u2014 A Bad Lip Reading\",\"orientation\":\"v\",\"showlegend\":true,\"x\":[\"June 3, 2018\",\"June 4, 2018\",\"June 5, 2018\",\"June 6, 2018\",\"June 7, 2018\",\"June 8, 2018\",\"June 9, 2018\"],\"xaxis\":\"x\",\"y\":[0,98753,69171,79626,42116,44746,38645],\"yaxis\":\"y\",\"type\":\"scatter\"},{\"hovertemplate\":\"video title=Messing around in the studio\\u2026<br>day=%{x}<br>new views=%{y}<extra></extra>\",\"legendgroup\":\"Messing around in the studio\\u2026\",\"line\":{\"color\":\"#FF6692\",\"dash\":\"solid\"},\"marker\":{\"symbol\":\"circle\"},\"mode\":\"lines\",\"name\":\"Messing around in the studio\\u2026\",\"orientation\":\"v\",\"showlegend\":true,\"x\":[\"June 3, 2018\",\"June 4, 2018\",\"June 5, 2018\",\"June 6, 2018\",\"June 7, 2018\",\"June 8, 2018\",\"June 9, 2018\"],\"xaxis\":\"x\",\"y\":[0,0,0,0,0,50807,41468],\"yaxis\":\"y\",\"type\":\"scatter\"},{\"hovertemplate\":\"video title=Terrible Magicians | Rudy Mancuso & Juanpa Zurita<br>day=%{x}<br>new views=%{y}<extra></extra>\",\"legendgroup\":\"Terrible Magicians | Rudy Mancuso & Juanpa Zurita\",\"line\":{\"color\":\"#B6E880\",\"dash\":\"solid\"},\"marker\":{\"symbol\":\"circle\"},\"mode\":\"lines\",\"name\":\"Terrible Magicians | Rudy Mancuso & Juanpa Zurita\",\"orientation\":\"v\",\"showlegend\":true,\"x\":[\"June 3, 2018\",\"June 4, 2018\",\"June 5, 2018\",\"June 6, 2018\",\"June 7, 2018\",\"June 8, 2018\",\"June 9, 2018\"],\"xaxis\":\"x\",\"y\":[0,39902,33776,36067,20769,37514,34685],\"yaxis\":\"y\",\"type\":\"scatter\"},{\"hovertemplate\":\"video title=DOLLAR STORE DIY CHALLENGE<br>day=%{x}<br>new views=%{y}<extra></extra>\",\"legendgroup\":\"DOLLAR STORE DIY CHALLENGE\",\"line\":{\"color\":\"#FF97FF\",\"dash\":\"solid\"},\"marker\":{\"symbol\":\"circle\"},\"mode\":\"lines\",\"name\":\"DOLLAR STORE DIY CHALLENGE\",\"orientation\":\"v\",\"showlegend\":true,\"x\":[\"June 3, 2018\",\"June 4, 2018\",\"June 5, 2018\",\"June 6, 2018\",\"June 7, 2018\",\"June 8, 2018\",\"June 9, 2018\"],\"xaxis\":\"x\",\"y\":[0,40146,27382,28498,21112,25877,26804],\"yaxis\":\"y\",\"type\":\"scatter\"},{\"hovertemplate\":\"video title=Marshmello x Juicy J - You Can Cry (Ft. James Arthur) (Official Video)<br>day=%{x}<br>new views=%{y}<extra></extra>\",\"legendgroup\":\"Marshmello x Juicy J - You Can Cry (Ft. James Arthur) (Official Video)\",\"line\":{\"color\":\"#FECB52\",\"dash\":\"solid\"},\"marker\":{\"symbol\":\"circle\"},\"mode\":\"lines\",\"name\":\"Marshmello x Juicy J - You Can Cry (Ft. James Arthur) (Official Video)\",\"orientation\":\"v\",\"showlegend\":true,\"x\":[\"June 3, 2018\",\"June 4, 2018\",\"June 5, 2018\",\"June 6, 2018\",\"June 7, 2018\",\"June 8, 2018\",\"June 9, 2018\"],\"xaxis\":\"x\",\"y\":[0,0,468511,374095,526331,436326,569855],\"yaxis\":\"y\",\"type\":\"scatter\"},{\"hovertemplate\":\"video title=Enrique Iglesias - MOVE TO MIAMI (Official Video) ft. Pitbull<br>day=%{x}<br>new views=%{y}<extra></extra>\",\"legendgroup\":\"Enrique Iglesias - MOVE TO MIAMI (Official Video) ft. Pitbull\",\"line\":{\"color\":\"#636efa\",\"dash\":\"solid\"},\"marker\":{\"symbol\":\"circle\"},\"mode\":\"lines\",\"name\":\"Enrique Iglesias - MOVE TO MIAMI (Official Video) ft. Pitbull\",\"orientation\":\"v\",\"showlegend\":true,\"x\":[\"June 3, 2018\",\"June 4, 2018\",\"June 5, 2018\",\"June 6, 2018\",\"June 7, 2018\",\"June 8, 2018\",\"June 9, 2018\"],\"xaxis\":\"x\",\"y\":[0,0,0,0,0,411614,367638],\"yaxis\":\"y\",\"type\":\"scatter\"},{\"hovertemplate\":\"video title=Why You Should Wake Up at 4:30 AM Every Day, According To A Navy SEAL<br>day=%{x}<br>new views=%{y}<extra></extra>\",\"legendgroup\":\"Why You Should Wake Up at 4:30 AM Every Day, According To A Navy SEAL\",\"line\":{\"color\":\"#EF553B\",\"dash\":\"solid\"},\"marker\":{\"symbol\":\"circle\"},\"mode\":\"lines\",\"name\":\"Why You Should Wake Up at 4:30 AM Every Day, According To A Navy SEAL\",\"orientation\":\"v\",\"showlegend\":true,\"x\":[\"June 3, 2018\",\"June 4, 2018\",\"June 5, 2018\",\"June 6, 2018\",\"June 7, 2018\",\"June 8, 2018\",\"June 9, 2018\"],\"xaxis\":\"x\",\"y\":[0,62815,59471,62297,26547,22180,15292],\"yaxis\":\"y\",\"type\":\"scatter\"},{\"hovertemplate\":\"video title=Carpool Karaoke w/ Adam Levine<br>day=%{x}<br>new views=%{y}<extra></extra>\",\"legendgroup\":\"Carpool Karaoke w/ Adam Levine\",\"line\":{\"color\":\"#00cc96\",\"dash\":\"solid\"},\"marker\":{\"symbol\":\"circle\"},\"mode\":\"lines\",\"name\":\"Carpool Karaoke w/ Adam Levine\",\"orientation\":\"v\",\"showlegend\":true,\"x\":[\"June 3, 2018\",\"June 4, 2018\",\"June 5, 2018\",\"June 6, 2018\",\"June 7, 2018\",\"June 8, 2018\",\"June 9, 2018\"],\"xaxis\":\"x\",\"y\":[0,0,0,0,0,158855,133598],\"yaxis\":\"y\",\"type\":\"scatter\"},{\"hovertemplate\":\"video title=The Smallest House In The World<br>day=%{x}<br>new views=%{y}<extra></extra>\",\"legendgroup\":\"The Smallest House In The World\",\"line\":{\"color\":\"#ab63fa\",\"dash\":\"solid\"},\"marker\":{\"symbol\":\"circle\"},\"mode\":\"lines\",\"name\":\"The Smallest House In The World\",\"orientation\":\"v\",\"showlegend\":true,\"x\":[\"June 3, 2018\",\"June 4, 2018\",\"June 5, 2018\",\"June 6, 2018\",\"June 7, 2018\",\"June 8, 2018\",\"June 9, 2018\"],\"xaxis\":\"x\",\"y\":[0,54168,31690,32517,13150,11574,11338],\"yaxis\":\"y\",\"type\":\"scatter\"},{\"hovertemplate\":\"video title=Royal Wedding - SNL<br>day=%{x}<br>new views=%{y}<extra></extra>\",\"legendgroup\":\"Royal Wedding - SNL\",\"line\":{\"color\":\"#FFA15A\",\"dash\":\"solid\"},\"marker\":{\"symbol\":\"circle\"},\"mode\":\"lines\",\"name\":\"Royal Wedding - SNL\",\"orientation\":\"v\",\"showlegend\":true,\"x\":[\"June 3, 2018\",\"June 4, 2018\",\"June 5, 2018\",\"June 6, 2018\",\"June 7, 2018\",\"June 8, 2018\",\"June 9, 2018\"],\"xaxis\":\"x\",\"y\":[0,50681,36518,41522,25555,25127,21134],\"yaxis\":\"y\",\"type\":\"scatter\"},{\"hovertemplate\":\"video title=Breaking down 'This Is America,' Childish Gambino's chilling new video<br>day=%{x}<br>new views=%{y}<extra></extra>\",\"legendgroup\":\"Breaking down 'This Is America,' Childish Gambino's chilling new video\",\"line\":{\"color\":\"#19d3f3\",\"dash\":\"solid\"},\"marker\":{\"symbol\":\"circle\"},\"mode\":\"lines\",\"name\":\"Breaking down 'This Is America,' Childish Gambino's chilling new video\",\"orientation\":\"v\",\"showlegend\":true,\"x\":[\"June 3, 2018\",\"June 4, 2018\",\"June 5, 2018\",\"June 6, 2018\",\"June 7, 2018\",\"June 8, 2018\",\"June 9, 2018\"],\"xaxis\":\"x\",\"y\":[0,0,0,0,0,0,25659],\"yaxis\":\"y\",\"type\":\"scatter\"},{\"hovertemplate\":\"video title=WE GOT INTEL'S PROTOTYPE GRAPHICS CARD!!<br>day=%{x}<br>new views=%{y}<extra></extra>\",\"legendgroup\":\"WE GOT INTEL'S PROTOTYPE GRAPHICS CARD!!\",\"line\":{\"color\":\"#FF6692\",\"dash\":\"solid\"},\"marker\":{\"symbol\":\"circle\"},\"mode\":\"lines\",\"name\":\"WE GOT INTEL'S PROTOTYPE GRAPHICS CARD!!\",\"orientation\":\"v\",\"showlegend\":true,\"x\":[\"June 3, 2018\",\"June 4, 2018\",\"June 5, 2018\",\"June 6, 2018\",\"June 7, 2018\",\"June 8, 2018\",\"June 9, 2018\"],\"xaxis\":\"x\",\"y\":[0,10724,11567,13582,6018,7178,5904],\"yaxis\":\"y\",\"type\":\"scatter\"},{\"hovertemplate\":\"video title=Jhen\\u00e9 Aiko & Her Daughter Namiko Love Perform 'Sing To Me' | Dear Mama<br>day=%{x}<br>new views=%{y}<extra></extra>\",\"legendgroup\":\"Jhen\\u00e9 Aiko & Her Daughter Namiko Love Perform 'Sing To Me' | Dear Mama\",\"line\":{\"color\":\"#B6E880\",\"dash\":\"solid\"},\"marker\":{\"symbol\":\"circle\"},\"mode\":\"lines\",\"name\":\"Jhen\\u00e9 Aiko & Her Daughter Namiko Love Perform 'Sing To Me' | Dear Mama\",\"orientation\":\"v\",\"showlegend\":true,\"x\":[\"June 3, 2018\",\"June 4, 2018\",\"June 5, 2018\",\"June 6, 2018\",\"June 7, 2018\",\"June 8, 2018\",\"June 9, 2018\"],\"xaxis\":\"x\",\"y\":[0,0,0,0,0,0,0],\"yaxis\":\"y\",\"type\":\"scatter\"},{\"hovertemplate\":\"video title=Weezer - Africa<br>day=%{x}<br>new views=%{y}<extra></extra>\",\"legendgroup\":\"Weezer - Africa\",\"line\":{\"color\":\"#FF97FF\",\"dash\":\"solid\"},\"marker\":{\"symbol\":\"circle\"},\"mode\":\"lines\",\"name\":\"Weezer - Africa\",\"orientation\":\"v\",\"showlegend\":true,\"x\":[\"June 3, 2018\",\"June 4, 2018\",\"June 5, 2018\",\"June 6, 2018\",\"June 7, 2018\",\"June 8, 2018\",\"June 9, 2018\"],\"xaxis\":\"x\",\"y\":[0,173478,127659,131653,83223,85810,95606],\"yaxis\":\"y\",\"type\":\"scatter\"},{\"hovertemplate\":\"video title=Taylor Swift - Delicate (Vertical Version)<br>day=%{x}<br>new views=%{y}<extra></extra>\",\"legendgroup\":\"Taylor Swift - Delicate (Vertical Version)\",\"line\":{\"color\":\"#FECB52\",\"dash\":\"solid\"},\"marker\":{\"symbol\":\"circle\"},\"mode\":\"lines\",\"name\":\"Taylor Swift - Delicate (Vertical Version)\",\"orientation\":\"v\",\"showlegend\":true,\"x\":[\"June 3, 2018\",\"June 4, 2018\",\"June 5, 2018\",\"June 6, 2018\",\"June 7, 2018\",\"June 8, 2018\",\"June 9, 2018\"],\"xaxis\":\"x\",\"y\":[0,0,0,0,0,19862,18258],\"yaxis\":\"y\",\"type\":\"scatter\"},{\"hovertemplate\":\"video title=Clean Bandit - Solo feat. Demi Lovato [Official Video]<br>day=%{x}<br>new views=%{y}<extra></extra>\",\"legendgroup\":\"Clean Bandit - Solo feat. Demi Lovato [Official Video]\",\"line\":{\"color\":\"#636efa\",\"dash\":\"solid\"},\"marker\":{\"symbol\":\"circle\"},\"mode\":\"lines\",\"name\":\"Clean Bandit - Solo feat. Demi Lovato [Official Video]\",\"orientation\":\"v\",\"showlegend\":true,\"x\":[\"June 3, 2018\",\"June 4, 2018\",\"June 5, 2018\",\"June 6, 2018\",\"June 7, 2018\",\"June 8, 2018\",\"June 9, 2018\"],\"xaxis\":\"x\",\"y\":[0,971800,1090375,1712759,1228382,1507575,1495444],\"yaxis\":\"y\",\"type\":\"scatter\"},{\"hovertemplate\":\"video title=Wait, My Crush is Watching? | Hannah Stocking & Lele Pons<br>day=%{x}<br>new views=%{y}<extra></extra>\",\"legendgroup\":\"Wait, My Crush is Watching? | Hannah Stocking & Lele Pons\",\"line\":{\"color\":\"#EF553B\",\"dash\":\"solid\"},\"marker\":{\"symbol\":\"circle\"},\"mode\":\"lines\",\"name\":\"Wait, My Crush is Watching? | Hannah Stocking & Lele Pons\",\"orientation\":\"v\",\"showlegend\":true,\"x\":[\"June 3, 2018\",\"June 4, 2018\",\"June 5, 2018\",\"June 6, 2018\",\"June 7, 2018\",\"June 8, 2018\",\"June 9, 2018\"],\"xaxis\":\"x\",\"y\":[0,395275,228594,184309,106467,193035,188482],\"yaxis\":\"y\",\"type\":\"scatter\"},{\"hovertemplate\":\"video title=Catching a SHARK by HAND!<br>day=%{x}<br>new views=%{y}<extra></extra>\",\"legendgroup\":\"Catching a SHARK by HAND!\",\"line\":{\"color\":\"#00cc96\",\"dash\":\"solid\"},\"marker\":{\"symbol\":\"circle\"},\"mode\":\"lines\",\"name\":\"Catching a SHARK by HAND!\",\"orientation\":\"v\",\"showlegend\":true,\"x\":[\"June 3, 2018\",\"June 4, 2018\",\"June 5, 2018\",\"June 6, 2018\",\"June 7, 2018\",\"June 8, 2018\",\"June 9, 2018\"],\"xaxis\":\"x\",\"y\":[0,58298,43909,57322,28705,27310,26462],\"yaxis\":\"y\",\"type\":\"scatter\"},{\"hovertemplate\":\"video title=BLACKkKLANSMAN - Official Trailer [HD] - In Theaters August 10<br>day=%{x}<br>new views=%{y}<extra></extra>\",\"legendgroup\":\"BLACKkKLANSMAN - Official Trailer [HD] - In Theaters August 10\",\"line\":{\"color\":\"#ab63fa\",\"dash\":\"solid\"},\"marker\":{\"symbol\":\"circle\"},\"mode\":\"lines\",\"name\":\"BLACKkKLANSMAN - Official Trailer [HD] - In Theaters August 10\",\"orientation\":\"v\",\"showlegend\":true,\"x\":[\"June 3, 2018\",\"June 4, 2018\",\"June 5, 2018\",\"June 6, 2018\",\"June 7, 2018\",\"June 8, 2018\",\"June 9, 2018\"],\"xaxis\":\"x\",\"y\":[0,6848,6126,8574,4585,4743,5924],\"yaxis\":\"y\",\"type\":\"scatter\"},{\"hovertemplate\":\"video title=Ariana Grande - No Tears Left To Cry (Live On The Tonight Show Starring Jimmy Fallon)<br>day=%{x}<br>new views=%{y}<extra></extra>\",\"legendgroup\":\"Ariana Grande - No Tears Left To Cry (Live On The Tonight Show Starring Jimmy Fallon)\",\"line\":{\"color\":\"#FFA15A\",\"dash\":\"solid\"},\"marker\":{\"symbol\":\"circle\"},\"mode\":\"lines\",\"name\":\"Ariana Grande - No Tears Left To Cry (Live On The Tonight Show Starring Jimmy Fallon)\",\"orientation\":\"v\",\"showlegend\":true,\"x\":[\"June 3, 2018\",\"June 4, 2018\",\"June 5, 2018\",\"June 6, 2018\",\"June 7, 2018\",\"June 8, 2018\",\"June 9, 2018\"],\"xaxis\":\"x\",\"y\":[0,60106,58135,91327,47358,61228,46594],\"yaxis\":\"y\",\"type\":\"scatter\"},{\"hovertemplate\":\"video title=LIE DETECTOR TEST WITH MY GIRLFRIEND!<br>day=%{x}<br>new views=%{y}<extra></extra>\",\"legendgroup\":\"LIE DETECTOR TEST WITH MY GIRLFRIEND!\",\"line\":{\"color\":\"#19d3f3\",\"dash\":\"solid\"},\"marker\":{\"symbol\":\"circle\"},\"mode\":\"lines\",\"name\":\"LIE DETECTOR TEST WITH MY GIRLFRIEND!\",\"orientation\":\"v\",\"showlegend\":true,\"x\":[\"June 3, 2018\",\"June 4, 2018\",\"June 5, 2018\",\"June 6, 2018\",\"June 7, 2018\",\"June 8, 2018\",\"June 9, 2018\"],\"xaxis\":\"x\",\"y\":[0,57324,34723,43253,21481,17414,10258],\"yaxis\":\"y\",\"type\":\"scatter\"},{\"hovertemplate\":\"video title=Destination Wedding Trailer #1 (2018) | Movieclips Trailers<br>day=%{x}<br>new views=%{y}<extra></extra>\",\"legendgroup\":\"Destination Wedding Trailer #1 (2018) | Movieclips Trailers\",\"line\":{\"color\":\"#FF6692\",\"dash\":\"solid\"},\"marker\":{\"symbol\":\"circle\"},\"mode\":\"lines\",\"name\":\"Destination Wedding Trailer #1 (2018) | Movieclips Trailers\",\"orientation\":\"v\",\"showlegend\":true,\"x\":[\"June 3, 2018\",\"June 4, 2018\",\"June 5, 2018\",\"June 6, 2018\",\"June 7, 2018\",\"June 8, 2018\",\"June 9, 2018\"],\"xaxis\":\"x\",\"y\":[0,57044,40818,56024,28434,30054,23489],\"yaxis\":\"y\",\"type\":\"scatter\"},{\"hovertemplate\":\"video title=HIGH SCHOOL IN 2008 VS 2018<br>day=%{x}<br>new views=%{y}<extra></extra>\",\"legendgroup\":\"HIGH SCHOOL IN 2008 VS 2018\",\"line\":{\"color\":\"#B6E880\",\"dash\":\"solid\"},\"marker\":{\"symbol\":\"circle\"},\"mode\":\"lines\",\"name\":\"HIGH SCHOOL IN 2008 VS 2018\",\"orientation\":\"v\",\"showlegend\":true,\"x\":[\"June 3, 2018\",\"June 4, 2018\",\"June 5, 2018\",\"June 6, 2018\",\"June 7, 2018\",\"June 8, 2018\",\"June 9, 2018\"],\"xaxis\":\"x\",\"y\":[0,224149,196035,153243,66364,71677,53594],\"yaxis\":\"y\",\"type\":\"scatter\"},{\"hovertemplate\":\"video title=435<br>day=%{x}<br>new views=%{y}<extra></extra>\",\"legendgroup\":\"435\",\"line\":{\"color\":\"#FF97FF\",\"dash\":\"solid\"},\"marker\":{\"symbol\":\"circle\"},\"mode\":\"lines\",\"name\":\"435\",\"orientation\":\"v\",\"showlegend\":true,\"x\":[\"June 3, 2018\",\"June 4, 2018\",\"June 5, 2018\",\"June 6, 2018\",\"June 7, 2018\",\"June 8, 2018\",\"June 9, 2018\"],\"xaxis\":\"x\",\"y\":[0,0,42326,83926,28378,30675,33528],\"yaxis\":\"y\",\"type\":\"scatter\"},{\"hovertemplate\":\"video title=Royal Weddings, Then and Now: Princess Diana, Kate Middleton, and Meghan Markle | The New Yorker<br>day=%{x}<br>new views=%{y}<extra></extra>\",\"legendgroup\":\"Royal Weddings, Then and Now: Princess Diana, Kate Middleton, and Meghan Markle | The New Yorker\",\"line\":{\"color\":\"#FECB52\",\"dash\":\"solid\"},\"marker\":{\"symbol\":\"circle\"},\"mode\":\"lines\",\"name\":\"Royal Weddings, Then and Now: Princess Diana, Kate Middleton, and Meghan Markle | The New Yorker\",\"orientation\":\"v\",\"showlegend\":true,\"x\":[\"June 3, 2018\",\"June 4, 2018\",\"June 5, 2018\",\"June 6, 2018\",\"June 7, 2018\",\"June 8, 2018\",\"June 9, 2018\"],\"xaxis\":\"x\",\"y\":[0,0,0,40839,32737,42413,18926],\"yaxis\":\"y\",\"type\":\"scatter\"},{\"hovertemplate\":\"video title=Kim Kardashian Princess Jasmine Transformation<br>day=%{x}<br>new views=%{y}<extra></extra>\",\"legendgroup\":\"Kim Kardashian Princess Jasmine Transformation\",\"line\":{\"color\":\"#636efa\",\"dash\":\"solid\"},\"marker\":{\"symbol\":\"circle\"},\"mode\":\"lines\",\"name\":\"Kim Kardashian Princess Jasmine Transformation\",\"orientation\":\"v\",\"showlegend\":true,\"x\":[\"June 3, 2018\",\"June 4, 2018\",\"June 5, 2018\",\"June 6, 2018\",\"June 7, 2018\",\"June 8, 2018\",\"June 9, 2018\"],\"xaxis\":\"x\",\"y\":[0,62585,41937,30550,11671,11722,12632],\"yaxis\":\"y\",\"type\":\"scatter\"},{\"hovertemplate\":\"video title=We built the Infinity Gauntlet with 25,000 magnets!<br>day=%{x}<br>new views=%{y}<extra></extra>\",\"legendgroup\":\"We built the Infinity Gauntlet with 25,000 magnets!\",\"line\":{\"color\":\"#EF553B\",\"dash\":\"solid\"},\"marker\":{\"symbol\":\"circle\"},\"mode\":\"lines\",\"name\":\"We built the Infinity Gauntlet with 25,000 magnets!\",\"orientation\":\"v\",\"showlegend\":true,\"x\":[\"June 3, 2018\",\"June 4, 2018\",\"June 5, 2018\",\"June 6, 2018\",\"June 7, 2018\",\"June 8, 2018\",\"June 9, 2018\"],\"xaxis\":\"x\",\"y\":[0,67052,47694,68128,28205,27752,29492],\"yaxis\":\"y\",\"type\":\"scatter\"},{\"hovertemplate\":\"video title=Charlie Puth - BOY [Official Audio]<br>day=%{x}<br>new views=%{y}<extra></extra>\",\"legendgroup\":\"Charlie Puth - BOY [Official Audio]\",\"line\":{\"color\":\"#00cc96\",\"dash\":\"solid\"},\"marker\":{\"symbol\":\"circle\"},\"mode\":\"lines\",\"name\":\"Charlie Puth - BOY [Official Audio]\",\"orientation\":\"v\",\"showlegend\":true,\"x\":[\"June 3, 2018\",\"June 4, 2018\",\"June 5, 2018\",\"June 6, 2018\",\"June 7, 2018\",\"June 8, 2018\",\"June 9, 2018\"],\"xaxis\":\"x\",\"y\":[0,231624,246065,352686,202990,245580,201698],\"yaxis\":\"y\",\"type\":\"scatter\"},{\"hovertemplate\":\"video title=John Mayer - New Light<br>day=%{x}<br>new views=%{y}<extra></extra>\",\"legendgroup\":\"John Mayer - New Light\",\"line\":{\"color\":\"#ab63fa\",\"dash\":\"solid\"},\"marker\":{\"symbol\":\"circle\"},\"mode\":\"lines\",\"name\":\"John Mayer - New Light\",\"orientation\":\"v\",\"showlegend\":true,\"x\":[\"June 3, 2018\",\"June 4, 2018\",\"June 5, 2018\",\"June 6, 2018\",\"June 7, 2018\",\"June 8, 2018\",\"June 9, 2018\"],\"xaxis\":\"x\",\"y\":[0,0,52268,59319,78425,38946,48500],\"yaxis\":\"y\",\"type\":\"scatter\"},{\"hovertemplate\":\"video title=THE BICYCLE OF SPRINGS<br>day=%{x}<br>new views=%{y}<extra></extra>\",\"legendgroup\":\"THE BICYCLE OF SPRINGS\",\"line\":{\"color\":\"#FFA15A\",\"dash\":\"solid\"},\"marker\":{\"symbol\":\"circle\"},\"mode\":\"lines\",\"name\":\"THE BICYCLE OF SPRINGS\",\"orientation\":\"v\",\"showlegend\":true,\"x\":[\"June 3, 2018\",\"June 4, 2018\",\"June 5, 2018\",\"June 6, 2018\",\"June 7, 2018\",\"June 8, 2018\",\"June 9, 2018\"],\"xaxis\":\"x\",\"y\":[0,290979,300238,465852,566247,974430,526435],\"yaxis\":\"y\",\"type\":\"scatter\"},{\"hovertemplate\":\"video title=Calum Scott - What I Miss Most (Official Video)<br>day=%{x}<br>new views=%{y}<extra></extra>\",\"legendgroup\":\"Calum Scott - What I Miss Most (Official Video)\",\"line\":{\"color\":\"#19d3f3\",\"dash\":\"solid\"},\"marker\":{\"symbol\":\"circle\"},\"mode\":\"lines\",\"name\":\"Calum Scott - What I Miss Most (Official Video)\",\"orientation\":\"v\",\"showlegend\":true,\"x\":[\"June 3, 2018\",\"June 4, 2018\",\"June 5, 2018\",\"June 6, 2018\",\"June 7, 2018\",\"June 8, 2018\",\"June 9, 2018\"],\"xaxis\":\"x\",\"y\":[0,282551,303436,447131,245117,300310,237592],\"yaxis\":\"y\",\"type\":\"scatter\"},{\"hovertemplate\":\"video title=$150 Bed Vs. $159,000 Bed<br>day=%{x}<br>new views=%{y}<extra></extra>\",\"legendgroup\":\"$150 Bed Vs. $159,000 Bed\",\"line\":{\"color\":\"#FF6692\",\"dash\":\"solid\"},\"marker\":{\"symbol\":\"circle\"},\"mode\":\"lines\",\"name\":\"$150 Bed Vs. $159,000 Bed\",\"orientation\":\"v\",\"showlegend\":true,\"x\":[\"June 3, 2018\",\"June 4, 2018\",\"June 5, 2018\",\"June 6, 2018\",\"June 7, 2018\",\"June 8, 2018\",\"June 9, 2018\"],\"xaxis\":\"x\",\"y\":[0,0,0,0,0,0,161728],\"yaxis\":\"y\",\"type\":\"scatter\"},{\"hovertemplate\":\"video title=Cleveland Cavaliers vs Boston Celtics Full Game Highlights / Game 6 / 2018 NBA Playoffs<br>day=%{x}<br>new views=%{y}<extra></extra>\",\"legendgroup\":\"Cleveland Cavaliers vs Boston Celtics Full Game Highlights / Game 6 / 2018 NBA Playoffs\",\"line\":{\"color\":\"#B6E880\",\"dash\":\"solid\"},\"marker\":{\"symbol\":\"circle\"},\"mode\":\"lines\",\"name\":\"Cleveland Cavaliers vs Boston Celtics Full Game Highlights / Game 6 / 2018 NBA Playoffs\",\"orientation\":\"v\",\"showlegend\":true,\"x\":[\"June 3, 2018\",\"June 4, 2018\",\"June 5, 2018\",\"June 6, 2018\",\"June 7, 2018\",\"June 8, 2018\",\"June 9, 2018\"],\"xaxis\":\"x\",\"y\":[0,0,0,0,3935,1059,2018],\"yaxis\":\"y\",\"type\":\"scatter\"},{\"hovertemplate\":\"video title=John Cena On His Split From Nikki Bella: \\u2018I Had My Heart Broken Out Of Nowhere\\u2019 | TODAY<br>day=%{x}<br>new views=%{y}<extra></extra>\",\"legendgroup\":\"John Cena On His Split From Nikki Bella: \\u2018I Had My Heart Broken Out Of Nowhere\\u2019 | TODAY\",\"line\":{\"color\":\"#FF97FF\",\"dash\":\"solid\"},\"marker\":{\"symbol\":\"circle\"},\"mode\":\"lines\",\"name\":\"John Cena On His Split From Nikki Bella: \\u2018I Had My Heart Broken Out Of Nowhere\\u2019 | TODAY\",\"orientation\":\"v\",\"showlegend\":true,\"x\":[\"June 3, 2018\",\"June 4, 2018\",\"June 5, 2018\",\"June 6, 2018\",\"June 7, 2018\",\"June 8, 2018\",\"June 9, 2018\"],\"xaxis\":\"x\",\"y\":[0,0,0,0,0,0,8274],\"yaxis\":\"y\",\"type\":\"scatter\"},{\"hovertemplate\":\"video title=We Tried To Make The Most Intimidating Pasta Dish (Timpano)<br>day=%{x}<br>new views=%{y}<extra></extra>\",\"legendgroup\":\"We Tried To Make The Most Intimidating Pasta Dish (Timpano)\",\"line\":{\"color\":\"#FECB52\",\"dash\":\"solid\"},\"marker\":{\"symbol\":\"circle\"},\"mode\":\"lines\",\"name\":\"We Tried To Make The Most Intimidating Pasta Dish (Timpano)\",\"orientation\":\"v\",\"showlegend\":true,\"x\":[\"June 3, 2018\",\"June 4, 2018\",\"June 5, 2018\",\"June 6, 2018\",\"June 7, 2018\",\"June 8, 2018\",\"June 9, 2018\"],\"xaxis\":\"x\",\"y\":[0,0,0,0,0,0,0],\"yaxis\":\"y\",\"type\":\"scatter\"},{\"hovertemplate\":\"video title=Maddie Poppe Wins American Idol 2018 - Finale - American Idol 2018 on ABC<br>day=%{x}<br>new views=%{y}<extra></extra>\",\"legendgroup\":\"Maddie Poppe Wins American Idol 2018 - Finale - American Idol 2018 on ABC\",\"line\":{\"color\":\"#636efa\",\"dash\":\"solid\"},\"marker\":{\"symbol\":\"circle\"},\"mode\":\"lines\",\"name\":\"Maddie Poppe Wins American Idol 2018 - Finale - American Idol 2018 on ABC\",\"orientation\":\"v\",\"showlegend\":true,\"x\":[\"June 3, 2018\",\"June 4, 2018\",\"June 5, 2018\",\"June 6, 2018\",\"June 7, 2018\",\"June 8, 2018\",\"June 9, 2018\"],\"xaxis\":\"x\",\"y\":[0,0,0,0,0,0,0],\"yaxis\":\"y\",\"type\":\"scatter\"},{\"hovertemplate\":\"video title=Sigrid - High Five (Official Video)<br>day=%{x}<br>new views=%{y}<extra></extra>\",\"legendgroup\":\"Sigrid - High Five (Official Video)\",\"line\":{\"color\":\"#EF553B\",\"dash\":\"solid\"},\"marker\":{\"symbol\":\"circle\"},\"mode\":\"lines\",\"name\":\"Sigrid - High Five (Official Video)\",\"orientation\":\"v\",\"showlegend\":true,\"x\":[\"June 3, 2018\",\"June 4, 2018\",\"June 5, 2018\",\"June 6, 2018\",\"June 7, 2018\",\"June 8, 2018\",\"June 9, 2018\"],\"xaxis\":\"x\",\"y\":[0,130713,138447,199066,97592,122842,200291],\"yaxis\":\"y\",\"type\":\"scatter\"},{\"hovertemplate\":\"video title=Zurcaroh: Golden Buzzer Worthy Aerial Dance Group Impresses Tyra Banks - America's Got Talent 2018<br>day=%{x}<br>new views=%{y}<extra></extra>\",\"legendgroup\":\"Zurcaroh: Golden Buzzer Worthy Aerial Dance Group Impresses Tyra Banks - America's Got Talent 2018\",\"line\":{\"color\":\"#00cc96\",\"dash\":\"solid\"},\"marker\":{\"symbol\":\"circle\"},\"mode\":\"lines\",\"name\":\"Zurcaroh: Golden Buzzer Worthy Aerial Dance Group Impresses Tyra Banks - America's Got Talent 2018\",\"orientation\":\"v\",\"showlegend\":true,\"x\":[\"June 3, 2018\",\"June 4, 2018\",\"June 5, 2018\",\"June 6, 2018\",\"June 7, 2018\",\"June 8, 2018\",\"June 9, 2018\"],\"xaxis\":\"x\",\"y\":[0,0,0,0,0,342164,235413],\"yaxis\":\"y\",\"type\":\"scatter\"},{\"hovertemplate\":\"video title=Kelly Clarkson - Meaning of Life [Official Video]<br>day=%{x}<br>new views=%{y}<extra></extra>\",\"legendgroup\":\"Kelly Clarkson - Meaning of Life [Official Video]\",\"line\":{\"color\":\"#ab63fa\",\"dash\":\"solid\"},\"marker\":{\"symbol\":\"circle\"},\"mode\":\"lines\",\"name\":\"Kelly Clarkson - Meaning of Life [Official Video]\",\"orientation\":\"v\",\"showlegend\":true,\"x\":[\"June 3, 2018\",\"June 4, 2018\",\"June 5, 2018\",\"June 6, 2018\",\"June 7, 2018\",\"June 8, 2018\",\"June 9, 2018\"],\"xaxis\":\"x\",\"y\":[0,40969,46869,59278,29756,34577,29177],\"yaxis\":\"y\",\"type\":\"scatter\"},{\"hovertemplate\":\"video title=Meghan Trainor - Can't Dance (Audio)<br>day=%{x}<br>new views=%{y}<extra></extra>\",\"legendgroup\":\"Meghan Trainor - Can't Dance (Audio)\",\"line\":{\"color\":\"#FFA15A\",\"dash\":\"solid\"},\"marker\":{\"symbol\":\"circle\"},\"mode\":\"lines\",\"name\":\"Meghan Trainor - Can't Dance (Audio)\",\"orientation\":\"v\",\"showlegend\":true,\"x\":[\"June 3, 2018\",\"June 4, 2018\",\"June 5, 2018\",\"June 6, 2018\",\"June 7, 2018\",\"June 8, 2018\",\"June 9, 2018\"],\"xaxis\":\"x\",\"y\":[0,0,0,0,0,0,25541],\"yaxis\":\"y\",\"type\":\"scatter\"},{\"hovertemplate\":\"video title=[King of masked singer] \\ubcf5\\uba74\\uac00\\uc655 - 'unicorn' special performance - Tommorrow 20180513<br>day=%{x}<br>new views=%{y}<extra></extra>\",\"legendgroup\":\"[King of masked singer] \\ubcf5\\uba74\\uac00\\uc655 - 'unicorn' special performance - Tommorrow 20180513\",\"line\":{\"color\":\"#19d3f3\",\"dash\":\"solid\"},\"marker\":{\"symbol\":\"circle\"},\"mode\":\"lines\",\"name\":\"[King of masked singer] \\ubcf5\\uba74\\uac00\\uc655 - 'unicorn' special performance - Tommorrow 20180513\",\"orientation\":\"v\",\"showlegend\":true,\"x\":[\"June 3, 2018\",\"June 4, 2018\",\"June 5, 2018\",\"June 6, 2018\",\"June 7, 2018\",\"June 8, 2018\",\"June 9, 2018\"],\"xaxis\":\"x\",\"y\":[0,0,0,15049,11604,14700,7987],\"yaxis\":\"y\",\"type\":\"scatter\"},{\"hovertemplate\":\"video title=James Veitch\\u2019s Elaborate Wrong Number Prank  - CONAN on TBS<br>day=%{x}<br>new views=%{y}<extra></extra>\",\"legendgroup\":\"James Veitch\\u2019s Elaborate Wrong Number Prank  - CONAN on TBS\",\"line\":{\"color\":\"#FF6692\",\"dash\":\"solid\"},\"marker\":{\"symbol\":\"circle\"},\"mode\":\"lines\",\"name\":\"James Veitch\\u2019s Elaborate Wrong Number Prank  - CONAN on TBS\",\"orientation\":\"v\",\"showlegend\":true,\"x\":[\"June 3, 2018\",\"June 4, 2018\",\"June 5, 2018\",\"June 6, 2018\",\"June 7, 2018\",\"June 8, 2018\",\"June 9, 2018\"],\"xaxis\":\"x\",\"y\":[0,0,0,0,23252,30632,38575],\"yaxis\":\"y\",\"type\":\"scatter\"},{\"hovertemplate\":\"video title=Dan + Shay - Speechless (Wedding Video)<br>day=%{x}<br>new views=%{y}<extra></extra>\",\"legendgroup\":\"Dan + Shay - Speechless (Wedding Video)\",\"line\":{\"color\":\"#B6E880\",\"dash\":\"solid\"},\"marker\":{\"symbol\":\"circle\"},\"mode\":\"lines\",\"name\":\"Dan + Shay - Speechless (Wedding Video)\",\"orientation\":\"v\",\"showlegend\":true,\"x\":[\"June 3, 2018\",\"June 4, 2018\",\"June 5, 2018\",\"June 6, 2018\",\"June 7, 2018\",\"June 8, 2018\",\"June 9, 2018\"],\"xaxis\":\"x\",\"y\":[0,178520,210145,279803,206313,251776,220295],\"yaxis\":\"y\",\"type\":\"scatter\"},{\"hovertemplate\":\"video title=Wildlife - Official Teaser I HD I IFC Films<br>day=%{x}<br>new views=%{y}<extra></extra>\",\"legendgroup\":\"Wildlife - Official Teaser I HD I IFC Films\",\"line\":{\"color\":\"#FF97FF\",\"dash\":\"solid\"},\"marker\":{\"symbol\":\"circle\"},\"mode\":\"lines\",\"name\":\"Wildlife - Official Teaser I HD I IFC Films\",\"orientation\":\"v\",\"showlegend\":true,\"x\":[\"June 3, 2018\",\"June 4, 2018\",\"June 5, 2018\",\"June 6, 2018\",\"June 7, 2018\",\"June 8, 2018\",\"June 9, 2018\"],\"xaxis\":\"x\",\"y\":[0,0,5918,5603,8172,2740,2447],\"yaxis\":\"y\",\"type\":\"scatter\"},{\"hovertemplate\":\"video title=Hawaiian lava flows \\u2018faster than a turtle\\u2019<br>day=%{x}<br>new views=%{y}<extra></extra>\",\"legendgroup\":\"Hawaiian lava flows \\u2018faster than a turtle\\u2019\",\"line\":{\"color\":\"#FECB52\",\"dash\":\"solid\"},\"marker\":{\"symbol\":\"circle\"},\"mode\":\"lines\",\"name\":\"Hawaiian lava flows \\u2018faster than a turtle\\u2019\",\"orientation\":\"v\",\"showlegend\":true,\"x\":[\"June 3, 2018\",\"June 4, 2018\",\"June 5, 2018\",\"June 6, 2018\",\"June 7, 2018\",\"June 8, 2018\",\"June 9, 2018\"],\"xaxis\":\"x\",\"y\":[0,0,0,0,0,0,0],\"yaxis\":\"y\",\"type\":\"scatter\"},{\"hovertemplate\":\"video title=SIDEMEN FC VS YOUTUBE ALLSTARS 2018 (Goals & Highlights)<br>day=%{x}<br>new views=%{y}<extra></extra>\",\"legendgroup\":\"SIDEMEN FC VS YOUTUBE ALLSTARS 2018 (Goals & Highlights)\",\"line\":{\"color\":\"#636efa\",\"dash\":\"solid\"},\"marker\":{\"symbol\":\"circle\"},\"mode\":\"lines\",\"name\":\"SIDEMEN FC VS YOUTUBE ALLSTARS 2018 (Goals & Highlights)\",\"orientation\":\"v\",\"showlegend\":true,\"x\":[\"June 3, 2018\",\"June 4, 2018\",\"June 5, 2018\",\"June 6, 2018\",\"June 7, 2018\",\"June 8, 2018\",\"June 9, 2018\"],\"xaxis\":\"x\",\"y\":[0,0,1126154,728010,180947,108159,61196],\"yaxis\":\"y\",\"type\":\"scatter\"},{\"hovertemplate\":\"video title=I Filled My Swimming Pool with 10,000 Water Balloons!<br>day=%{x}<br>new views=%{y}<extra></extra>\",\"legendgroup\":\"I Filled My Swimming Pool with 10,000 Water Balloons!\",\"line\":{\"color\":\"#EF553B\",\"dash\":\"solid\"},\"marker\":{\"symbol\":\"circle\"},\"mode\":\"lines\",\"name\":\"I Filled My Swimming Pool with 10,000 Water Balloons!\",\"orientation\":\"v\",\"showlegend\":true,\"x\":[\"June 3, 2018\",\"June 4, 2018\",\"June 5, 2018\",\"June 6, 2018\",\"June 7, 2018\",\"June 8, 2018\",\"June 9, 2018\"],\"xaxis\":\"x\",\"y\":[0,0,0,0,0,0,83281],\"yaxis\":\"y\",\"type\":\"scatter\"},{\"hovertemplate\":\"video title=TRY NOT TO Slip 'N Slide Through the Wrong MYSTERY BOX!!<br>day=%{x}<br>new views=%{y}<extra></extra>\",\"legendgroup\":\"TRY NOT TO Slip 'N Slide Through the Wrong MYSTERY BOX!!\",\"line\":{\"color\":\"#00cc96\",\"dash\":\"solid\"},\"marker\":{\"symbol\":\"circle\"},\"mode\":\"lines\",\"name\":\"TRY NOT TO Slip 'N Slide Through the Wrong MYSTERY BOX!!\",\"orientation\":\"v\",\"showlegend\":true,\"x\":[\"June 3, 2018\",\"June 4, 2018\",\"June 5, 2018\",\"June 6, 2018\",\"June 7, 2018\",\"June 8, 2018\",\"June 9, 2018\"],\"xaxis\":\"x\",\"y\":[0,0,252255,160456,146521,142274,119701],\"yaxis\":\"y\",\"type\":\"scatter\"},{\"hovertemplate\":\"video title=I Went To Japan To Make The Most Difficult Omelet<br>day=%{x}<br>new views=%{y}<extra></extra>\",\"legendgroup\":\"I Went To Japan To Make The Most Difficult Omelet\",\"line\":{\"color\":\"#ab63fa\",\"dash\":\"solid\"},\"marker\":{\"symbol\":\"circle\"},\"mode\":\"lines\",\"name\":\"I Went To Japan To Make The Most Difficult Omelet\",\"orientation\":\"v\",\"showlegend\":true,\"x\":[\"June 3, 2018\",\"June 4, 2018\",\"June 5, 2018\",\"June 6, 2018\",\"June 7, 2018\",\"June 8, 2018\",\"June 9, 2018\"],\"xaxis\":\"x\",\"y\":[0,0,0,0,934857,837816,279962],\"yaxis\":\"y\",\"type\":\"scatter\"},{\"hovertemplate\":\"video title=Spinning a Record to Pieces at 12,500fps - The Slow Mo Guys<br>day=%{x}<br>new views=%{y}<extra></extra>\",\"legendgroup\":\"Spinning a Record to Pieces at 12,500fps - The Slow Mo Guys\",\"line\":{\"color\":\"#FFA15A\",\"dash\":\"solid\"},\"marker\":{\"symbol\":\"circle\"},\"mode\":\"lines\",\"name\":\"Spinning a Record to Pieces at 12,500fps - The Slow Mo Guys\",\"orientation\":\"v\",\"showlegend\":true,\"x\":[\"June 3, 2018\",\"June 4, 2018\",\"June 5, 2018\",\"June 6, 2018\",\"June 7, 2018\",\"June 8, 2018\",\"June 9, 2018\"],\"xaxis\":\"x\",\"y\":[0,0,818925,610922,227865,173909,119290],\"yaxis\":\"y\",\"type\":\"scatter\"},{\"hovertemplate\":\"video title=Peppermint | Official Trailer | In Theaters September 7th, 2018<br>day=%{x}<br>new views=%{y}<extra></extra>\",\"legendgroup\":\"Peppermint | Official Trailer | In Theaters September 7th, 2018\",\"line\":{\"color\":\"#19d3f3\",\"dash\":\"solid\"},\"marker\":{\"symbol\":\"circle\"},\"mode\":\"lines\",\"name\":\"Peppermint | Official Trailer | In Theaters September 7th, 2018\",\"orientation\":\"v\",\"showlegend\":true,\"x\":[\"June 3, 2018\",\"June 4, 2018\",\"June 5, 2018\",\"June 6, 2018\",\"June 7, 2018\",\"June 8, 2018\",\"June 9, 2018\"],\"xaxis\":\"x\",\"y\":[0,0,733674,796784,501998,513944,12135],\"yaxis\":\"y\",\"type\":\"scatter\"},{\"hovertemplate\":\"video title=Game Theory: FNAF STUMPED Me! (FNAF 6 Ultimate Custom Night)<br>day=%{x}<br>new views=%{y}<extra></extra>\",\"legendgroup\":\"Game Theory: FNAF STUMPED Me! (FNAF 6 Ultimate Custom Night)\",\"line\":{\"color\":\"#FF6692\",\"dash\":\"solid\"},\"marker\":{\"symbol\":\"circle\"},\"mode\":\"lines\",\"name\":\"Game Theory: FNAF STUMPED Me! (FNAF 6 Ultimate Custom Night)\",\"orientation\":\"v\",\"showlegend\":true,\"x\":[\"June 3, 2018\",\"June 4, 2018\",\"June 5, 2018\",\"June 6, 2018\",\"June 7, 2018\",\"June 8, 2018\",\"June 9, 2018\"],\"xaxis\":\"x\",\"y\":[0,0,0,616758,283127,229345,171661],\"yaxis\":\"y\",\"type\":\"scatter\"},{\"hovertemplate\":\"video title=Ralph Breaks the Internet: Wreck-It Ralph 2 Official Trailer<br>day=%{x}<br>new views=%{y}<extra></extra>\",\"legendgroup\":\"Ralph Breaks the Internet: Wreck-It Ralph 2 Official Trailer\",\"line\":{\"color\":\"#B6E880\",\"dash\":\"solid\"},\"marker\":{\"symbol\":\"circle\"},\"mode\":\"lines\",\"name\":\"Ralph Breaks the Internet: Wreck-It Ralph 2 Official Trailer\",\"orientation\":\"v\",\"showlegend\":true,\"x\":[\"June 3, 2018\",\"June 4, 2018\",\"June 5, 2018\",\"June 6, 2018\",\"June 7, 2018\",\"June 8, 2018\",\"June 9, 2018\"],\"xaxis\":\"x\",\"y\":[0,0,0,4751644,1499834,1209054,862585],\"yaxis\":\"y\",\"type\":\"scatter\"},{\"hovertemplate\":\"video title=We Mastered That Shiny Dirt Ball<br>day=%{x}<br>new views=%{y}<extra></extra>\",\"legendgroup\":\"We Mastered That Shiny Dirt Ball\",\"line\":{\"color\":\"#FF97FF\",\"dash\":\"solid\"},\"marker\":{\"symbol\":\"circle\"},\"mode\":\"lines\",\"name\":\"We Mastered That Shiny Dirt Ball\",\"orientation\":\"v\",\"showlegend\":true,\"x\":[\"June 3, 2018\",\"June 4, 2018\",\"June 5, 2018\",\"June 6, 2018\",\"June 7, 2018\",\"June 8, 2018\",\"June 9, 2018\"],\"xaxis\":\"x\",\"y\":[0,0,0,582926,346055,343711,207823],\"yaxis\":\"y\",\"type\":\"scatter\"},{\"hovertemplate\":\"video title=$40 Gym Vs. $10,000 Gym<br>day=%{x}<br>new views=%{y}<extra></extra>\",\"legendgroup\":\"$40 Gym Vs. $10,000 Gym\",\"line\":{\"color\":\"#FECB52\",\"dash\":\"solid\"},\"marker\":{\"symbol\":\"circle\"},\"mode\":\"lines\",\"name\":\"$40 Gym Vs. $10,000 Gym\",\"orientation\":\"v\",\"showlegend\":true,\"x\":[\"June 3, 2018\",\"June 4, 2018\",\"June 5, 2018\",\"June 6, 2018\",\"June 7, 2018\",\"June 8, 2018\",\"June 9, 2018\"],\"xaxis\":\"x\",\"y\":[0,0,0,826922,334143,231461,152561],\"yaxis\":\"y\",\"type\":\"scatter\"},{\"hovertemplate\":\"video title=And the WINNER of Britain\\u2019s Got Talent 2018 is... LOST VOICE GUY! | The Final | BGT 2018<br>day=%{x}<br>new views=%{y}<extra></extra>\",\"legendgroup\":\"And the WINNER of Britain\\u2019s Got Talent 2018 is... LOST VOICE GUY! | The Final | BGT 2018\",\"line\":{\"color\":\"#636efa\",\"dash\":\"solid\"},\"marker\":{\"symbol\":\"circle\"},\"mode\":\"lines\",\"name\":\"And the WINNER of Britain\\u2019s Got Talent 2018 is... LOST VOICE GUY! | The Final | BGT 2018\",\"orientation\":\"v\",\"showlegend\":true,\"x\":[\"June 3, 2018\",\"June 4, 2018\",\"June 5, 2018\",\"June 6, 2018\",\"June 7, 2018\",\"June 8, 2018\",\"June 9, 2018\"],\"xaxis\":\"x\",\"y\":[0,0,0,943863,491408,520341,273129],\"yaxis\":\"y\",\"type\":\"scatter\"},{\"hovertemplate\":\"video title=iPhone X \\u2014 Animoji: Taxi Driver \\u2014 Apple<br>day=%{x}<br>new views=%{y}<extra></extra>\",\"legendgroup\":\"iPhone X \\u2014 Animoji: Taxi Driver \\u2014 Apple\",\"line\":{\"color\":\"#EF553B\",\"dash\":\"solid\"},\"marker\":{\"symbol\":\"circle\"},\"mode\":\"lines\",\"name\":\"iPhone X \\u2014 Animoji: Taxi Driver \\u2014 Apple\",\"orientation\":\"v\",\"showlegend\":true,\"x\":[\"June 3, 2018\",\"June 4, 2018\",\"June 5, 2018\",\"June 6, 2018\",\"June 7, 2018\",\"June 8, 2018\",\"June 9, 2018\"],\"xaxis\":\"x\",\"y\":[0,0,0,604923,154549,92776,61405],\"yaxis\":\"y\",\"type\":\"scatter\"},{\"hovertemplate\":\"video title=we broke up<br>day=%{x}<br>new views=%{y}<extra></extra>\",\"legendgroup\":\"we broke up\",\"line\":{\"color\":\"#00cc96\",\"dash\":\"solid\"},\"marker\":{\"symbol\":\"circle\"},\"mode\":\"lines\",\"name\":\"we broke up\",\"orientation\":\"v\",\"showlegend\":true,\"x\":[\"June 3, 2018\",\"June 4, 2018\",\"June 5, 2018\",\"June 6, 2018\",\"June 7, 2018\",\"June 8, 2018\",\"June 9, 2018\"],\"xaxis\":\"x\",\"y\":[0,0,0,0,4043243,4881569,2927992],\"yaxis\":\"y\",\"type\":\"scatter\"},{\"hovertemplate\":\"video title=Selena Gomez - Back To You<br>day=%{x}<br>new views=%{y}<extra></extra>\",\"legendgroup\":\"Selena Gomez - Back To You\",\"line\":{\"color\":\"#ab63fa\",\"dash\":\"solid\"},\"marker\":{\"symbol\":\"circle\"},\"mode\":\"lines\",\"name\":\"Selena Gomez - Back To You\",\"orientation\":\"v\",\"showlegend\":true,\"x\":[\"June 3, 2018\",\"June 4, 2018\",\"June 5, 2018\",\"June 6, 2018\",\"June 7, 2018\",\"June 8, 2018\",\"June 9, 2018\"],\"xaxis\":\"x\",\"y\":[0,0,0,0,4870482,4225596,3580685],\"yaxis\":\"y\",\"type\":\"scatter\"},{\"hovertemplate\":\"video title=Bumblebee (2018) - Official Teaser Trailer - Paramount Pictures<br>day=%{x}<br>new views=%{y}<extra></extra>\",\"legendgroup\":\"Bumblebee (2018) - Official Teaser Trailer - Paramount Pictures\",\"line\":{\"color\":\"#FFA15A\",\"dash\":\"solid\"},\"marker\":{\"symbol\":\"circle\"},\"mode\":\"lines\",\"name\":\"Bumblebee (2018) - Official Teaser Trailer - Paramount Pictures\",\"orientation\":\"v\",\"showlegend\":true,\"x\":[\"June 3, 2018\",\"June 4, 2018\",\"June 5, 2018\",\"June 6, 2018\",\"June 7, 2018\",\"June 8, 2018\",\"June 9, 2018\"],\"xaxis\":\"x\",\"y\":[0,0,0,0,3827572,2896068,1029606],\"yaxis\":\"y\",\"type\":\"scatter\"},{\"hovertemplate\":\"video title=Old School Trick Shots | Dude Perfect<br>day=%{x}<br>new views=%{y}<extra></extra>\",\"legendgroup\":\"Old School Trick Shots | Dude Perfect\",\"line\":{\"color\":\"#19d3f3\",\"dash\":\"solid\"},\"marker\":{\"symbol\":\"circle\"},\"mode\":\"lines\",\"name\":\"Old School Trick Shots | Dude Perfect\",\"orientation\":\"v\",\"showlegend\":true,\"x\":[\"June 3, 2018\",\"June 4, 2018\",\"June 5, 2018\",\"June 6, 2018\",\"June 7, 2018\",\"June 8, 2018\",\"June 9, 2018\"],\"xaxis\":\"x\",\"y\":[0,0,0,0,1209892,858318,625807],\"yaxis\":\"y\",\"type\":\"scatter\"},{\"hovertemplate\":\"video title=Shawn Mendes Carpool Karaoke -- #LateLateShawn<br>day=%{x}<br>new views=%{y}<extra></extra>\",\"legendgroup\":\"Shawn Mendes Carpool Karaoke -- #LateLateShawn\",\"line\":{\"color\":\"#FF6692\",\"dash\":\"solid\"},\"marker\":{\"symbol\":\"circle\"},\"mode\":\"lines\",\"name\":\"Shawn Mendes Carpool Karaoke -- #LateLateShawn\",\"orientation\":\"v\",\"showlegend\":true,\"x\":[\"June 3, 2018\",\"June 4, 2018\",\"June 5, 2018\",\"June 6, 2018\",\"June 7, 2018\",\"June 8, 2018\",\"June 9, 2018\"],\"xaxis\":\"x\",\"y\":[0,0,0,0,0,0,1472919],\"yaxis\":\"y\",\"type\":\"scatter\"},{\"hovertemplate\":\"video title=The LEGO Movie 2: The Second Part \\u2013 Official Teaser Trailer [HD]<br>day=%{x}<br>new views=%{y}<extra></extra>\",\"legendgroup\":\"The LEGO Movie 2: The Second Part \\u2013 Official Teaser Trailer [HD]\",\"line\":{\"color\":\"#B6E880\",\"dash\":\"solid\"},\"marker\":{\"symbol\":\"circle\"},\"mode\":\"lines\",\"name\":\"The LEGO Movie 2: The Second Part \\u2013 Official Teaser Trailer [HD]\",\"orientation\":\"v\",\"showlegend\":true,\"x\":[\"June 3, 2018\",\"June 4, 2018\",\"June 5, 2018\",\"June 6, 2018\",\"June 7, 2018\",\"June 8, 2018\",\"June 9, 2018\"],\"xaxis\":\"x\",\"y\":[0,0,0,0,0,0,0],\"yaxis\":\"y\",\"type\":\"scatter\"},{\"hovertemplate\":\"video title=Playing Deadpool With Ryan Reynolds!<br>day=%{x}<br>new views=%{y}<extra></extra>\",\"legendgroup\":\"Playing Deadpool With Ryan Reynolds!\",\"line\":{\"color\":\"#FF97FF\",\"dash\":\"solid\"},\"marker\":{\"symbol\":\"circle\"},\"mode\":\"lines\",\"name\":\"Playing Deadpool With Ryan Reynolds!\",\"orientation\":\"v\",\"showlegend\":true,\"x\":[\"June 3, 2018\",\"June 4, 2018\",\"June 5, 2018\",\"June 6, 2018\",\"June 7, 2018\",\"June 8, 2018\",\"June 9, 2018\"],\"xaxis\":\"x\",\"y\":[0,0,0,0,0,20365,20294],\"yaxis\":\"y\",\"type\":\"scatter\"},{\"hovertemplate\":\"video title=SPIDER-MAN: INTO THE SPIDER-VERSE - Official Trailer (HD)<br>day=%{x}<br>new views=%{y}<extra></extra>\",\"legendgroup\":\"SPIDER-MAN: INTO THE SPIDER-VERSE - Official Trailer (HD)\",\"line\":{\"color\":\"#FECB52\",\"dash\":\"solid\"},\"marker\":{\"symbol\":\"circle\"},\"mode\":\"lines\",\"name\":\"SPIDER-MAN: INTO THE SPIDER-VERSE - Official Trailer (HD)\",\"orientation\":\"v\",\"showlegend\":true,\"x\":[\"June 3, 2018\",\"June 4, 2018\",\"June 5, 2018\",\"June 6, 2018\",\"June 7, 2018\",\"June 8, 2018\",\"June 9, 2018\"],\"xaxis\":\"x\",\"y\":[0,0,0,0,0,5112669,3530537],\"yaxis\":\"y\",\"type\":\"scatter\"},{\"hovertemplate\":\"video title=MY APARTMENT TOUR!!<br>day=%{x}<br>new views=%{y}<extra></extra>\",\"legendgroup\":\"MY APARTMENT TOUR!!\",\"line\":{\"color\":\"#636efa\",\"dash\":\"solid\"},\"marker\":{\"symbol\":\"circle\"},\"mode\":\"lines\",\"name\":\"MY APARTMENT TOUR!!\",\"orientation\":\"v\",\"showlegend\":true,\"x\":[\"June 3, 2018\",\"June 4, 2018\",\"June 5, 2018\",\"June 6, 2018\",\"June 7, 2018\",\"June 8, 2018\",\"June 9, 2018\"],\"xaxis\":\"x\",\"y\":[0,0,0,0,0,705992,348079],\"yaxis\":\"y\",\"type\":\"scatter\"},{\"hovertemplate\":\"video title=Meghan Trainor - Let You Be Right<br>day=%{x}<br>new views=%{y}<extra></extra>\",\"legendgroup\":\"Meghan Trainor - Let You Be Right\",\"line\":{\"color\":\"#EF553B\",\"dash\":\"solid\"},\"marker\":{\"symbol\":\"circle\"},\"mode\":\"lines\",\"name\":\"Meghan Trainor - Let You Be Right\",\"orientation\":\"v\",\"showlegend\":true,\"x\":[\"June 3, 2018\",\"June 4, 2018\",\"June 5, 2018\",\"June 6, 2018\",\"June 7, 2018\",\"June 8, 2018\",\"June 9, 2018\"],\"xaxis\":\"x\",\"y\":[0,0,0,0,0,331811,289425],\"yaxis\":\"y\",\"type\":\"scatter\"},{\"hovertemplate\":\"video title=Michael Ketterer: Father Of 6 Scores Golden Buzzer From Simon Cowell - America's Got Talent 2018<br>day=%{x}<br>new views=%{y}<extra></extra>\",\"legendgroup\":\"Michael Ketterer: Father Of 6 Scores Golden Buzzer From Simon Cowell - America's Got Talent 2018\",\"line\":{\"color\":\"#00cc96\",\"dash\":\"solid\"},\"marker\":{\"symbol\":\"circle\"},\"mode\":\"lines\",\"name\":\"Michael Ketterer: Father Of 6 Scores Golden Buzzer From Simon Cowell - America's Got Talent 2018\",\"orientation\":\"v\",\"showlegend\":true,\"x\":[\"June 3, 2018\",\"June 4, 2018\",\"June 5, 2018\",\"June 6, 2018\",\"June 7, 2018\",\"June 8, 2018\",\"June 9, 2018\"],\"xaxis\":\"x\",\"y\":[0,0,0,0,0,681735,439751],\"yaxis\":\"y\",\"type\":\"scatter\"},{\"hovertemplate\":\"video title=The 1975 - Give Yourself A Try<br>day=%{x}<br>new views=%{y}<extra></extra>\",\"legendgroup\":\"The 1975 - Give Yourself A Try\",\"line\":{\"color\":\"#ab63fa\",\"dash\":\"solid\"},\"marker\":{\"symbol\":\"circle\"},\"mode\":\"lines\",\"name\":\"The 1975 - Give Yourself A Try\",\"orientation\":\"v\",\"showlegend\":true,\"x\":[\"June 3, 2018\",\"June 4, 2018\",\"June 5, 2018\",\"June 6, 2018\",\"June 7, 2018\",\"June 8, 2018\",\"June 9, 2018\"],\"xaxis\":\"x\",\"y\":[0,0,0,0,0,0,160470],\"yaxis\":\"y\",\"type\":\"scatter\"},{\"hovertemplate\":\"video title=Pastry Chef Attempts To Make Gourmet Skittles | Gourmet Makes | Bon App\\u00e9tit<br>day=%{x}<br>new views=%{y}<extra></extra>\",\"legendgroup\":\"Pastry Chef Attempts To Make Gourmet Skittles | Gourmet Makes | Bon App\\u00e9tit\",\"line\":{\"color\":\"#FFA15A\",\"dash\":\"solid\"},\"marker\":{\"symbol\":\"circle\"},\"mode\":\"lines\",\"name\":\"Pastry Chef Attempts To Make Gourmet Skittles | Gourmet Makes | Bon App\\u00e9tit\",\"orientation\":\"v\",\"showlegend\":true,\"x\":[\"June 3, 2018\",\"June 4, 2018\",\"June 5, 2018\",\"June 6, 2018\",\"June 7, 2018\",\"June 8, 2018\",\"June 9, 2018\"],\"xaxis\":\"x\",\"y\":[0,0,0,0,0,0,468380],\"yaxis\":\"y\",\"type\":\"scatter\"},{\"hovertemplate\":\"video title=A STAR IS BORN - Official Trailer 1<br>day=%{x}<br>new views=%{y}<extra></extra>\",\"legendgroup\":\"A STAR IS BORN - Official Trailer 1\",\"line\":{\"color\":\"#19d3f3\",\"dash\":\"solid\"},\"marker\":{\"symbol\":\"circle\"},\"mode\":\"lines\",\"name\":\"A STAR IS BORN - Official Trailer 1\",\"orientation\":\"v\",\"showlegend\":true,\"x\":[\"June 3, 2018\",\"June 4, 2018\",\"June 5, 2018\",\"June 6, 2018\",\"June 7, 2018\",\"June 8, 2018\",\"June 9, 2018\"],\"xaxis\":\"x\",\"y\":[0,0,0,0,0,0,864675],\"yaxis\":\"y\",\"type\":\"scatter\"},{\"hovertemplate\":\"video title=Wouldn't Leave<br>day=%{x}<br>new views=%{y}<extra></extra>\",\"legendgroup\":\"Wouldn't Leave\",\"line\":{\"color\":\"#FF6692\",\"dash\":\"solid\"},\"marker\":{\"symbol\":\"circle\"},\"mode\":\"lines\",\"name\":\"Wouldn't Leave\",\"orientation\":\"v\",\"showlegend\":true,\"x\":[\"June 3, 2018\",\"June 4, 2018\",\"June 5, 2018\",\"June 6, 2018\",\"June 7, 2018\",\"June 8, 2018\",\"June 9, 2018\"],\"xaxis\":\"x\",\"y\":[0,0,0,0,0,0,138482],\"yaxis\":\"y\",\"type\":\"scatter\"},{\"hovertemplate\":\"video title=Live It Up (Official Video) - Nicky Jam feat. Will Smith & Era Istrefi (2018 FIFA World Cup Russia)<br>day=%{x}<br>new views=%{y}<extra></extra>\",\"legendgroup\":\"Live It Up (Official Video) - Nicky Jam feat. Will Smith & Era Istrefi (2018 FIFA World Cup Russia)\",\"line\":{\"color\":\"#B6E880\",\"dash\":\"solid\"},\"marker\":{\"symbol\":\"circle\"},\"mode\":\"lines\",\"name\":\"Live It Up (Official Video) - Nicky Jam feat. Will Smith & Era Istrefi (2018 FIFA World Cup Russia)\",\"orientation\":\"v\",\"showlegend\":true,\"x\":[\"June 3, 2018\",\"June 4, 2018\",\"June 5, 2018\",\"June 6, 2018\",\"June 7, 2018\",\"June 8, 2018\",\"June 9, 2018\"],\"xaxis\":\"x\",\"y\":[0,0,0,0,0,0,0],\"yaxis\":\"y\",\"type\":\"scatter\"},{\"hovertemplate\":\"video title=Halloween - Official Trailer (HD)<br>day=%{x}<br>new views=%{y}<extra></extra>\",\"legendgroup\":\"Halloween - Official Trailer (HD)\",\"line\":{\"color\":\"#FF97FF\",\"dash\":\"solid\"},\"marker\":{\"symbol\":\"circle\"},\"mode\":\"lines\",\"name\":\"Halloween - Official Trailer (HD)\",\"orientation\":\"v\",\"showlegend\":true,\"x\":[\"June 3, 2018\",\"June 4, 2018\",\"June 5, 2018\",\"June 6, 2018\",\"June 7, 2018\",\"June 8, 2018\",\"June 9, 2018\"],\"xaxis\":\"x\",\"y\":[0,0,0,0,0,0,0],\"yaxis\":\"y\",\"type\":\"scatter\"},{\"hovertemplate\":\"video title=HOW TO TRAIN YOUR DRAGON: THE HIDDEN WORLD | Official Trailer<br>day=%{x}<br>new views=%{y}<extra></extra>\",\"legendgroup\":\"HOW TO TRAIN YOUR DRAGON: THE HIDDEN WORLD | Official Trailer\",\"line\":{\"color\":\"#FECB52\",\"dash\":\"solid\"},\"marker\":{\"symbol\":\"circle\"},\"mode\":\"lines\",\"name\":\"HOW TO TRAIN YOUR DRAGON: THE HIDDEN WORLD | Official Trailer\",\"orientation\":\"v\",\"showlegend\":true,\"x\":[\"June 3, 2018\",\"June 4, 2018\",\"June 5, 2018\",\"June 6, 2018\",\"June 7, 2018\",\"June 8, 2018\",\"June 9, 2018\"],\"xaxis\":\"x\",\"y\":[0,0,0,0,0,0,0],\"yaxis\":\"y\",\"type\":\"scatter\"},{\"hovertemplate\":\"video title=Gordon Ramsay vs Madelaine Petsch In VEGAN MASTERCHEF COOK OFF!<br>day=%{x}<br>new views=%{y}<extra></extra>\",\"legendgroup\":\"Gordon Ramsay vs Madelaine Petsch In VEGAN MASTERCHEF COOK OFF!\",\"line\":{\"color\":\"#636efa\",\"dash\":\"solid\"},\"marker\":{\"symbol\":\"circle\"},\"mode\":\"lines\",\"name\":\"Gordon Ramsay vs Madelaine Petsch In VEGAN MASTERCHEF COOK OFF!\",\"orientation\":\"v\",\"showlegend\":true,\"x\":[\"June 3, 2018\",\"June 4, 2018\",\"June 5, 2018\",\"June 6, 2018\",\"June 7, 2018\",\"June 8, 2018\",\"June 9, 2018\"],\"xaxis\":\"x\",\"y\":[0,0,0,0,0,0,0],\"yaxis\":\"y\",\"type\":\"scatter\"},{\"hovertemplate\":\"video title=Don't Open The Wrong Mystery Door!!<br>day=%{x}<br>new views=%{y}<extra></extra>\",\"legendgroup\":\"Don't Open The Wrong Mystery Door!!\",\"line\":{\"color\":\"#EF553B\",\"dash\":\"solid\"},\"marker\":{\"symbol\":\"circle\"},\"mode\":\"lines\",\"name\":\"Don't Open The Wrong Mystery Door!!\",\"orientation\":\"v\",\"showlegend\":true,\"x\":[\"June 3, 2018\",\"June 4, 2018\",\"June 5, 2018\",\"June 6, 2018\",\"June 7, 2018\",\"June 8, 2018\",\"June 9, 2018\"],\"xaxis\":\"x\",\"y\":[0,0,0,0,0,0,0],\"yaxis\":\"y\",\"type\":\"scatter\"},{\"hovertemplate\":\"video title=Shawn Mendes Answers the Web's Most Searched Questions | WIRED<br>day=%{x}<br>new views=%{y}<extra></extra>\",\"legendgroup\":\"Shawn Mendes Answers the Web's Most Searched Questions | WIRED\",\"line\":{\"color\":\"#00cc96\",\"dash\":\"solid\"},\"marker\":{\"symbol\":\"circle\"},\"mode\":\"lines\",\"name\":\"Shawn Mendes Answers the Web's Most Searched Questions | WIRED\",\"orientation\":\"v\",\"showlegend\":true,\"x\":[\"June 3, 2018\",\"June 4, 2018\",\"June 5, 2018\",\"June 6, 2018\",\"June 7, 2018\",\"June 8, 2018\",\"June 9, 2018\"],\"xaxis\":\"x\",\"y\":[0,0,0,0,0,0,0],\"yaxis\":\"y\",\"type\":\"scatter\"},{\"hovertemplate\":\"video title=SERENITY Official Trailer (2018) Matthew McConaughey, Anne Hathaway Movie HD<br>day=%{x}<br>new views=%{y}<extra></extra>\",\"legendgroup\":\"SERENITY Official Trailer (2018) Matthew McConaughey, Anne Hathaway Movie HD\",\"line\":{\"color\":\"#ab63fa\",\"dash\":\"solid\"},\"marker\":{\"symbol\":\"circle\"},\"mode\":\"lines\",\"name\":\"SERENITY Official Trailer (2018) Matthew McConaughey, Anne Hathaway Movie HD\",\"orientation\":\"v\",\"showlegend\":true,\"x\":[\"June 3, 2018\",\"June 4, 2018\",\"June 5, 2018\",\"June 6, 2018\",\"June 7, 2018\",\"June 8, 2018\",\"June 9, 2018\"],\"xaxis\":\"x\",\"y\":[0,0,0,0,0,0,0],\"yaxis\":\"y\",\"type\":\"scatter\"},{\"hovertemplate\":\"video title=Mustard, Nick Jonas - Anywhere<br>day=%{x}<br>new views=%{y}<extra></extra>\",\"legendgroup\":\"Mustard, Nick Jonas - Anywhere\",\"line\":{\"color\":\"#FFA15A\",\"dash\":\"solid\"},\"marker\":{\"symbol\":\"circle\"},\"mode\":\"lines\",\"name\":\"Mustard, Nick Jonas - Anywhere\",\"orientation\":\"v\",\"showlegend\":true,\"x\":[\"June 3, 2018\",\"June 4, 2018\",\"June 5, 2018\",\"June 6, 2018\",\"June 7, 2018\",\"June 8, 2018\",\"June 9, 2018\"],\"xaxis\":\"x\",\"y\":[0,0,0,0,0,0,0],\"yaxis\":\"y\",\"type\":\"scatter\"}],                        {\"template\":{\"data\":{\"bar\":[{\"error_x\":{\"color\":\"#2a3f5f\"},\"error_y\":{\"color\":\"#2a3f5f\"},\"marker\":{\"line\":{\"color\":\"#E5ECF6\",\"width\":0.5},\"pattern\":{\"fillmode\":\"overlay\",\"size\":10,\"solidity\":0.2}},\"type\":\"bar\"}],\"barpolar\":[{\"marker\":{\"line\":{\"color\":\"#E5ECF6\",\"width\":0.5},\"pattern\":{\"fillmode\":\"overlay\",\"size\":10,\"solidity\":0.2}},\"type\":\"barpolar\"}],\"carpet\":[{\"aaxis\":{\"endlinecolor\":\"#2a3f5f\",\"gridcolor\":\"white\",\"linecolor\":\"white\",\"minorgridcolor\":\"white\",\"startlinecolor\":\"#2a3f5f\"},\"baxis\":{\"endlinecolor\":\"#2a3f5f\",\"gridcolor\":\"white\",\"linecolor\":\"white\",\"minorgridcolor\":\"white\",\"startlinecolor\":\"#2a3f5f\"},\"type\":\"carpet\"}],\"choropleth\":[{\"colorbar\":{\"outlinewidth\":0,\"ticks\":\"\"},\"type\":\"choropleth\"}],\"contour\":[{\"colorbar\":{\"outlinewidth\":0,\"ticks\":\"\"},\"colorscale\":[[0.0,\"#0d0887\"],[0.1111111111111111,\"#46039f\"],[0.2222222222222222,\"#7201a8\"],[0.3333333333333333,\"#9c179e\"],[0.4444444444444444,\"#bd3786\"],[0.5555555555555556,\"#d8576b\"],[0.6666666666666666,\"#ed7953\"],[0.7777777777777778,\"#fb9f3a\"],[0.8888888888888888,\"#fdca26\"],[1.0,\"#f0f921\"]],\"type\":\"contour\"}],\"contourcarpet\":[{\"colorbar\":{\"outlinewidth\":0,\"ticks\":\"\"},\"type\":\"contourcarpet\"}],\"heatmap\":[{\"colorbar\":{\"outlinewidth\":0,\"ticks\":\"\"},\"colorscale\":[[0.0,\"#0d0887\"],[0.1111111111111111,\"#46039f\"],[0.2222222222222222,\"#7201a8\"],[0.3333333333333333,\"#9c179e\"],[0.4444444444444444,\"#bd3786\"],[0.5555555555555556,\"#d8576b\"],[0.6666666666666666,\"#ed7953\"],[0.7777777777777778,\"#fb9f3a\"],[0.8888888888888888,\"#fdca26\"],[1.0,\"#f0f921\"]],\"type\":\"heatmap\"}],\"heatmapgl\":[{\"colorbar\":{\"outlinewidth\":0,\"ticks\":\"\"},\"colorscale\":[[0.0,\"#0d0887\"],[0.1111111111111111,\"#46039f\"],[0.2222222222222222,\"#7201a8\"],[0.3333333333333333,\"#9c179e\"],[0.4444444444444444,\"#bd3786\"],[0.5555555555555556,\"#d8576b\"],[0.6666666666666666,\"#ed7953\"],[0.7777777777777778,\"#fb9f3a\"],[0.8888888888888888,\"#fdca26\"],[1.0,\"#f0f921\"]],\"type\":\"heatmapgl\"}],\"histogram\":[{\"marker\":{\"pattern\":{\"fillmode\":\"overlay\",\"size\":10,\"solidity\":0.2}},\"type\":\"histogram\"}],\"histogram2d\":[{\"colorbar\":{\"outlinewidth\":0,\"ticks\":\"\"},\"colorscale\":[[0.0,\"#0d0887\"],[0.1111111111111111,\"#46039f\"],[0.2222222222222222,\"#7201a8\"],[0.3333333333333333,\"#9c179e\"],[0.4444444444444444,\"#bd3786\"],[0.5555555555555556,\"#d8576b\"],[0.6666666666666666,\"#ed7953\"],[0.7777777777777778,\"#fb9f3a\"],[0.8888888888888888,\"#fdca26\"],[1.0,\"#f0f921\"]],\"type\":\"histogram2d\"}],\"histogram2dcontour\":[{\"colorbar\":{\"outlinewidth\":0,\"ticks\":\"\"},\"colorscale\":[[0.0,\"#0d0887\"],[0.1111111111111111,\"#46039f\"],[0.2222222222222222,\"#7201a8\"],[0.3333333333333333,\"#9c179e\"],[0.4444444444444444,\"#bd3786\"],[0.5555555555555556,\"#d8576b\"],[0.6666666666666666,\"#ed7953\"],[0.7777777777777778,\"#fb9f3a\"],[0.8888888888888888,\"#fdca26\"],[1.0,\"#f0f921\"]],\"type\":\"histogram2dcontour\"}],\"mesh3d\":[{\"colorbar\":{\"outlinewidth\":0,\"ticks\":\"\"},\"type\":\"mesh3d\"}],\"parcoords\":[{\"line\":{\"colorbar\":{\"outlinewidth\":0,\"ticks\":\"\"}},\"type\":\"parcoords\"}],\"pie\":[{\"automargin\":true,\"type\":\"pie\"}],\"scatter\":[{\"marker\":{\"colorbar\":{\"outlinewidth\":0,\"ticks\":\"\"}},\"type\":\"scatter\"}],\"scatter3d\":[{\"line\":{\"colorbar\":{\"outlinewidth\":0,\"ticks\":\"\"}},\"marker\":{\"colorbar\":{\"outlinewidth\":0,\"ticks\":\"\"}},\"type\":\"scatter3d\"}],\"scattercarpet\":[{\"marker\":{\"colorbar\":{\"outlinewidth\":0,\"ticks\":\"\"}},\"type\":\"scattercarpet\"}],\"scattergeo\":[{\"marker\":{\"colorbar\":{\"outlinewidth\":0,\"ticks\":\"\"}},\"type\":\"scattergeo\"}],\"scattergl\":[{\"marker\":{\"colorbar\":{\"outlinewidth\":0,\"ticks\":\"\"}},\"type\":\"scattergl\"}],\"scattermapbox\":[{\"marker\":{\"colorbar\":{\"outlinewidth\":0,\"ticks\":\"\"}},\"type\":\"scattermapbox\"}],\"scatterpolar\":[{\"marker\":{\"colorbar\":{\"outlinewidth\":0,\"ticks\":\"\"}},\"type\":\"scatterpolar\"}],\"scatterpolargl\":[{\"marker\":{\"colorbar\":{\"outlinewidth\":0,\"ticks\":\"\"}},\"type\":\"scatterpolargl\"}],\"scatterternary\":[{\"marker\":{\"colorbar\":{\"outlinewidth\":0,\"ticks\":\"\"}},\"type\":\"scatterternary\"}],\"surface\":[{\"colorbar\":{\"outlinewidth\":0,\"ticks\":\"\"},\"colorscale\":[[0.0,\"#0d0887\"],[0.1111111111111111,\"#46039f\"],[0.2222222222222222,\"#7201a8\"],[0.3333333333333333,\"#9c179e\"],[0.4444444444444444,\"#bd3786\"],[0.5555555555555556,\"#d8576b\"],[0.6666666666666666,\"#ed7953\"],[0.7777777777777778,\"#fb9f3a\"],[0.8888888888888888,\"#fdca26\"],[1.0,\"#f0f921\"]],\"type\":\"surface\"}],\"table\":[{\"cells\":{\"fill\":{\"color\":\"#EBF0F8\"},\"line\":{\"color\":\"white\"}},\"header\":{\"fill\":{\"color\":\"#C8D4E3\"},\"line\":{\"color\":\"white\"}},\"type\":\"table\"}]},\"layout\":{\"annotationdefaults\":{\"arrowcolor\":\"#2a3f5f\",\"arrowhead\":0,\"arrowwidth\":1},\"autotypenumbers\":\"strict\",\"coloraxis\":{\"colorbar\":{\"outlinewidth\":0,\"ticks\":\"\"}},\"colorscale\":{\"diverging\":[[0,\"#8e0152\"],[0.1,\"#c51b7d\"],[0.2,\"#de77ae\"],[0.3,\"#f1b6da\"],[0.4,\"#fde0ef\"],[0.5,\"#f7f7f7\"],[0.6,\"#e6f5d0\"],[0.7,\"#b8e186\"],[0.8,\"#7fbc41\"],[0.9,\"#4d9221\"],[1,\"#276419\"]],\"sequential\":[[0.0,\"#0d0887\"],[0.1111111111111111,\"#46039f\"],[0.2222222222222222,\"#7201a8\"],[0.3333333333333333,\"#9c179e\"],[0.4444444444444444,\"#bd3786\"],[0.5555555555555556,\"#d8576b\"],[0.6666666666666666,\"#ed7953\"],[0.7777777777777778,\"#fb9f3a\"],[0.8888888888888888,\"#fdca26\"],[1.0,\"#f0f921\"]],\"sequentialminus\":[[0.0,\"#0d0887\"],[0.1111111111111111,\"#46039f\"],[0.2222222222222222,\"#7201a8\"],[0.3333333333333333,\"#9c179e\"],[0.4444444444444444,\"#bd3786\"],[0.5555555555555556,\"#d8576b\"],[0.6666666666666666,\"#ed7953\"],[0.7777777777777778,\"#fb9f3a\"],[0.8888888888888888,\"#fdca26\"],[1.0,\"#f0f921\"]]},\"colorway\":[\"#636efa\",\"#EF553B\",\"#00cc96\",\"#ab63fa\",\"#FFA15A\",\"#19d3f3\",\"#FF6692\",\"#B6E880\",\"#FF97FF\",\"#FECB52\"],\"font\":{\"color\":\"#2a3f5f\"},\"geo\":{\"bgcolor\":\"white\",\"lakecolor\":\"white\",\"landcolor\":\"#E5ECF6\",\"showlakes\":true,\"showland\":true,\"subunitcolor\":\"white\"},\"hoverlabel\":{\"align\":\"left\"},\"hovermode\":\"closest\",\"mapbox\":{\"style\":\"light\"},\"paper_bgcolor\":\"white\",\"plot_bgcolor\":\"#E5ECF6\",\"polar\":{\"angularaxis\":{\"gridcolor\":\"white\",\"linecolor\":\"white\",\"ticks\":\"\"},\"bgcolor\":\"#E5ECF6\",\"radialaxis\":{\"gridcolor\":\"white\",\"linecolor\":\"white\",\"ticks\":\"\"}},\"scene\":{\"xaxis\":{\"backgroundcolor\":\"#E5ECF6\",\"gridcolor\":\"white\",\"gridwidth\":2,\"linecolor\":\"white\",\"showbackground\":true,\"ticks\":\"\",\"zerolinecolor\":\"white\"},\"yaxis\":{\"backgroundcolor\":\"#E5ECF6\",\"gridcolor\":\"white\",\"gridwidth\":2,\"linecolor\":\"white\",\"showbackground\":true,\"ticks\":\"\",\"zerolinecolor\":\"white\"},\"zaxis\":{\"backgroundcolor\":\"#E5ECF6\",\"gridcolor\":\"white\",\"gridwidth\":2,\"linecolor\":\"white\",\"showbackground\":true,\"ticks\":\"\",\"zerolinecolor\":\"white\"}},\"shapedefaults\":{\"line\":{\"color\":\"#2a3f5f\"}},\"ternary\":{\"aaxis\":{\"gridcolor\":\"white\",\"linecolor\":\"white\",\"ticks\":\"\"},\"baxis\":{\"gridcolor\":\"white\",\"linecolor\":\"white\",\"ticks\":\"\"},\"bgcolor\":\"#E5ECF6\",\"caxis\":{\"gridcolor\":\"white\",\"linecolor\":\"white\",\"ticks\":\"\"}},\"title\":{\"x\":0.05},\"xaxis\":{\"automargin\":true,\"gridcolor\":\"white\",\"linecolor\":\"white\",\"ticks\":\"\",\"title\":{\"standoff\":15},\"zerolinecolor\":\"white\",\"zerolinewidth\":2},\"yaxis\":{\"automargin\":true,\"gridcolor\":\"white\",\"linecolor\":\"white\",\"ticks\":\"\",\"title\":{\"standoff\":15},\"zerolinecolor\":\"white\",\"zerolinewidth\":2}}},\"xaxis\":{\"anchor\":\"y\",\"domain\":[0.0,1.0],\"title\":{\"text\":\"day\"}},\"yaxis\":{\"anchor\":\"x\",\"domain\":[0.0,1.0],\"title\":{\"text\":\"new views\"}},\"legend\":{\"title\":{\"text\":\"video title\"},\"tracegroupgap\":0},\"title\":{\"text\":\"Increases in view count of trending videos during the week of June 3-9, 2018\"},\"showlegend\":false},                        {\"responsive\": true}                    ).then(function(){\n",
              "                            \n",
              "var gd = document.getElementById('d579944c-99a9-48a1-ae3e-023edcd5676a');\n",
              "var x = new MutationObserver(function (mutations, observer) {{\n",
              "        var display = window.getComputedStyle(gd).display;\n",
              "        if (!display || display === 'none') {{\n",
              "            console.log([gd, 'removed!']);\n",
              "            Plotly.purge(gd);\n",
              "            observer.disconnect();\n",
              "        }}\n",
              "}});\n",
              "\n",
              "// Listen for the removal of the full notebook cells\n",
              "var notebookContainer = gd.closest('#notebook-container');\n",
              "if (notebookContainer) {{\n",
              "    x.observe(notebookContainer, {childList: true});\n",
              "}}\n",
              "\n",
              "// Listen for the clearing of the current output cell\n",
              "var outputEl = gd.closest('.output');\n",
              "if (outputEl) {{\n",
              "    x.observe(outputEl, {childList: true});\n",
              "}}\n",
              "\n",
              "                        })                };                            </script>        </div>\n",
              "</body>\n",
              "</html>"
            ]
          },
          "metadata": {}
        }
      ]
    },
    {
      "cell_type": "markdown",
      "metadata": {
        "id": "nZ5KLKFrrNfC"
      },
      "source": [
        "### Let's Get Analytical\n",
        "\n",
        "**Given the graph above, answer the following questions in the cell below:**\n",
        "\n",
        "(You can hover over each line for additional information.)\n",
        "\n",
        "1. What do you notice?\n",
        "2. What do you wonder?\n",
        "3. What might be going on in this graph? Write a catchy headline that captures the graph’s main idea."
      ]
    },
    {
      "cell_type": "markdown",
      "metadata": {
        "id": "StJCFQn2lsS8"
      },
      "source": [
        "<< ***STUDENT RESPONSE*** >>\n",
        "\n",
        "1.\n",
        "2.\n",
        "3."
      ]
    },
    {
      "cell_type": "markdown",
      "metadata": {
        "id": "7ts52rITkM3D"
      },
      "source": [
        "# **Exploration 3**"
      ]
    },
    {
      "cell_type": "markdown",
      "metadata": {
        "id": "IfrRgMv-sygg"
      },
      "source": [
        "Finally, we'll check out the relationship between view count and the number of likes/dislikes."
      ]
    },
    {
      "cell_type": "markdown",
      "metadata": {
        "id": "qT01Ni90tiqK"
      },
      "source": [
        "1. Store the number of likes, dislikes, and corresponding view count"
      ]
    },
    {
      "cell_type": "code",
      "metadata": {
        "id": "HA-TgJiNrlWg"
      },
      "source": [
        "# Create a structure named \"likesDislikes_dict\" to store raw information from our dataset\n",
        "# in the particular format understood by our graphing function\n",
        "likesDislikes_dict = {\n",
        "    'views': [],\n",
        "    '# responses': [],\n",
        "    'type': [] # type refers to Likes or Dislikes\n",
        "}\n",
        "\n",
        "print(\"Structure named 'likesDislikes_dict' with columns 'views', '# responses', and 'type' created!\")"
      ],
      "execution_count": null,
      "outputs": []
    },
    {
      "cell_type": "code",
      "metadata": {
        "id": "j8fE7cMTx0ql"
      },
      "source": [
        "# For each entry in our dataset, store every pair of views + likes, and\n",
        "# every pair of views + dislikes\n",
        "for i,r in df.iterrows():\n",
        "  row = df.iloc[i]\n",
        "  views = row['views']\n",
        "  likes = row['likes']\n",
        "  dislikes = row['dislikes']\n",
        "\n",
        "  # Add likes\n",
        "  likesDislikes_dict['views'].append(views)\n",
        "  likesDislikes_dict['# responses'].append(likes)\n",
        "  likesDislikes_dict['type'].append('Likes')\n",
        "\n",
        "  # Add dislikes\n",
        "  likesDislikes_dict['views'].append(views)\n",
        "  likesDislikes_dict['# responses'].append(dislikes)\n",
        "  likesDislikes_dict['type'].append('Dislikes')\n",
        "\n",
        "df3 = pd.DataFrame.from_dict(likesDislikes_dict)\n",
        "\n",
        "print(\"Likes, dislikes, and view counts stored and formatted properly for graphing!\")"
      ],
      "execution_count": null,
      "outputs": []
    },
    {
      "cell_type": "markdown",
      "metadata": {
        "id": "oKiJ8FXEtkw8"
      },
      "source": [
        "2. Create scatter plot"
      ]
    },
    {
      "cell_type": "code",
      "metadata": {
        "id": "yFNZutI9WiEd"
      },
      "source": [
        "# Input our properly-formatted data into our graphing function and specify that\n",
        "# the x-axis will be the number of views,\n",
        "# the y-axis will be the number of responses (i.e., number of likes or dislikes), and\n",
        "# the plotted points will be colored depending on whether it is showing a like or dislike count\n",
        "fig3 = px.scatter(df3, x='views', y='# responses', color='type', title=\"Correlation between views and likes/dislikes for videos trending during the week of June 3-9, 2018\")\n",
        "fig3.show()"
      ],
      "execution_count": null,
      "outputs": []
    },
    {
      "cell_type": "markdown",
      "metadata": {
        "id": "IJ728rIGtodh"
      },
      "source": [
        "### Let's Get Analytical\n",
        "\n",
        "**Given the graph above, answer the following questions:**\n",
        "\n",
        "(You can hover over each point for additional information.)\n",
        "\n",
        "1. What do you notice?\n",
        "2. What do you wonder?\n",
        "3. What might be going on in this graph? Write a catchy headline that captures the graph’s main idea."
      ]
    },
    {
      "cell_type": "markdown",
      "metadata": {
        "id": "t99f5HJknJ1_"
      },
      "source": [
        "<< ***STUDENT RESPONSE*** >>\n",
        "\n",
        "1.\n",
        "2.\n",
        "3."
      ]
    },
    {
      "cell_type": "markdown",
      "metadata": {
        "id": "SnrTTFcskYIx"
      },
      "source": [
        "# **Final Comments**"
      ]
    },
    {
      "cell_type": "markdown",
      "metadata": {
        "id": "UD2NcuPppJzr"
      },
      "source": [
        "##Our Thoughts on Each Graph"
      ]
    },
    {
      "cell_type": "markdown",
      "metadata": {
        "id": "X6CJaq2bndJD"
      },
      "source": [
        "###*Graph #1*\n",
        "\n",
        "In this graph, we can see the number of days during the week each video was trending. The bars on the left side of the graph show that the most common trending time was 7 days--the whole week. Looking at the titles of the 7-day trending videos, you can see that many of them are official music videos or movie trailers. If you watch videos on YouTube, does this trend match what you often watch?\n",
        "\n",
        "Something else to consider: how do you think examining only one week affects our view of how popular each video was? This dataset only gives us data on the trending videos on June 3 - 9, 2018. Do you think that some of the videos that were only trending for one day in this week (the shortest bars to the right) might've begun trending the week before? Consider what else we can and can’t assume from this graph."
      ]
    },
    {
      "cell_type": "markdown",
      "metadata": {
        "id": "hTOnnFnWpClv"
      },
      "source": [
        "###*Graph #2*\n",
        "\n",
        "Graph 2 illustrates the number of new views for the top trending videos on YouTube for the week of June 3-9, 2018. If you hover over any line, you can see the corresponding name of the video, the date, and the number of new viewers. For each day we can find the difference in the amount of new viewers between two videos. We can also find how many total new viewers each video got the week of June 3-9 by adding the amount of new viewers for each day in the week.\n",
        "\n",
        "The percent change in the number of new viewers between two dates can by found by subtracting the two dates (later date - earlier date) and dividing by the earlier date. Take a moment to find the percent change between June 7th and June 8th of three different videos. What can you look at to predict if the percent change will be positive or negative?\n",
        "\n",
        "While the lines of the majority of the videos are clustered below 3 million views, there are a couple of videos that consistently get 5 million\n",
        "or more new viewers each day this week. What questions does this lead you to ask? Take a look at the largest number of new viewers a video gets this week.\n",
        "How many new viewers is this and was is the name of the video? Would you consider this video an outlier? We also note that certain videos have\n",
        "large peaks. Which video demonstrates the largest increase in new viewers from June 6th to June 7th?"
      ]
    },
    {
      "cell_type": "markdown",
      "metadata": {
        "id": "6fMPNQfnpCrC"
      },
      "source": [
        "###*Graph #3*\n",
        "\n",
        "This graph shows data on the number of views a Youtube video has (on the x-axis) and the number of times people interacted with the corresponding video (on the y-axis). Data counting likes are represented by blue dots, and data counting dislikes are shown in red dots.\n",
        "\n",
        "Since the graph shows two different variables, it can be used to understand the relationship between the number of views and the number of likes/dislikes a video has. Notice how as the number of views increases, the number of likes also seems to increase significantly. This is a sign of an upwards trend and positive correlation. However, more complicated statistical tests are needed to understand the significance of these correlations and confirm the two variables are related.\n",
        "\n",
        "After spending some time observing the graph, you may want to think critically about these additional questions:\n",
        "\n",
        "* What do you notice about the scale of the dots representing likes vs. scale of dots representing dislikes? What does this tell you about the likes/dislikes on Youtube videos in general and how does this change your understanding of the correlation between the two variables?\n",
        "* Do you think this graph succeeds in telling a story? Why or why not?\n",
        "* Is the graph understandable and clear? If so, what elements (ex: labels, axes) help you to understand the graph? Is there anything that can be added or removed to make it more clear?\n",
        "* What are other variables in the dataset you might plot using this type of graph? What kinds of data can be used in making a scatterplot?\n",
        "\n"
      ]
    },
    {
      "cell_type": "markdown",
      "metadata": {
        "id": "7srfbSNBQ_bC"
      },
      "source": [
        "##Other Possible Explorations\n",
        "\n",
        "There are many other ways we can manipulate this dataset to answer more questions. Here are some additional questions we can ask, and how we might approach answering them."
      ]
    },
    {
      "cell_type": "markdown",
      "metadata": {
        "id": "LGrgVXGBpaWq"
      },
      "source": [
        "***What were the most popular video categories?***\n",
        "\n",
        "Looking at the category column in our dataset, we can add up how many trending videos were about Music, Gaming, Entertainment, etc. With these totals, we can create a bar chart that compares the total number of videos in each category.\n",
        "\n",
        "***Were there any similarities in theme between the most popular songs?***\n",
        "\n",
        "Looking at the tags column in our dataset, we can split up each cell into its individual tags and add up the number of each tag across all of the top videos. With these totals, we can create a bar chart that compares the frequencies of different tags.\n",
        "\n",
        "***What were the most popular channels in this dataset of trending videos?***\n",
        "\n",
        "Looking at the channels category in our dataset, we can add up how many trending videos come from each channel. With these totals, we can create a bar chart that compares the total number of videos from each channel.\n",
        "\n",
        "***How did each comment counts for trending videos fluctuate throughout the week?***\n",
        "\n",
        "We can repeat Exploration 2 with the comments column instead of the views column, creating a line graph of comments over time. If we had a similar question about the fluctuation of likes and dislikes over time, we could use the dislikes or likes columns instead.\n",
        "\n",
        "***Is the number of comments correlated with (related to) the number of likes and/or dislikes that a video receives?***\n",
        "\n",
        "While plotting the likes and dislikes in our final scatter plot, we can switch the number of views each video received with the comments it received. With this new graph, we can visually analyze the correlation between comments and dislikes or comments and likes.\n",
        "\n",
        "***Design your own exploration!***\n",
        "\n",
        "Review the questions you asked under \"Kickstart Your Curiosity\". What types of visualizations (bar graphs, line graphs, scatter plots, etc.) could we use to answer your questions? What would be on the x-axes and y-axes of your charts (if applicable)?"
      ]
    },
    {
      "cell_type": "markdown",
      "metadata": {
        "id": "l47c1ARSLbj0"
      },
      "source": [
        "\n",
        "\n",
        "---\n",
        "\n",
        "\n",
        "## **We value your feedback!**\n",
        "\n",
        "Please consider [filling out this quick form](https://forms.gle/2nxmHEfMvRp2UBQP9) to let us know what you thought about this activity.\n",
        "\n",
        "Help us improve our curriculum by telling us about your experience!"
      ]
    },
    {
      "cell_type": "markdown",
      "metadata": {
        "id": "RXQFX3vk-m5i"
      },
      "source": [
        "\n",
        "\n",
        "---\n",
        "\n",
        "\n",
        "# **Additional Resources**\n",
        "\n",
        "*More on **bar, line, and scatter graphs**:*\n",
        "*   A Complete Guide to [Bar Charts](https://chartio.com/learn/charts/bar-chart-complete-guide/)\n",
        "*   A Complete Guide to [Line Charts](https://chartio.com/learn/charts/line-chart-complete-guide/)\n",
        "*   A Complete Guide to [Scatter Plots](https://chartio.com/learn/charts/what-is-a-scatter-plot/)\n",
        "\n",
        "*More on **creating graphs in Python using the Pandas library**:*\n",
        "* Create a [simple bar chart](https://pandas.pydata.org/docs/reference/api/pandas.DataFrame.plot.bar.html)\n",
        "* Create a [simple line graph](https://pandas.pydata.org/docs/reference/api/pandas.DataFrame.plot.line.html)\n",
        "* Create a [simple scatter plot](https://pandas.pydata.org/docs/reference/api/pandas.DataFrame.plot.scatter.html)\n",
        "\n",
        "\n",
        "*More on **real world applications**:*\n",
        "* Data scientists [built a tool](https://towardsdatascience.com/youtube-views-predictor-9ec573090acb) to help YouTube influencers predict the number of views for their next video.\n",
        "* A data scientist analyzed 70k+ of YouTube's trending videos. [Here's what he learned.](https://thehustle.co/07102020-data-scientist-analyzed-youtube-videos/)\n",
        "\n",
        "*More on **data visualization**:*\n",
        "* Watch [Fanny Chevalier's talk](https://www.youtube.com/watch?v=8vkqeOiETQM&ab_channel=ICMEStudio) at Stanford's 2020 WiDS Conference\n",
        "* Data visualization [beginner's guide](https://www.tableau.com/learn/articles/data-visualization)\n",
        "* Coursera Guided Project: [Exploratory Data Analysis with Python and Pandas](https://www.coursera.org/projects/exploratory-data-analysis-python-pandas)\n",
        "(similar to this activity, but you get to write the code!)\n",
        "\n",
        "\n",
        "\n",
        "\n",
        "\n",
        "\n"
      ]
    }
  ]
}